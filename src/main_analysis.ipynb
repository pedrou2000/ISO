{
 "cells": [
  {
   "cell_type": "markdown",
   "metadata": {},
   "source": [
    "## Imports"
   ]
  },
  {
   "cell_type": "code",
   "execution_count": 1,
   "metadata": {},
   "outputs": [],
   "source": [
    "%load_ext autoreload\n",
    "%autoreload 2\n",
    "\n",
    "from time_series_generation import *\n",
    "from phid import *\n",
    "from network_analysis import *\n",
    "from hf_token import TOKEN\n",
    "\n",
    "import numpy as np\n",
    "import seaborn as sns\n",
    "import matplotlib.pyplot as plt"
   ]
  },
  {
   "cell_type": "code",
   "execution_count": 2,
   "metadata": {},
   "outputs": [
    {
     "name": "stdout",
     "output_type": "stream",
     "text": [
      "Thu May 16 12:38:47 2024       \n",
      "+---------------------------------------------------------------------------------------+\n",
      "| NVIDIA-SMI 535.171.04             Driver Version: 535.171.04   CUDA Version: 12.2     |\n",
      "|-----------------------------------------+----------------------+----------------------+\n",
      "| GPU  Name                 Persistence-M | Bus-Id        Disp.A | Volatile Uncorr. ECC |\n",
      "| Fan  Temp   Perf          Pwr:Usage/Cap |         Memory-Usage | GPU-Util  Compute M. |\n",
      "|                                         |                      |               MIG M. |\n",
      "|=========================================+======================+======================|\n",
      "|   0  NVIDIA A40                     Off | 00000000:02:00.0 Off |                    0 |\n",
      "|  0%   37C    P0              22W / 300W |      0MiB / 46068MiB |      0%      Default |\n",
      "|                                         |                      |                  N/A |\n",
      "+-----------------------------------------+----------------------+----------------------+\n",
      "                                                                                         \n",
      "+---------------------------------------------------------------------------------------+\n",
      "| Processes:                                                                            |\n",
      "|  GPU   GI   CI        PID   Type   Process name                            GPU Memory |\n",
      "|        ID   ID                                                             Usage      |\n",
      "|=======================================================================================|\n",
      "|  No running processes found                                                           |\n",
      "+---------------------------------------------------------------------------------------+\n"
     ]
    }
   ],
   "source": [
    "!nvidia-smi"
   ]
  },
  {
   "cell_type": "markdown",
   "metadata": {},
   "source": [
    "## Load the Time Series"
   ]
  },
  {
   "cell_type": "code",
   "execution_count": 3,
   "metadata": {},
   "outputs": [
    {
     "name": "stdout",
     "output_type": "stream",
     "text": [
      "torch.Size([5, 18, 8])\n"
     ]
    }
   ],
   "source": [
    "time_series = [load_time_series(i) for i in range(0,5)]\n",
    "# List to hold averaged attention weights for each prompt\n",
    "averaged_attention_weights_per_prompt = []\n",
    "\n",
    "for time_serie in time_series:\n",
    "    # Average the attention weights across all timesteps for each prompt\n",
    "    avg_attention_weights = torch.mean(time_serie[\"attention_weights\"], axis=2)\n",
    "    # Collect averaged attention weights\n",
    "    averaged_attention_weights_per_prompt.append(avg_attention_weights)\n",
    "\n",
    "category_attention_weights_tensor = torch.tensor(np.array(averaged_attention_weights_per_prompt))\n",
    "\n",
    "# Since we want [num_layers, num_heads, num_prompts], we transpose the axes\n",
    "print(category_attention_weights_tensor.shape)"
   ]
  },
  {
   "cell_type": "code",
   "execution_count": 4,
   "metadata": {},
   "outputs": [],
   "source": [
    "time_series = load_time_series(0) # Load the time series for the first 1000 tokens, choose from 0 to 4\n",
    "\n",
    "plot_attention_metrics_norms_over_time(time_series, metrics=constants.METRICS_TRANSFORMER , num_heads_plot=8, smoothing_window=10, save=False, layer_range=(1,9))\n",
    "plot_attention_metrics_norms_over_time(time_series, metrics=constants.METRICS_TRANSFORMER , num_heads_plot=8, smoothing_window=10, save=False, layer_range=(10,18))"
   ]
  },
  {
   "cell_type": "markdown",
   "metadata": {},
   "source": [
    "## Redundancy and Synergy Heatmaps"
   ]
  },
  {
   "cell_type": "code",
   "execution_count": 6,
   "metadata": {},
   "outputs": [
    {
     "ename": "KeyboardInterrupt",
     "evalue": "",
     "output_type": "error",
     "traceback": [
      "\u001b[0;31m---------------------------------------------------------------------------\u001b[0m",
      "\u001b[0;31mKeyboardInterrupt\u001b[0m                         Traceback (most recent call last)",
      "Cell \u001b[0;32mIn[6], line 4\u001b[0m\n\u001b[1;32m      1\u001b[0m \u001b[38;5;66;03m# time_series = [load_time_series(i) for i in range(0,5)]\u001b[39;00m\n\u001b[1;32m      2\u001b[0m \n\u001b[1;32m      3\u001b[0m \u001b[38;5;66;03m# for time_serie in time_series:\u001b[39;00m\n\u001b[0;32m----> 4\u001b[0m global_matrices, synergy_matrices, redundancy_matrices \u001b[38;5;241m=\u001b[39m \u001b[43mcompute_PhiID\u001b[49m\u001b[43m(\u001b[49m\u001b[43mtime_series\u001b[49m\u001b[43m,\u001b[49m\u001b[43m \u001b[49m\u001b[43mmetrics\u001b[49m\u001b[38;5;241;43m=\u001b[39;49m\u001b[43mconstants\u001b[49m\u001b[38;5;241;43m.\u001b[39;49m\u001b[43mMETRICS_TRANSFORMER\u001b[49m\u001b[43m,\u001b[49m\u001b[43m \u001b[49m\u001b[43msave\u001b[49m\u001b[38;5;241;43m=\u001b[39;49m\u001b[38;5;28;43;01mTrue\u001b[39;49;00m\u001b[43m,\u001b[49m\u001b[43m \u001b[49m\u001b[43mkind\u001b[49m\u001b[38;5;241;43m=\u001b[39;49m\u001b[38;5;124;43m\"\u001b[39;49m\u001b[38;5;124;43mgaussian\u001b[39;49m\u001b[38;5;124;43m\"\u001b[39;49m\u001b[43m)\u001b[49m\n\u001b[1;32m      5\u001b[0m plot_synergy_redundancy_PhiID(synergy_matrices, redundancy_matrices, save\u001b[38;5;241m=\u001b[39m\u001b[38;5;28;01mFalse\u001b[39;00m)\n\u001b[1;32m      6\u001b[0m \u001b[38;5;66;03m# plot_all_PhiID(global_matrices)\u001b[39;00m\n",
      "File \u001b[0;32m/vol/bitbucket/pu22/Synergy_Redundancy_LLMs/src/phid.py:30\u001b[0m, in \u001b[0;36mcompute_PhiID\u001b[0;34m(time_series, metrics, tau, kind, redundancy_measure, save, base_save_path)\u001b[0m\n\u001b[1;32m     27\u001b[0m src \u001b[38;5;241m=\u001b[39m flat_time_series[src_idx]\n\u001b[1;32m     28\u001b[0m trg \u001b[38;5;241m=\u001b[39m flat_time_series[trg_idx]\n\u001b[0;32m---> 30\u001b[0m atoms_res, calc_res \u001b[38;5;241m=\u001b[39m \u001b[43mcalc_PhiID\u001b[49m\u001b[43m(\u001b[49m\u001b[43msrc\u001b[49m\u001b[43m,\u001b[49m\u001b[43m \u001b[49m\u001b[43mtrg\u001b[49m\u001b[43m,\u001b[49m\u001b[43m \u001b[49m\u001b[43mtau\u001b[49m\u001b[43m,\u001b[49m\u001b[43m \u001b[49m\u001b[43mkind\u001b[49m\u001b[43m,\u001b[49m\u001b[43m \u001b[49m\u001b[43mredundancy_measure\u001b[49m\u001b[43m)\u001b[49m\n\u001b[1;32m     32\u001b[0m \u001b[38;5;28;01mfor\u001b[39;00m key \u001b[38;5;129;01min\u001b[39;00m keys:\n\u001b[1;32m     33\u001b[0m     global_matrices[key][src_idx, trg_idx] \u001b[38;5;241m=\u001b[39m np\u001b[38;5;241m.\u001b[39mmean(atoms_res[key])\n",
      "File \u001b[0;32m/vol/bitbucket/pu22/ai_venv/lib/python3.10/site-packages/phyid/calculate.py:216\u001b[0m, in \u001b[0;36mcalc_PhiID\u001b[0;34m(src, trg, tau, kind, redundancy)\u001b[0m\n\u001b[1;32m    214\u001b[0m rtr \u001b[38;5;241m=\u001b[39m _get_double_redundancy_four_vec(redundancy, calc_res)\n\u001b[1;32m    215\u001b[0m calc_res[\u001b[38;5;124m\"\u001b[39m\u001b[38;5;124mrtr\u001b[39m\u001b[38;5;124m\"\u001b[39m] \u001b[38;5;241m=\u001b[39m rtr\n\u001b[0;32m--> 216\u001b[0m atoms_res \u001b[38;5;241m=\u001b[39m \u001b[43m_get_atoms_four_vec\u001b[49m\u001b[43m(\u001b[49m\u001b[43mcalc_res\u001b[49m\u001b[43m)\u001b[49m\n\u001b[1;32m    218\u001b[0m \u001b[38;5;28;01mreturn\u001b[39;00m atoms_res, calc_res\n",
      "File \u001b[0;32m/vol/bitbucket/pu22/ai_venv/lib/python3.10/site-packages/phyid/calculate.py:152\u001b[0m, in \u001b[0;36m_get_atoms_four_vec\u001b[0;34m(calc_res)\u001b[0m\n\u001b[1;32m    125\u001b[0m knowns \u001b[38;5;241m=\u001b[39m np\u001b[38;5;241m.\u001b[39mc_[\n\u001b[1;32m    126\u001b[0m     rtr,\n\u001b[1;32m    127\u001b[0m     R_res[\u001b[38;5;124m\"\u001b[39m\u001b[38;5;124mR_xyta\u001b[39m\u001b[38;5;124m\"\u001b[39m], R_res[\u001b[38;5;124m\"\u001b[39m\u001b[38;5;124mR_xytb\u001b[39m\u001b[38;5;124m\"\u001b[39m], R_res[\u001b[38;5;124m\"\u001b[39m\u001b[38;5;124mR_xytab\u001b[39m\u001b[38;5;124m\"\u001b[39m],\n\u001b[0;32m   (...)\u001b[0m\n\u001b[1;32m    130\u001b[0m     I_res[\u001b[38;5;124m\"\u001b[39m\u001b[38;5;124mI_xyta\u001b[39m\u001b[38;5;124m\"\u001b[39m], I_res[\u001b[38;5;124m\"\u001b[39m\u001b[38;5;124mI_xytb\u001b[39m\u001b[38;5;124m\"\u001b[39m], I_res[\u001b[38;5;124m\"\u001b[39m\u001b[38;5;124mI_xtab\u001b[39m\u001b[38;5;124m\"\u001b[39m], I_res[\u001b[38;5;124m\"\u001b[39m\u001b[38;5;124mI_ytab\u001b[39m\u001b[38;5;124m\"\u001b[39m], I_res[\u001b[38;5;124m\"\u001b[39m\u001b[38;5;124mI_xytab\u001b[39m\u001b[38;5;124m\"\u001b[39m]\n\u001b[1;32m    131\u001b[0m ]\n\u001b[1;32m    133\u001b[0m knowns_to_atoms_mat \u001b[38;5;241m=\u001b[39m [\n\u001b[1;32m    134\u001b[0m     [\u001b[38;5;241m1\u001b[39m, \u001b[38;5;241m0\u001b[39m, \u001b[38;5;241m0\u001b[39m, \u001b[38;5;241m0\u001b[39m, \u001b[38;5;241m0\u001b[39m, \u001b[38;5;241m0\u001b[39m, \u001b[38;5;241m0\u001b[39m, \u001b[38;5;241m0\u001b[39m, \u001b[38;5;241m0\u001b[39m, \u001b[38;5;241m0\u001b[39m, \u001b[38;5;241m0\u001b[39m, \u001b[38;5;241m0\u001b[39m, \u001b[38;5;241m0\u001b[39m, \u001b[38;5;241m0\u001b[39m, \u001b[38;5;241m0\u001b[39m, \u001b[38;5;241m0\u001b[39m],  \u001b[38;5;66;03m# rtr\u001b[39;00m\n\u001b[1;32m    135\u001b[0m     [\u001b[38;5;241m1\u001b[39m, \u001b[38;5;241m1\u001b[39m, \u001b[38;5;241m0\u001b[39m, \u001b[38;5;241m0\u001b[39m, \u001b[38;5;241m0\u001b[39m, \u001b[38;5;241m0\u001b[39m, \u001b[38;5;241m0\u001b[39m, \u001b[38;5;241m0\u001b[39m, \u001b[38;5;241m0\u001b[39m, \u001b[38;5;241m0\u001b[39m, \u001b[38;5;241m0\u001b[39m, \u001b[38;5;241m0\u001b[39m, \u001b[38;5;241m0\u001b[39m, \u001b[38;5;241m0\u001b[39m, \u001b[38;5;241m0\u001b[39m, \u001b[38;5;241m0\u001b[39m],  \u001b[38;5;66;03m# Rxyta\u001b[39;00m\n\u001b[0;32m   (...)\u001b[0m\n\u001b[1;32m    149\u001b[0m     [\u001b[38;5;241m1\u001b[39m, \u001b[38;5;241m1\u001b[39m, \u001b[38;5;241m1\u001b[39m, \u001b[38;5;241m1\u001b[39m, \u001b[38;5;241m1\u001b[39m, \u001b[38;5;241m1\u001b[39m, \u001b[38;5;241m1\u001b[39m, \u001b[38;5;241m1\u001b[39m, \u001b[38;5;241m1\u001b[39m, \u001b[38;5;241m1\u001b[39m, \u001b[38;5;241m1\u001b[39m, \u001b[38;5;241m1\u001b[39m, \u001b[38;5;241m1\u001b[39m, \u001b[38;5;241m1\u001b[39m, \u001b[38;5;241m1\u001b[39m, \u001b[38;5;241m1\u001b[39m],  \u001b[38;5;66;03m# Ixytab\u001b[39;00m\n\u001b[1;32m    150\u001b[0m ]\n\u001b[0;32m--> 152\u001b[0m atoms_mat \u001b[38;5;241m=\u001b[39m \u001b[43mnp\u001b[49m\u001b[38;5;241;43m.\u001b[39;49m\u001b[43mlinalg\u001b[49m\u001b[38;5;241;43m.\u001b[39;49m\u001b[43msolve\u001b[49m\u001b[43m(\u001b[49m\u001b[43mknowns_to_atoms_mat\u001b[49m\u001b[43m,\u001b[49m\u001b[43m \u001b[49m\u001b[43mknowns\u001b[49m\u001b[38;5;241;43m.\u001b[39;49m\u001b[43mT\u001b[49m\u001b[43m)\u001b[49m\n\u001b[1;32m    153\u001b[0m atoms_res \u001b[38;5;241m=\u001b[39m {_: atoms_mat[i, :] \u001b[38;5;28;01mfor\u001b[39;00m i, _ \u001b[38;5;129;01min\u001b[39;00m \u001b[38;5;28menumerate\u001b[39m(PhiID_atoms_abbr)}\n\u001b[1;32m    154\u001b[0m \u001b[38;5;28;01mreturn\u001b[39;00m atoms_res\n",
      "File \u001b[0;32m/vol/bitbucket/pu22/ai_venv/lib/python3.10/site-packages/numpy/linalg/linalg.py:409\u001b[0m, in \u001b[0;36msolve\u001b[0;34m(a, b)\u001b[0m\n\u001b[1;32m    407\u001b[0m signature \u001b[38;5;241m=\u001b[39m \u001b[38;5;124m'\u001b[39m\u001b[38;5;124mDD->D\u001b[39m\u001b[38;5;124m'\u001b[39m \u001b[38;5;28;01mif\u001b[39;00m isComplexType(t) \u001b[38;5;28;01melse\u001b[39;00m \u001b[38;5;124m'\u001b[39m\u001b[38;5;124mdd->d\u001b[39m\u001b[38;5;124m'\u001b[39m\n\u001b[1;32m    408\u001b[0m extobj \u001b[38;5;241m=\u001b[39m get_linalg_error_extobj(_raise_linalgerror_singular)\n\u001b[0;32m--> 409\u001b[0m r \u001b[38;5;241m=\u001b[39m \u001b[43mgufunc\u001b[49m\u001b[43m(\u001b[49m\u001b[43ma\u001b[49m\u001b[43m,\u001b[49m\u001b[43m \u001b[49m\u001b[43mb\u001b[49m\u001b[43m,\u001b[49m\u001b[43m \u001b[49m\u001b[43msignature\u001b[49m\u001b[38;5;241;43m=\u001b[39;49m\u001b[43msignature\u001b[49m\u001b[43m,\u001b[49m\u001b[43m \u001b[49m\u001b[43mextobj\u001b[49m\u001b[38;5;241;43m=\u001b[39;49m\u001b[43mextobj\u001b[49m\u001b[43m)\u001b[49m\n\u001b[1;32m    411\u001b[0m \u001b[38;5;28;01mreturn\u001b[39;00m wrap(r\u001b[38;5;241m.\u001b[39mastype(result_t, copy\u001b[38;5;241m=\u001b[39m\u001b[38;5;28;01mFalse\u001b[39;00m))\n",
      "\u001b[0;31mKeyboardInterrupt\u001b[0m: "
     ]
    }
   ],
   "source": [
    "# time_series = [load_time_series(i) for i in range(0,5)]\n",
    "\n",
    "# for time_serie in time_series:\n",
    "global_matrices, synergy_matrices, redundancy_matrices = compute_PhiID(time_series, metrics=constants.METRICS_TRANSFORMER, save=True, kind=\"gaussian\")\n",
    "plot_synergy_redundancy_PhiID(synergy_matrices, redundancy_matrices, save=False)\n",
    "# plot_all_PhiID(global_matrices)"
   ]
  },
  {
   "cell_type": "markdown",
   "metadata": {},
   "source": [
    "## Synergy-Redundancy Gradients"
   ]
  },
  {
   "cell_type": "code",
   "execution_count": 4,
   "metadata": {},
   "outputs": [],
   "source": [
    "averages = calculate_averages_per_head(synergy_matrices, redundancy_matrices)\n",
    "plot_averages_per_head(averages, save=True)"
   ]
  },
  {
   "cell_type": "code",
   "execution_count": 5,
   "metadata": {},
   "outputs": [],
   "source": [
    "rank_gradients = compute_synergy_redundancy_rank_gradient(averages)\n",
    "plot_synergy_redundancy_rank_gradient(rank_gradients, save=True)"
   ]
  },
  {
   "cell_type": "code",
   "execution_count": 6,
   "metadata": {},
   "outputs": [],
   "source": [
    "gradient_percentiles = compute_gradient_percentile(averages)\n",
    "plot_gradient_percentile(gradient_percentiles, save=True)"
   ]
  },
  {
   "cell_type": "markdown",
   "metadata": {},
   "source": [
    "## Graph Connetivity"
   ]
  },
  {
   "cell_type": "code",
   "execution_count": 20,
   "metadata": {},
   "outputs": [],
   "source": [
    "global_matrices, synergy_matrices, redundancy_matrices = load_matrices(0)"
   ]
  },
  {
   "cell_type": "code",
   "execution_count": 32,
   "metadata": {},
   "outputs": [
    {
     "name": "stdout",
     "output_type": "stream",
     "text": [
      "{0: {'glob_eff_syn': 0.12520855535576708, 'glob_eff_red': 0.0676212957918008, 'glob_eff_syn > glob_eff_red': True}, 1: {'glob_eff_syn': 0.12441578327172555, 'glob_eff_red': 0.10624116318690546, 'glob_eff_syn > glob_eff_red': True}, 2: {'glob_eff_syn': 0.12620720104454766, 'glob_eff_red': 0.06292097989876452, 'glob_eff_syn > glob_eff_red': True}, 3: {'glob_eff_syn': 0.13571356531134962, 'glob_eff_red': 0.069839256121583, 'glob_eff_syn > glob_eff_red': True}}\n",
      "{0: {'modularity_synergy': 0.09468362387190232, 'modularity_redundancy': 0.05296919517907389, 'modularity_redundancy > modularity_synergy': False}, 1: {'modularity_synergy': 0.08934863317535824, 'modularity_redundancy': 0.07101217879011162, 'modularity_redundancy > modularity_synergy': False}, 2: {'modularity_synergy': 0.10060508746386987, 'modularity_redundancy': 0.053820017916643814, 'modularity_redundancy > modularity_synergy': False}, 3: {'modularity_synergy': 0.10575878002091554, 'modularity_redundancy': 0.05009004071555845, 'modularity_redundancy > modularity_synergy': False}}\n"
     ]
    }
   ],
   "source": [
    "glob_eff_attention_weights = {}\n",
    "glob_mod_attention_weights = {}\n",
    "\n",
    "for i in range(0,4):\n",
    "    global_matrices, synergy_matrices, redundancy_matrices = load_matrices(i)\n",
    "    efficiency_results, modularity_results = compare_synergy_redundancy(synergy_matrices, redundancy_matrices, constants.METRICS_TRANSFORMER, verbose=False)\n",
    "    glob_eff_attention_weights[i] = efficiency_results[\"attention_weights\"]\n",
    "    glob_mod_attention_weights[i] = modularity_results[\"attention_weights\"]\n",
    "print(glob_eff_attention_weights)\n",
    "print(glob_mod_attention_weights)\n"
   ]
  },
  {
   "cell_type": "code",
   "execution_count": 33,
   "metadata": {},
   "outputs": [
    {
     "name": "stdout",
     "output_type": "stream",
     "text": [
      "Global Efficiency - Synergy: Mean = 0.12788627624584747 , SD = 0.004563448758755599\n",
      "Global Efficiency - Redundancy: Mean = 0.07665567374976345 , SD = 0.017262868640415763\n",
      "Modularity - Synergy: Mean = 0.0975990311330115 , SD = 0.0061681954925189054\n",
      "Modularity - Redundancy: Mean = 0.056972858150346944 , SD = 0.00822261239803919\n"
     ]
    }
   ],
   "source": [
    "# Function to compute mean and standard deviation\n",
    "def compute_stats(data_dict, key):\n",
    "    values = [run[key] for run in data_dict.values()]\n",
    "    mean_val = np.mean(values)\n",
    "    std_val = np.std(values)\n",
    "    return mean_val, std_val\n",
    "\n",
    "# Calculate for global efficiency\n",
    "mean_glob_eff_syn, std_glob_eff_syn = compute_stats(glob_eff_attention_weights, 'glob_eff_syn')\n",
    "mean_glob_eff_red, std_glob_eff_red = compute_stats(glob_eff_attention_weights, 'glob_eff_red')\n",
    "\n",
    "# Calculate for modularity\n",
    "mean_modularity_synergy, std_modularity_synergy = compute_stats(glob_mod_attention_weights, 'modularity_synergy')\n",
    "mean_modularity_redundancy, std_modularity_redundancy = compute_stats(glob_mod_attention_weights, 'modularity_redundancy')\n",
    "\n",
    "# Print the results\n",
    "print(\"Global Efficiency - Synergy: Mean =\", mean_glob_eff_syn, \", SD =\", std_glob_eff_syn)\n",
    "print(\"Global Efficiency - Redundancy: Mean =\", mean_glob_eff_red, \", SD =\", std_glob_eff_red)\n",
    "print(\"Modularity - Synergy: Mean =\", mean_modularity_synergy, \", SD =\", std_modularity_synergy)\n",
    "print(\"Modularity - Redundancy: Mean =\", mean_modularity_redundancy, \", SD =\", std_modularity_redundancy)\n"
   ]
  }
 ],
 "metadata": {
  "kernelspec": {
   "display_name": "Python (ai_venv)",
   "language": "python",
   "name": "ai_venv"
  },
  "language_info": {
   "codemirror_mode": {
    "name": "ipython",
    "version": 3
   },
   "file_extension": ".py",
   "mimetype": "text/x-python",
   "name": "python",
   "nbconvert_exporter": "python",
   "pygments_lexer": "ipython3",
   "version": "3.10.12"
  }
 },
 "nbformat": 4,
 "nbformat_minor": 2
}

{
 "cells": [
  {
   "cell_type": "markdown",
   "metadata": {},
   "source": [
    "## Imports"
   ]
  },
  {
   "cell_type": "code",
   "execution_count": 1,
   "metadata": {},
   "outputs": [],
   "source": [
    "from time_series_generation import *\n",
    "from phid import *\n",
    "from network_analysis import *\n",
    "from hf_token import TOKEN"
   ]
  },
  {
   "cell_type": "markdown",
   "metadata": {},
   "source": [
    "## Load the Time Series"
   ]
  },
  {
   "cell_type": "code",
   "execution_count": 3,
   "metadata": {},
   "outputs": [],
   "source": [
    "selected_metrics = ['projected_Q', 'attention_weights', 'attention_outputs']\n",
    "time_series = load_time_series(0)\n",
    "\n",
    "plot_attention_metrics_norms_over_time(time_series, metrics=selected_metrics, num_heads_plot=8, smoothing_window=10)"
   ]
  },
  {
   "cell_type": "markdown",
   "metadata": {},
   "source": [
    "## Redundancy and Synergy Heatmaps"
   ]
  },
  {
   "cell_type": "code",
   "execution_count": 10,
   "metadata": {},
   "outputs": [
    {
     "ename": "LinAlgError",
     "evalue": "When `allow_singular is False`, the input matrix must be symmetric positive definite.",
     "output_type": "error",
     "traceback": [
      "\u001b[0;31m---------------------------------------------------------------------------\u001b[0m",
      "\u001b[0;31mLinAlgError\u001b[0m                               Traceback (most recent call last)",
      "Cell \u001b[0;32mIn[10], line 1\u001b[0m\n\u001b[0;32m----> 1\u001b[0m global_matrices, synergy_matrices, redundancy_matrices \u001b[38;5;241m=\u001b[39m \u001b[43mcompute_PhiID\u001b[49m\u001b[43m(\u001b[49m\u001b[43mtime_series\u001b[49m\u001b[43m,\u001b[49m\u001b[43m \u001b[49m\u001b[43mmetrics\u001b[49m\u001b[38;5;241;43m=\u001b[39;49m\u001b[43mselected_metrics\u001b[49m\u001b[43m)\u001b[49m\n\u001b[1;32m      2\u001b[0m plot_synergy_redundancy_PhiID(synergy_matrices, redundancy_matrices)\n\u001b[1;32m      3\u001b[0m plot_all_PhiID(global_matrices)\n",
      "File \u001b[0;32m/vol/bitbucket/pu22/Synergy_Redundancy_LLMs/src/phid.py:18\u001b[0m, in \u001b[0;36mcompute_PhiID\u001b[0;34m(time_series, metrics, tau, kind, redundancy_measure)\u001b[0m\n\u001b[1;32m     15\u001b[0m total_heads \u001b[38;5;241m=\u001b[39m num_layers \u001b[38;5;241m*\u001b[39m num_heads_per_layer\n\u001b[1;32m     17\u001b[0m \u001b[38;5;66;03m# Assuming calc_PhiID can work with example inputs to determine keys\u001b[39;00m\n\u001b[0;32m---> 18\u001b[0m example_res, _ \u001b[38;5;241m=\u001b[39m \u001b[43mcalc_PhiID\u001b[49m\u001b[43m(\u001b[49m\u001b[43mtime_series\u001b[49m\u001b[43m[\u001b[49m\u001b[43mmetric\u001b[49m\u001b[43m]\u001b[49m\u001b[43m[\u001b[49m\u001b[38;5;241;43m0\u001b[39;49m\u001b[43m]\u001b[49m\u001b[43m[\u001b[49m\u001b[38;5;241;43m0\u001b[39;49m\u001b[43m]\u001b[49m\u001b[43m,\u001b[49m\u001b[43m \u001b[49m\u001b[43mtime_series\u001b[49m\u001b[43m[\u001b[49m\u001b[43mmetric\u001b[49m\u001b[43m]\u001b[49m\u001b[43m[\u001b[49m\u001b[38;5;241;43m0\u001b[39;49m\u001b[43m]\u001b[49m\u001b[43m[\u001b[49m\u001b[38;5;241;43m1\u001b[39;49m\u001b[43m]\u001b[49m\u001b[43m,\u001b[49m\u001b[43m \u001b[49m\u001b[43mtau\u001b[49m\u001b[43m,\u001b[49m\u001b[43m \u001b[49m\u001b[43mkind\u001b[49m\u001b[43m,\u001b[49m\u001b[43m \u001b[49m\u001b[43mredundancy_measure\u001b[49m\u001b[43m)\u001b[49m\n\u001b[1;32m     19\u001b[0m keys \u001b[38;5;241m=\u001b[39m \u001b[38;5;28mlist\u001b[39m(example_res\u001b[38;5;241m.\u001b[39mkeys())\n\u001b[1;32m     21\u001b[0m \u001b[38;5;66;03m# Initialize global matrices for each key within this metric\u001b[39;00m\n",
      "File \u001b[0;32m/vol/bitbucket/pu22/ai_venv/lib/python3.10/site-packages/phyid/calculate.py:206\u001b[0m, in \u001b[0;36mcalc_PhiID\u001b[0;34m(src, trg, tau, kind, redundancy)\u001b[0m\n\u001b[1;32m    203\u001b[0m \u001b[38;5;28;01melse\u001b[39;00m:\n\u001b[1;32m    204\u001b[0m     \u001b[38;5;28;01mraise\u001b[39;00m \u001b[38;5;167;01mValueError\u001b[39;00m(\u001b[38;5;124m\"\u001b[39m\u001b[38;5;124mkind must be one of \u001b[39m\u001b[38;5;124m'\u001b[39m\u001b[38;5;124mgaussian\u001b[39m\u001b[38;5;124m'\u001b[39m\u001b[38;5;124m or \u001b[39m\u001b[38;5;124m'\u001b[39m\u001b[38;5;124mdiscrete\u001b[39m\u001b[38;5;124m'\u001b[39m\u001b[38;5;124m\"\u001b[39m)\n\u001b[0;32m--> 206\u001b[0m h_res \u001b[38;5;241m=\u001b[39m \u001b[43m_get_entropy_four_vec\u001b[49m\u001b[43m(\u001b[49m\u001b[43mX_input\u001b[49m\u001b[43m,\u001b[49m\u001b[43m \u001b[49m\u001b[43mkind\u001b[49m\u001b[38;5;241;43m=\u001b[39;49m\u001b[43mkind\u001b[49m\u001b[43m)\u001b[49m\n\u001b[1;32m    207\u001b[0m I_res \u001b[38;5;241m=\u001b[39m _get_coinfo_four_vec(h_res)\n\u001b[1;32m    208\u001b[0m R_res \u001b[38;5;241m=\u001b[39m _get_redundancy_four_vec(redundancy, I_res)\n",
      "File \u001b[0;32m/vol/bitbucket/pu22/ai_venv/lib/python3.10/site-packages/phyid/calculate.py:38\u001b[0m, in \u001b[0;36m_get_entropy_four_vec\u001b[0;34m(X, kind)\u001b[0m\n\u001b[1;32m     29\u001b[0m     \u001b[38;5;28;01mraise\u001b[39;00m \u001b[38;5;167;01mValueError\u001b[39;00m(\u001b[38;5;124m\"\u001b[39m\u001b[38;5;124mkind must be one of \u001b[39m\u001b[38;5;124m'\u001b[39m\u001b[38;5;124mgaussian\u001b[39m\u001b[38;5;124m'\u001b[39m\u001b[38;5;124m or \u001b[39m\u001b[38;5;124m'\u001b[39m\u001b[38;5;124mdiscrete\u001b[39m\u001b[38;5;124m'\u001b[39m\u001b[38;5;124m\"\u001b[39m)\n\u001b[1;32m     31\u001b[0m p1, p2, t1, t2 \u001b[38;5;241m=\u001b[39m [\u001b[38;5;241m0\u001b[39m, \u001b[38;5;241m1\u001b[39m, \u001b[38;5;241m2\u001b[39m, \u001b[38;5;241m3\u001b[39m]\n\u001b[1;32m     33\u001b[0m h_res \u001b[38;5;241m=\u001b[39m {\n\u001b[1;32m     34\u001b[0m     \u001b[38;5;124m\"\u001b[39m\u001b[38;5;124mh_p1\u001b[39m\u001b[38;5;124m\"\u001b[39m: _h([p1]),\n\u001b[1;32m     35\u001b[0m     \u001b[38;5;124m\"\u001b[39m\u001b[38;5;124mh_p2\u001b[39m\u001b[38;5;124m\"\u001b[39m: _h([p2]),\n\u001b[1;32m     36\u001b[0m     \u001b[38;5;124m\"\u001b[39m\u001b[38;5;124mh_t1\u001b[39m\u001b[38;5;124m\"\u001b[39m: _h([t1]),\n\u001b[1;32m     37\u001b[0m     \u001b[38;5;124m\"\u001b[39m\u001b[38;5;124mh_t2\u001b[39m\u001b[38;5;124m\"\u001b[39m: _h([t2]),\n\u001b[0;32m---> 38\u001b[0m     \u001b[38;5;124m\"\u001b[39m\u001b[38;5;124mh_p1p2\u001b[39m\u001b[38;5;124m\"\u001b[39m: \u001b[43m_h\u001b[49m\u001b[43m(\u001b[49m\u001b[43m[\u001b[49m\u001b[43mp1\u001b[49m\u001b[43m,\u001b[49m\u001b[43m \u001b[49m\u001b[43mp2\u001b[49m\u001b[43m]\u001b[49m\u001b[43m)\u001b[49m,\n\u001b[1;32m     39\u001b[0m     \u001b[38;5;124m\"\u001b[39m\u001b[38;5;124mh_t1t2\u001b[39m\u001b[38;5;124m\"\u001b[39m: _h([t1, t2]),\n\u001b[1;32m     40\u001b[0m     \u001b[38;5;124m\"\u001b[39m\u001b[38;5;124mh_p1t1\u001b[39m\u001b[38;5;124m\"\u001b[39m: _h([p1, t1]),\n\u001b[1;32m     41\u001b[0m     \u001b[38;5;124m\"\u001b[39m\u001b[38;5;124mh_p1t2\u001b[39m\u001b[38;5;124m\"\u001b[39m: _h([p1, t2]),\n\u001b[1;32m     42\u001b[0m     \u001b[38;5;124m\"\u001b[39m\u001b[38;5;124mh_p2t1\u001b[39m\u001b[38;5;124m\"\u001b[39m: _h([p2, t1]),\n\u001b[1;32m     43\u001b[0m     \u001b[38;5;124m\"\u001b[39m\u001b[38;5;124mh_p2t2\u001b[39m\u001b[38;5;124m\"\u001b[39m: _h([p2, t2]),\n\u001b[1;32m     44\u001b[0m     \u001b[38;5;124m\"\u001b[39m\u001b[38;5;124mh_p1p2t1\u001b[39m\u001b[38;5;124m\"\u001b[39m: _h([p1, p2, t1]),\n\u001b[1;32m     45\u001b[0m     \u001b[38;5;124m\"\u001b[39m\u001b[38;5;124mh_p1p2t2\u001b[39m\u001b[38;5;124m\"\u001b[39m: _h([p1, p2, t2]),\n\u001b[1;32m     46\u001b[0m     \u001b[38;5;124m\"\u001b[39m\u001b[38;5;124mh_p1t1t2\u001b[39m\u001b[38;5;124m\"\u001b[39m: _h([p1, t1, t2]),\n\u001b[1;32m     47\u001b[0m     \u001b[38;5;124m\"\u001b[39m\u001b[38;5;124mh_p2t1t2\u001b[39m\u001b[38;5;124m\"\u001b[39m: _h([p2, t1, t2]),\n\u001b[1;32m     48\u001b[0m     \u001b[38;5;124m\"\u001b[39m\u001b[38;5;124mh_p1p2t1t2\u001b[39m\u001b[38;5;124m\"\u001b[39m: _h([p1, p2, t1, t2]),\n\u001b[1;32m     49\u001b[0m }\n\u001b[1;32m     50\u001b[0m \u001b[38;5;28;01mreturn\u001b[39;00m h_res\n",
      "File \u001b[0;32m/vol/bitbucket/pu22/ai_venv/lib/python3.10/site-packages/phyid/calculate.py:24\u001b[0m, in \u001b[0;36m_get_entropy_four_vec.<locals>._h\u001b[0;34m(idx)\u001b[0m\n\u001b[1;32m     23\u001b[0m \u001b[38;5;28;01mdef\u001b[39;00m \u001b[38;5;21m_h\u001b[39m(idx):\n\u001b[0;32m---> 24\u001b[0m     \u001b[38;5;28;01mreturn\u001b[39;00m \u001b[43mlocal_entropy_mvn\u001b[49m\u001b[43m(\u001b[49m\u001b[43mX\u001b[49m\u001b[43m[\u001b[49m\u001b[43midx\u001b[49m\u001b[43m]\u001b[49m\u001b[38;5;241;43m.\u001b[39;49m\u001b[43mT\u001b[49m\u001b[43m,\u001b[49m\u001b[43m \u001b[49m\u001b[43mX_mu\u001b[49m\u001b[43m[\u001b[49m\u001b[43midx\u001b[49m\u001b[43m]\u001b[49m\u001b[43m,\u001b[49m\u001b[43m \u001b[49m\u001b[43mX_cov\u001b[49m\u001b[43m[\u001b[49m\u001b[43mnp\u001b[49m\u001b[38;5;241;43m.\u001b[39;49m\u001b[43mix_\u001b[49m\u001b[43m(\u001b[49m\u001b[43midx\u001b[49m\u001b[43m,\u001b[49m\u001b[43m \u001b[49m\u001b[43midx\u001b[49m\u001b[43m)\u001b[49m\u001b[43m]\u001b[49m\u001b[43m)\u001b[49m\n",
      "File \u001b[0;32m/vol/bitbucket/pu22/ai_venv/lib/python3.10/site-packages/phyid/measures.py:28\u001b[0m, in \u001b[0;36mlocal_entropy_mvn\u001b[0;34m(x, mu, cov)\u001b[0m\n\u001b[1;32m     10\u001b[0m \u001b[38;5;28;01mdef\u001b[39;00m \u001b[38;5;21mlocal_entropy_mvn\u001b[39m(x, mu, cov):\n\u001b[1;32m     11\u001b[0m \u001b[38;5;250m    \u001b[39m\u001b[38;5;124;03m\"\"\"\u001b[39;00m\n\u001b[1;32m     12\u001b[0m \u001b[38;5;124;03m    Calculate the local entropy based on multivariate normal distribution.\u001b[39;00m\n\u001b[1;32m     13\u001b[0m \n\u001b[0;32m   (...)\u001b[0m\n\u001b[1;32m     26\u001b[0m \u001b[38;5;124;03m        local entropy\u001b[39;00m\n\u001b[1;32m     27\u001b[0m \u001b[38;5;124;03m    \"\"\"\u001b[39;00m\n\u001b[0;32m---> 28\u001b[0m     \u001b[38;5;28;01mreturn\u001b[39;00m \u001b[38;5;241m-\u001b[39mnp\u001b[38;5;241m.\u001b[39mlog(\u001b[43msstats\u001b[49m\u001b[38;5;241;43m.\u001b[39;49m\u001b[43mmultivariate_normal\u001b[49m\u001b[38;5;241;43m.\u001b[39;49m\u001b[43mpdf\u001b[49m\u001b[43m(\u001b[49m\u001b[43mx\u001b[49m\u001b[43m,\u001b[49m\u001b[43m \u001b[49m\u001b[43mmu\u001b[49m\u001b[43m,\u001b[49m\u001b[43m \u001b[49m\u001b[43mcov\u001b[49m\u001b[43m)\u001b[49m)\n",
      "File \u001b[0;32m/vol/bitbucket/pu22/ai_venv/lib/python3.10/site-packages/scipy/stats/_multivariate.py:584\u001b[0m, in \u001b[0;36mmultivariate_normal_gen.pdf\u001b[0;34m(self, x, mean, cov, allow_singular)\u001b[0m\n\u001b[1;32m    565\u001b[0m \u001b[38;5;28;01mdef\u001b[39;00m \u001b[38;5;21mpdf\u001b[39m(\u001b[38;5;28mself\u001b[39m, x, mean\u001b[38;5;241m=\u001b[39m\u001b[38;5;28;01mNone\u001b[39;00m, cov\u001b[38;5;241m=\u001b[39m\u001b[38;5;241m1\u001b[39m, allow_singular\u001b[38;5;241m=\u001b[39m\u001b[38;5;28;01mFalse\u001b[39;00m):\n\u001b[1;32m    566\u001b[0m \u001b[38;5;250m    \u001b[39m\u001b[38;5;124;03m\"\"\"Multivariate normal probability density function.\u001b[39;00m\n\u001b[1;32m    567\u001b[0m \n\u001b[1;32m    568\u001b[0m \u001b[38;5;124;03m    Parameters\u001b[39;00m\n\u001b[0;32m   (...)\u001b[0m\n\u001b[1;32m    582\u001b[0m \n\u001b[1;32m    583\u001b[0m \u001b[38;5;124;03m    \"\"\"\u001b[39;00m\n\u001b[0;32m--> 584\u001b[0m     params \u001b[38;5;241m=\u001b[39m \u001b[38;5;28;43mself\u001b[39;49m\u001b[38;5;241;43m.\u001b[39;49m\u001b[43m_process_parameters\u001b[49m\u001b[43m(\u001b[49m\u001b[43mmean\u001b[49m\u001b[43m,\u001b[49m\u001b[43m \u001b[49m\u001b[43mcov\u001b[49m\u001b[43m,\u001b[49m\u001b[43m \u001b[49m\u001b[43mallow_singular\u001b[49m\u001b[43m)\u001b[49m\n\u001b[1;32m    585\u001b[0m     dim, mean, cov_object \u001b[38;5;241m=\u001b[39m params\n\u001b[1;32m    586\u001b[0m     x \u001b[38;5;241m=\u001b[39m \u001b[38;5;28mself\u001b[39m\u001b[38;5;241m.\u001b[39m_process_quantiles(x, dim)\n",
      "File \u001b[0;32m/vol/bitbucket/pu22/ai_venv/lib/python3.10/site-packages/scipy/stats/_multivariate.py:421\u001b[0m, in \u001b[0;36mmultivariate_normal_gen._process_parameters\u001b[0;34m(self, mean, cov, allow_singular)\u001b[0m\n\u001b[1;32m    414\u001b[0m dim, mean, cov \u001b[38;5;241m=\u001b[39m \u001b[38;5;28mself\u001b[39m\u001b[38;5;241m.\u001b[39m_process_parameters_psd(\u001b[38;5;28;01mNone\u001b[39;00m, mean, cov)\n\u001b[1;32m    415\u001b[0m \u001b[38;5;66;03m# After input validation, some methods then processed the arrays\u001b[39;00m\n\u001b[1;32m    416\u001b[0m \u001b[38;5;66;03m# with a `_PSD` object and used that to perform computation.\u001b[39;00m\n\u001b[1;32m    417\u001b[0m \u001b[38;5;66;03m# To avoid branching statements in each method depending on whether\u001b[39;00m\n\u001b[1;32m    418\u001b[0m \u001b[38;5;66;03m# `cov` is an array or `Covariance` object, we always process the\u001b[39;00m\n\u001b[1;32m    419\u001b[0m \u001b[38;5;66;03m# array with `_PSD`, and then use wrapper that satisfies the\u001b[39;00m\n\u001b[1;32m    420\u001b[0m \u001b[38;5;66;03m# `Covariance` interface, `CovViaPSD`.\u001b[39;00m\n\u001b[0;32m--> 421\u001b[0m psd \u001b[38;5;241m=\u001b[39m \u001b[43m_PSD\u001b[49m\u001b[43m(\u001b[49m\u001b[43mcov\u001b[49m\u001b[43m,\u001b[49m\u001b[43m \u001b[49m\u001b[43mallow_singular\u001b[49m\u001b[38;5;241;43m=\u001b[39;49m\u001b[43mallow_singular\u001b[49m\u001b[43m)\u001b[49m\n\u001b[1;32m    422\u001b[0m cov_object \u001b[38;5;241m=\u001b[39m _covariance\u001b[38;5;241m.\u001b[39mCovViaPSD(psd)\n\u001b[1;32m    423\u001b[0m \u001b[38;5;28;01mreturn\u001b[39;00m dim, mean, cov_object\n",
      "File \u001b[0;32m/vol/bitbucket/pu22/ai_venv/lib/python3.10/site-packages/scipy/stats/_multivariate.py:174\u001b[0m, in \u001b[0;36m_PSD.__init__\u001b[0;34m(self, M, cond, rcond, lower, check_finite, allow_singular)\u001b[0m\n\u001b[1;32m    171\u001b[0m \u001b[38;5;28;01mif\u001b[39;00m \u001b[38;5;28mlen\u001b[39m(d) \u001b[38;5;241m<\u001b[39m \u001b[38;5;28mlen\u001b[39m(s) \u001b[38;5;129;01mand\u001b[39;00m \u001b[38;5;129;01mnot\u001b[39;00m allow_singular:\n\u001b[1;32m    172\u001b[0m     msg \u001b[38;5;241m=\u001b[39m (\u001b[38;5;124m\"\u001b[39m\u001b[38;5;124mWhen `allow_singular is False`, the input matrix must be \u001b[39m\u001b[38;5;124m\"\u001b[39m\n\u001b[1;32m    173\u001b[0m            \u001b[38;5;124m\"\u001b[39m\u001b[38;5;124msymmetric positive definite.\u001b[39m\u001b[38;5;124m\"\u001b[39m)\n\u001b[0;32m--> 174\u001b[0m     \u001b[38;5;28;01mraise\u001b[39;00m np\u001b[38;5;241m.\u001b[39mlinalg\u001b[38;5;241m.\u001b[39mLinAlgError(msg)\n\u001b[1;32m    175\u001b[0m s_pinv \u001b[38;5;241m=\u001b[39m _pinv_1d(s, eps)\n\u001b[1;32m    176\u001b[0m U \u001b[38;5;241m=\u001b[39m np\u001b[38;5;241m.\u001b[39mmultiply(u, np\u001b[38;5;241m.\u001b[39msqrt(s_pinv))\n",
      "\u001b[0;31mLinAlgError\u001b[0m: When `allow_singular is False`, the input matrix must be symmetric positive definite."
     ]
    }
   ],
   "source": [
    "global_matrices, synergy_matrices, redundancy_matrices = compute_PhiID(time_series, metrics=selected_metrics)\n",
    "plot_synergy_redundancy_PhiID(synergy_matrices, redundancy_matrices)\n",
    "plot_all_PhiID(global_matrices)"
   ]
  },
  {
   "cell_type": "markdown",
   "metadata": {},
   "source": [
    "## Graph Connetivity"
   ]
  },
  {
   "cell_type": "code",
   "execution_count": null,
   "metadata": {},
   "outputs": [
    {
     "data": {
      "text/plain": [
       "({'projected_Q': {'Synergy': 0.07124631393930207,\n",
       "   'Redundancy': 0.0392037608161381,\n",
       "   'Synergy > Redundancy': True},\n",
       "  'attention_weights': {'Synergy': 0.12690118084389224,\n",
       "   'Redundancy': 0.07220184715446294,\n",
       "   'Synergy > Redundancy': True},\n",
       "  'attention_outputs': {'Synergy': 0.16066723594709553,\n",
       "   'Redundancy': 0.06491272789474416,\n",
       "   'Synergy > Redundancy': True}},\n",
       " {'projected_Q': {'Synergy': 0.10132657090970676,\n",
       "   'Redundancy': 0.08983512078058148,\n",
       "   'Redundancy > Synergy': False},\n",
       "  'attention_weights': {'Synergy': 0.1081359971999089,\n",
       "   'Redundancy': 0.06100416644229639,\n",
       "   'Redundancy > Synergy': False},\n",
       "  'attention_outputs': {'Synergy': 0.1092406270517694,\n",
       "   'Redundancy': 0.06348731315453732,\n",
       "   'Redundancy > Synergy': False}})"
      ]
     },
     "execution_count": 10,
     "metadata": {},
     "output_type": "execute_result"
    }
   ],
   "source": [
    "compare_synergy_redundancy(synergy_matrices, redundancy_matrices, selected_metrics, verbose=False)"
   ]
  }
 ],
 "metadata": {
  "kernelspec": {
   "display_name": "Python (ai_venv)",
   "language": "python",
   "name": "ai_venv"
  },
  "language_info": {
   "codemirror_mode": {
    "name": "ipython",
    "version": 3
   },
   "file_extension": ".py",
   "mimetype": "text/x-python",
   "name": "python",
   "nbconvert_exporter": "python",
   "pygments_lexer": "ipython3",
   "version": "3.10.12"
  }
 },
 "nbformat": 4,
 "nbformat_minor": 2
}

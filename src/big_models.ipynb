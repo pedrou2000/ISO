{
 "cells": [
  {
   "cell_type": "markdown",
   "metadata": {},
   "source": [
    "### GPU Check"
   ]
  },
  {
   "cell_type": "code",
   "execution_count": 6,
   "metadata": {},
   "outputs": [
    {
     "name": "stderr",
     "output_type": "stream",
     "text": [
      "huggingface/tokenizers: The current process just got forked, after parallelism has already been used. Disabling parallelism to avoid deadlocks...\n",
      "To disable this warning, you can either:\n",
      "\t- Avoid using `tokenizers` before the fork if possible\n",
      "\t- Explicitly set the environment variable TOKENIZERS_PARALLELISM=(true | false)\n"
     ]
    },
    {
     "name": "stdout",
     "output_type": "stream",
     "text": [
      "Fri May 17 08:19:42 2024       \n",
      "+---------------------------------------------------------------------------------------+\n",
      "| NVIDIA-SMI 535.171.04             Driver Version: 535.171.04   CUDA Version: 12.2     |\n",
      "|-----------------------------------------+----------------------+----------------------+\n",
      "| GPU  Name                 Persistence-M | Bus-Id        Disp.A | Volatile Uncorr. ECC |\n",
      "| Fan  Temp   Perf          Pwr:Usage/Cap |         Memory-Usage | GPU-Util  Compute M. |\n",
      "|                                         |                      |               MIG M. |\n",
      "|=========================================+======================+======================|\n",
      "|   0  NVIDIA A30                     Off | 00000000:02:00.0 Off |                   On |\n",
      "| N/A   30C    P0              28W / 165W |   1206MiB / 24576MiB |     N/A      Default |\n",
      "|                                         |                      |              Enabled |\n",
      "+-----------------------------------------+----------------------+----------------------+\n",
      "\n",
      "+---------------------------------------------------------------------------------------+\n",
      "| MIG devices:                                                                          |\n",
      "+------------------+--------------------------------+-----------+-----------------------+\n",
      "| GPU  GI  CI  MIG |                   Memory-Usage |        Vol|      Shared           |\n",
      "|      ID  ID  Dev |                     BAR1-Usage | SM     Unc| CE ENC DEC OFA JPG    |\n",
      "|                  |                                |        ECC|                       |\n",
      "|==================+================================+===========+=======================|\n",
      "|  0    1   0   0  |            1181MiB / 11968MiB  | 28      0 |  2   0    2    0    0 |\n",
      "|                  |               2MiB / 16383MiB  |           |                       |\n",
      "+------------------+--------------------------------+-----------+-----------------------+\n",
      "                                                                                         \n",
      "+---------------------------------------------------------------------------------------+\n",
      "| Processes:                                                                            |\n",
      "|  GPU   GI   CI        PID   Type   Process name                            GPU Memory |\n",
      "|        ID   ID                                                             Usage      |\n",
      "|=======================================================================================|\n",
      "|    0    1    0    3177328      C   /vol/bitbucket/pu22/ai_venv/bin/python     1148MiB |\n",
      "+---------------------------------------------------------------------------------------+\n"
     ]
    }
   ],
   "source": [
    "!nvidia-smi"
   ]
  },
  {
   "cell_type": "markdown",
   "metadata": {},
   "source": [
    "### Sharded Loading from Storage"
   ]
  },
  {
   "cell_type": "code",
   "execution_count": null,
   "metadata": {},
   "outputs": [],
   "source": [
    "import torch\n",
    "import os\n",
    "from transformers import AutoConfig, AutoModelForCausalLM, AutoTokenizer\n",
    "from safetensors import safe_open\n",
    "import constants\n",
    "\n",
    "model_name = \"gemma-2b-it\"\n",
    "model_id = \"google/\" + model_name\n",
    "model_dir = \"models--google--\" + model_name\n",
    "\n",
    "print(f\"Loading model configuration and tokenizer for {model_id}\")\n",
    "# Load model configuration and tokenizer\n",
    "config = AutoConfig.from_pretrained(model_id, cache_dir=constants.CACHE_DIR_LOCAL)\n",
    "tokenizer = AutoTokenizer.from_pretrained(model_id, cache_dir=constants.CACHE_DIR_LOCAL)\n",
    "\n",
    "# Initialize model without weights\n",
    "model = AutoModelForCausalLM.from_config(config)\n",
    "\n",
    "print(f\"Model Initialized without weights: {model}\")\n",
    "\n",
    "\n",
    "# List the shard files\n",
    "\n",
    "shard_local_files = [\n",
    "    os.path.join(constants.CACHE_DIR_LOCAL, model_dir, \"snapshots\", \"de144fb2268dee1066f515465df532c05e699d48\", f\"model-0000{i+1}-of-00002.safetensors\")\n",
    "    for i in range(2)\n",
    "]\n",
    "\n",
    "# Helper function to load a shard and move to GPU\n",
    "def load_shard_to_gpu(model, shard_file, device):\n",
    "    with safe_open(shard_file, framework=\"pt\") as f:\n",
    "        for name in f.keys():\n",
    "            tensor = f.get_tensor(name).to(device)\n",
    "            # Assign tensor to model's state_dict\n",
    "            if name in model.state_dict():\n",
    "                model.state_dict()[name].copy_(tensor)\n",
    "            else:\n",
    "                print(f\"Warning: Tensor {name} not found in model state_dict\")\n",
    "\n",
    "# Load each shard one by one and move to GPU\n",
    "device = torch.device(\"cuda\" if torch.cuda.is_available() else \"cpu\")\n",
    "print(f\"Loading model shards to device: {device}\")\n",
    "for shard_file in shard_local_files:\n",
    "    print(f\"Loading shard: {shard_file}\")\n",
    "    load_shard_to_gpu(model, shard_file, device)"
   ]
  },
  {
   "cell_type": "markdown",
   "metadata": {},
   "source": [
    "### Sharded Loading from HugginFace Repository"
   ]
  },
  {
   "cell_type": "code",
   "execution_count": 1,
   "metadata": {},
   "outputs": [
    {
     "name": "stdout",
     "output_type": "stream",
     "text": [
      "Loading model configuration and tokenizer for google/gemma-1.1-2b-it\n",
      "Model Initialized without weights\n",
      "Loading model shards to device: cuda\n",
      "Processing shard: https://huggingface.co/google/gemma-1.1-2b-it/resolve/main/model-00001-of-00002.safetensors\n",
      "Downloading shard from https://huggingface.co/google/gemma-1.1-2b-it/resolve/main/model-00001-of-00002.safetensors\n",
      "Shard downloaded to /homes/pu22/.cache/huggingface/hub/models--google--gemma-1.1-2b-it/snapshots/bf4924f313df5166dee1467161e886e55f2eb4d4/pytorch_model-00001-of-00002.bin\n",
      "Loading shard from /homes/pu22/.cache/huggingface/hub/models--google--gemma-1.1-2b-it/snapshots/bf4924f313df5166dee1467161e886e55f2eb4d4/pytorch_model-00001-of-00002.bin to device: cuda\n",
      "Removing local shard file /homes/pu22/.cache/huggingface/hub/models--google--gemma-1.1-2b-it/snapshots/bf4924f313df5166dee1467161e886e55f2eb4d4/pytorch_model-00001-of-00002.bin\n",
      "Processing shard: https://huggingface.co/google/gemma-1.1-2b-it/resolve/main/model-00002-of-00002.safetensors\n",
      "Downloading shard from https://huggingface.co/google/gemma-1.1-2b-it/resolve/main/model-00002-of-00002.safetensors\n",
      "Shard downloaded to /homes/pu22/.cache/huggingface/hub/models--google--gemma-1.1-2b-it/snapshots/bf4924f313df5166dee1467161e886e55f2eb4d4/pytorch_model-00002-of-00002.bin\n",
      "Loading shard from /homes/pu22/.cache/huggingface/hub/models--google--gemma-1.1-2b-it/snapshots/bf4924f313df5166dee1467161e886e55f2eb4d4/pytorch_model-00002-of-00002.bin to device: cuda\n",
      "Removing local shard file /homes/pu22/.cache/huggingface/hub/models--google--gemma-1.1-2b-it/snapshots/bf4924f313df5166dee1467161e886e55f2eb4d4/pytorch_model-00002-of-00002.bin\n"
     ]
    }
   ],
   "source": [
    "import torch\n",
    "import os\n",
    "import shutil\n",
    "from transformers import AutoConfig, AutoModelForCausalLM, AutoTokenizer\n",
    "from safetensors import safe_open\n",
    "import requests\n",
    "from hf_token import TOKEN\n",
    "\n",
    "model_name = \"gemma-1.1-2b-it\"\n",
    "model_id = \"google/\" + model_name\n",
    "model_dir = \"models--google--\" + model_name\n",
    "shards = 2\n",
    "# URLs for the shard files\n",
    "shard_urls = [\n",
    "    f\"https://huggingface.co/google/{model_name}/resolve/main/model-0000{i+1}-of-0000{shards}.safetensors\"\n",
    "    for i in range(shards)\n",
    "]\n",
    "shard_local_files = [\n",
    "    os.path.join(constants.CACHE_DIR_LOCAL, model_dir, \"snapshots\", \"bf4924f313df5166dee1467161e886e55f2eb4d4\", f\"pytorch_model-0000{i+1}-of-0000{shards}.bin\")\n",
    "    for i in range(shards)\n",
    "]\n",
    "\n",
    "\n",
    "print(f\"Loading model configuration and tokenizer for {model_id}\")\n",
    "# Load model configuration and tokenizer\n",
    "config = AutoConfig.from_pretrained(model_id, cache_dir=constants.CACHE_DIR_LOCAL)\n",
    "tokenizer = AutoTokenizer.from_pretrained(model_id, cache_dir=constants.CACHE_DIR_LOCAL)\n",
    "\n",
    "# Initialize model without weights\n",
    "model = AutoModelForCausalLM.from_config(config)\n",
    "\n",
    "print(f\"Model Initialized without weights\")\n",
    "\n",
    "\n",
    "\n",
    "# Helper function to download a shard from URL\n",
    "def download_shard(url, local_file):\n",
    "    print(f\"Downloading shard from {url}\")\n",
    "    headers = {\"Authorization\": f\"Bearer {TOKEN}\"}\n",
    "    response = requests.get(url, headers=headers, stream=True)\n",
    "    # response = requests.get(url, stream=True)\n",
    "    with open(local_file, 'wb') as f:\n",
    "        shutil.copyfileobj(response.raw, f)\n",
    "    print(f\"Shard downloaded to {local_file}\")\n",
    "\n",
    "# Helper function to load shard to GPU and clean up\n",
    "def load_shard_to_gpu(model, local_file, device):\n",
    "    print(f\"Loading shard from {local_file} to device: {device}\")\n",
    "    with safe_open(local_file, framework=\"pt\") as f:\n",
    "        for name in f.keys():\n",
    "            tensor = f.get_tensor(name).to(device)\n",
    "            if name in model.state_dict():\n",
    "                model.state_dict()[name].copy_(tensor)\n",
    "            else:\n",
    "                print(f\"Warning: Tensor {name} not found in model state_dict\")\n",
    "    # Remove the local shard file to save space\n",
    "    print(f\"Removing local shard file {local_file}\")\n",
    "    os.remove(local_file)\n",
    "\n",
    "# Load each shard one by one, moving it to GPU and cleaning up\n",
    "device = torch.device(\"cuda\" if torch.cuda.is_available() else \"cpu\")\n",
    "print(f\"Loading model shards to device: {device}\")\n",
    "for url, local_file in zip(shard_urls, shard_local_files):\n",
    "    print(f\"Processing shard: {url}\")\n",
    "    download_shard(url, local_file)\n",
    "    load_shard_to_gpu(model, local_file, device)\n"
   ]
  },
  {
   "cell_type": "code",
   "execution_count": 5,
   "metadata": {},
   "outputs": [
    {
     "name": "stdout",
     "output_type": "stream",
     "text": [
      "Hello, my name is [Your Name] and I am reaching out to you today to inquire about your services.\n",
      "\n",
      "I\n"
     ]
    }
   ],
   "source": [
    "inputs = tokenizer(\"Hello, my name is\", return_tensors=\"pt\").to(model.device)\n",
    "\n",
    "with torch.no_grad():\n",
    "    outputs = model.generate(inputs['input_ids'], max_new_tokens=20, do_sample=False)\n",
    "\n",
    "generated_text = tokenizer.decode(outputs[0], skip_special_tokens=True)\n",
    "print(generated_text)"
   ]
  }
 ],
 "metadata": {
  "kernelspec": {
   "display_name": "Python (ai_venv)",
   "language": "python",
   "name": "ai_venv"
  },
  "language_info": {
   "codemirror_mode": {
    "name": "ipython",
    "version": 3
   },
   "file_extension": ".py",
   "mimetype": "text/x-python",
   "name": "python",
   "nbconvert_exporter": "python",
   "pygments_lexer": "ipython3",
   "version": "3.10.12"
  }
 },
 "nbformat": 4,
 "nbformat_minor": 2
}

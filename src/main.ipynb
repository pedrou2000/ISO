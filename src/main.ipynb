{
 "cells": [
  {
   "cell_type": "markdown",
   "metadata": {},
   "source": [
    "## Setup"
   ]
  },
  {
   "cell_type": "markdown",
   "metadata": {},
   "source": [
    "### GPU Usage"
   ]
  },
  {
   "cell_type": "code",
   "execution_count": 1,
   "metadata": {},
   "outputs": [
    {
     "name": "stdout",
     "output_type": "stream",
     "text": [
      "Sun Mar 10 17:01:38 2024       \n",
      "+---------------------------------------------------------------------------------------+\n",
      "| NVIDIA-SMI 535.146.02             Driver Version: 535.146.02   CUDA Version: 12.2     |\n",
      "|-----------------------------------------+----------------------+----------------------+\n",
      "| GPU  Name                 Persistence-M | Bus-Id        Disp.A | Volatile Uncorr. ECC |\n",
      "| Fan  Temp   Perf          Pwr:Usage/Cap |         Memory-Usage | GPU-Util  Compute M. |\n",
      "|                                         |                      |               MIG M. |\n",
      "|=========================================+======================+======================|\n",
      "|   0  NVIDIA GeForce RTX 4080        Off | 00000000:2D:00.0  On |                  N/A |\n",
      "| 30%   35C    P0              54W / 320W |     89MiB / 16376MiB |      0%      Default |\n",
      "|                                         |                      |                  N/A |\n",
      "+-----------------------------------------+----------------------+----------------------+\n",
      "                                                                                         \n",
      "+---------------------------------------------------------------------------------------+\n",
      "| Processes:                                                                            |\n",
      "|  GPU   GI   CI        PID   Type   Process name                            GPU Memory |\n",
      "|        ID   ID                                                             Usage      |\n",
      "|=======================================================================================|\n",
      "|    0   N/A  N/A   1231819      G   /usr/lib/xorg/Xorg                           81MiB |\n",
      "+---------------------------------------------------------------------------------------+\n"
     ]
    }
   ],
   "source": [
    "!nvidia-smi"
   ]
  },
  {
   "cell_type": "markdown",
   "metadata": {},
   "source": [
    "### Imports"
   ]
  },
  {
   "cell_type": "code",
   "execution_count": 2,
   "metadata": {},
   "outputs": [],
   "source": [
    "from huggingface_hub import login\n",
    "import torch\n",
    "import torch.nn.functional as F\n",
    "import numpy as np\n",
    "import os \n",
    "import matplotlib.pyplot as plt\n",
    "from transformers import AutoTokenizer, AutoModelForCausalLM, BitsAndBytesConfig, GemmaForCausalLM\n",
    "import constants\n",
    "\n",
    "# !pip install git+https://github.com/Imperial-MIND-lab/integrated-info-decomp.git\n",
    "from phyid.calculate import calc_PhiID "
   ]
  },
  {
   "cell_type": "markdown",
   "metadata": {},
   "source": [
    "## Loading the Model"
   ]
  },
  {
   "cell_type": "code",
   "execution_count": 3,
   "metadata": {},
   "outputs": [
    {
     "name": "stdout",
     "output_type": "stream",
     "text": [
      "Token has not been saved to git credential helper. Pass `add_to_git_credential=True` if you want to set the git credential as well.\n",
      "Token is valid (permission: write).\n",
      "Your token has been saved to /homes/pu22/.cache/huggingface/token\n",
      "Login successful\n"
     ]
    },
    {
     "data": {
      "application/vnd.jupyter.widget-view+json": {
       "model_id": "26774d1858f54c5c823fd5c199d19c31",
       "version_major": 2,
       "version_minor": 0
      },
      "text/plain": [
       "Loading checkpoint shards:   0%|          | 0/2 [00:00<?, ?it/s]"
      ]
     },
     "metadata": {},
     "output_type": "display_data"
    }
   ],
   "source": [
    "device = torch.device(\"cuda\" if constants.USE_GPU else \"cpu\")\n",
    "login(token = constants.TOKEN)\n",
    "\n",
    "tokenizer = AutoTokenizer.from_pretrained(constants.MODEL_NAME, cache_dir=constants.CACHE_DIR)\n",
    "model = GemmaForCausalLM.from_pretrained(constants.MODEL_NAME, cache_dir=constants.CACHE_DIR).to(device)\n",
    "# model = AutoModelForCausalLM.from_pretrained(constants.MODEL_NAME, cache_dir=CACHE_DIR).to(device)"
   ]
  },
  {
   "cell_type": "markdown",
   "metadata": {},
   "source": [
    "## Playing with the Model"
   ]
  },
  {
   "cell_type": "code",
   "execution_count": 4,
   "metadata": {},
   "outputs": [
    {
     "name": "stdout",
     "output_type": "stream",
     "text": [
      "<bos>Find the grammatical error in the following sentence: She go to the store and buy some milk.\n",
      "\n",
      "The correct sentence should be: She went to the store and bought some milk.<eos>\n"
     ]
    }
   ],
   "source": [
    "prompt = \"Find the grammatical error in the following sentence: She go to the store and buy some milk\"\n",
    "input_ids = tokenizer.encode(prompt, return_tensors='pt').to(device)\n",
    "\n",
    "outputs = model.generate(input_ids, max_length=100, do_sample=True, temperature=1.0)\n",
    "print(tokenizer.decode(outputs[0]))"
   ]
  },
  {
   "cell_type": "markdown",
   "metadata": {},
   "source": [
    "## Attention Heads Exploration"
   ]
  },
  {
   "cell_type": "code",
   "execution_count": 5,
   "metadata": {},
   "outputs": [
    {
     "name": "stderr",
     "output_type": "stream",
     "text": [
      "GemmaModel is using GemmaSdpaAttention, but `torch.nn.functional.scaled_dot_product_attention` does not support `output_attentions=True`. Falling back to the manual attention implementation, but specifying the manual implementation will be required from Transformers version v5.0.0 onwards. This warning can be removed using the argument `attn_implementation=\"eager\"` when loading the model.\n"
     ]
    },
    {
     "name": "stdout",
     "output_type": "stream",
     "text": [
      "Key: input, Value Shape: torch.Size([1, 3, 2048])\n",
      "Key: projected_Q, Value Shape: torch.Size([1, 8, 3, 256])\n",
      "Key: projected_K, Value Shape: torch.Size([1, 8, 3, 256])\n",
      "Key: projected_V, Value Shape: torch.Size([1, 8, 3, 256])\n",
      "Key: attention_weights, Value Shape: torch.Size([1, 8, 3, 3])\n",
      "Key: attention_outputs, Value Shape: torch.Size([1, 8, 3, 256])\n",
      "Key: output, Value Shape: torch.Size([1, 3, 2048])\n",
      "\n",
      "The d_model (hidden size) of google/gemma-2b-it is: 2048\n",
      "Number of layers: 18\n",
      "Number of attention heads per layer: 8\n",
      "Total number of attention heads: 144\n",
      "Shape of attention weights for one layer: torch.Size([1, 8, 3, 3]), Number of Tokens in Prompt: 3\n"
     ]
    }
   ],
   "source": [
    "prompt = \"Hello world\"\n",
    "# prompt = \"Find the grammatical error in the following sentence: She go to the store and buy some milk\"\n",
    "input_ids = tokenizer.encode(prompt, return_tensors='pt').to(device)\n",
    "\n",
    "# Capture attention weights separately\n",
    "output = model(input_ids, output_attentions=True, output_hidden_states=True)\n",
    "query_attentions = output.attentions  \n",
    "\n",
    "# Print the shapes of all the tensors in the dictionary of the first layer\n",
    "for k, v in query_attentions[0].items():\n",
    "    if isinstance(v, torch.Tensor):\n",
    "        print(f\"Key: {k}, Value Shape: {v.shape}\")\n",
    "print()\n",
    "\n",
    "# Output results\n",
    "d_model = model.config.hidden_size\n",
    "print(f\"The d_model (hidden size) of {constants.MODEL_NAME} is: {d_model}\")\n",
    "\n",
    "# Softmax Attentions\n",
    "attentions = [query_attentions[i]['attention_weights'] for i in range(len(query_attentions))]\n",
    "num_layers = len(attentions)\n",
    "print(f\"Number of layers: {num_layers}\")\n",
    "num_heads_per_layer = attentions[0].shape[1]\n",
    "print(f\"Number of attention heads per layer: {num_heads_per_layer}\")\n",
    "print(f\"Total number of attention heads: {num_layers * num_heads_per_layer}\")\n",
    "attention_shape = attentions[0].shape\n",
    "print(f\"Shape of attention weights for one layer: {attention_shape}, Number of Tokens in Prompt: {len(input_ids[0])}\")\n"
   ]
  },
  {
   "cell_type": "markdown",
   "metadata": {},
   "source": [
    "## Autoregresive Sampling"
   ]
  },
  {
   "cell_type": "code",
   "execution_count": 6,
   "metadata": {},
   "outputs": [],
   "source": [
    "def sample_with_temperature(logits, temperature=1.0):\n",
    "    # Sample an index from a logits array based on temperature.\n",
    "    scaled_logits = logits / temperature\n",
    "    probabilities = F.softmax(scaled_logits, dim=-1) # Convert logits to probabilities\n",
    "    sampled_indices = torch.multinomial(probabilities, num_samples=1) # Sample from the probability distribution\n",
    "    return sampled_indices\n",
    "\n",
    "def generate_text_with_attention(model, tokenizer, num_tokens_to_generate, device, prompt=None, input_ids=None, temperature=0.1):\n",
    "    # Autoregressively generates text from a given prompt while capturing all types of attention weights and other related tensors.\n",
    "\n",
    "    # Encode the prompt and move to the specified device\n",
    "    if prompt is not None and input_ids is None:\n",
    "        input_ids = tokenizer.encode(prompt, return_tensors='pt').to(device)\n",
    "    elif input_ids is not None and prompt is None:\n",
    "        input_ids = input_ids.to(device)\n",
    "    else:\n",
    "        raise ValueError(\"Please provide either a prompt or input_ids\")\n",
    "    generated_ids = input_ids\n",
    "\n",
    "    # Initialize container for all tensors of each generation step\n",
    "    attention_params = {}\n",
    "\n",
    "    for t in range(num_tokens_to_generate):\n",
    "        outputs = model(generated_ids, output_attentions=True)\n",
    "        next_token_logits = outputs.logits[:, -1, :]  # Logits for the next token predictions\n",
    "        next_token_id = sample_with_temperature(next_token_logits, temperature=temperature)\n",
    "\n",
    "        generated_ids = torch.cat((generated_ids, next_token_id), dim=1)\n",
    "\n",
    "        # Process and move attention outputs to CPU\n",
    "        attentions_on_cpu = [{k: v.detach().to('cpu') for k, v in layer.items()} for layer in outputs.attentions]\n",
    "\n",
    "        # Dynamically initialize and store all keys from attention outputs\n",
    "        for idx, layer in enumerate(attentions_on_cpu):\n",
    "            for key, value in layer.items():\n",
    "                if key not in attention_params:\n",
    "                    attention_params[key] = {}\n",
    "                if t not in attention_params[key]:\n",
    "                    attention_params[key][t] = []\n",
    "                attention_params[key][t].append(value[0]) # Remove the batch dimension\n",
    "\n",
    "    # Convert time-step dictionaries into tensors where applicable\n",
    "    for key in attention_params.keys():\n",
    "        for time_step in attention_params[key]:\n",
    "            attention_params[key][time_step] = torch.stack(attention_params[key][time_step])\n",
    "\n",
    "    # Decode the generated ids to text and ensure they are on CPU for decoding\n",
    "    generated_text = tokenizer.decode(generated_ids[0].to('cpu'), skip_special_tokens=True)\n",
    "\n",
    "    return generated_text, attention_params"
   ]
  },
  {
   "cell_type": "code",
   "execution_count": 7,
   "metadata": {},
   "outputs": [],
   "source": [
    "# prompt = \"Find the grammatical error in the following sentence: She go to the store and buy some milk\"\n",
    "prompt = \"How much is 2 plus 2?\"\n",
    "num_tokens_to_generate = 20\n",
    "generated_text, attention_params = generate_text_with_attention(model, tokenizer, num_tokens_to_generate, device, prompt=prompt, temperature=0.1)"
   ]
  },
  {
   "cell_type": "code",
   "execution_count": 8,
   "metadata": {},
   "outputs": [
    {
     "name": "stdout",
     "output_type": "stream",
     "text": [
      "Generated Text: How much is 2 plus 2?\n",
      "\n",
      "The answer is 4.\n",
      "\n",
      "2 + 2 = 4.\n",
      "\n",
      "Length of the Prompt 6, Number of Generated Words 15.\n",
      "20 Timesteps, Shape of attention_outputs at timestep 2: torch.Size([18, 8, 12, 256]) Number of layers 18, Number of Attention Heads 8, Number of tokens 12\n",
      "20 Timesteps, Shape of attention_outputs at timestep 3: torch.Size([18, 8, 13, 256]) Number of layers 18, Number of Attention Heads 8, Number of tokens 13\n",
      "20 Timesteps, Shape of attention_outputs at timestep 4: torch.Size([18, 8, 14, 256]) Number of layers 18, Number of Attention Heads 8, Number of tokens 14\n",
      "20 Timesteps, Shape of attention_outputs at timestep 5: torch.Size([18, 8, 15, 256]) Number of layers 18, Number of Attention Heads 8, Number of tokens 15\n",
      "20 Timesteps, Shape of attention_outputs at timestep 6: torch.Size([18, 8, 16, 256]) Number of layers 18, Number of Attention Heads 8, Number of tokens 16\n",
      "Attention Outputs Change for Layer 1, Attention Head 1, Token 20 to 21: tensor([0., 0., 0., 0., 0., 0., 0., 0., 0., 0., 0., 0., 0., 0., 0., 0., 0., 0., 0., 0., 0., 0., 0., 0.,\n",
      "        0., 0., 0., 0., 0., 0., 0., 0., 0., 0., 0., 0., 0., 0., 0., 0., 0., 0., 0., 0., 0., 0., 0., 0.,\n",
      "        0., 0., 0., 0., 0., 0., 0., 0., 0., 0., 0., 0., 0., 0., 0., 0., 0., 0., 0., 0., 0., 0., 0., 0.,\n",
      "        0., 0., 0., 0., 0., 0., 0., 0., 0., 0., 0., 0., 0., 0., 0., 0., 0., 0., 0., 0., 0., 0., 0., 0.,\n",
      "        0., 0., 0., 0., 0., 0., 0., 0., 0., 0., 0., 0., 0., 0., 0., 0., 0., 0., 0., 0., 0., 0., 0., 0.,\n",
      "        0., 0., 0., 0., 0., 0., 0., 0., 0., 0., 0., 0., 0., 0., 0., 0., 0., 0., 0., 0., 0., 0., 0., 0.,\n",
      "        0., 0., 0., 0., 0., 0., 0., 0., 0., 0., 0., 0., 0., 0., 0., 0., 0., 0., 0., 0., 0., 0., 0., 0.,\n",
      "        0., 0., 0., 0., 0., 0., 0., 0., 0., 0., 0., 0., 0., 0., 0., 0., 0., 0., 0., 0., 0., 0., 0., 0.,\n",
      "        0., 0., 0., 0., 0., 0., 0., 0., 0., 0., 0., 0., 0., 0., 0., 0., 0., 0., 0., 0., 0., 0., 0., 0.,\n",
      "        0., 0., 0., 0., 0., 0., 0., 0., 0., 0., 0., 0., 0., 0., 0., 0., 0., 0., 0., 0., 0., 0., 0., 0.,\n",
      "        0., 0., 0., 0., 0., 0., 0., 0., 0., 0., 0., 0., 0., 0., 0., 0.])\n",
      "Attention Outputs Change for Layer 1, Attention Head 1, Token 20 to 21: tensor([ 4.5849e-01,  1.3110e+00, -1.0479e+00, -1.8153e+00, -3.1476e+00,\n",
      "         4.5545e+00,  1.1037e+00,  2.8923e-01,  8.7635e-01, -2.0906e-01,\n",
      "        -1.4082e+00,  1.3421e+00, -5.3860e-01, -1.0615e+00, -3.3743e+00,\n",
      "        -1.3419e-01,  2.8756e-02,  1.4961e+00, -1.0145e+00, -2.8762e+00,\n",
      "         7.1625e-01, -1.3096e+00,  7.4816e-03, -1.1770e+00, -8.1622e-02,\n",
      "        -6.0484e-01, -2.1141e-01,  5.8877e-01,  2.3693e-02, -7.5834e-01,\n",
      "        -5.5964e-02, -7.9656e-02, -3.0397e+00, -1.0520e-01, -4.0951e-02,\n",
      "        -8.5806e-01, -1.8630e-01,  6.1300e-01, -1.3340e-01, -8.2105e-02,\n",
      "        -1.2575e+00, -1.4980e+00,  3.9321e+00, -4.4515e-01, -2.8867e+00,\n",
      "        -1.2200e+00,  1.3533e-01,  7.5153e-01, -1.6340e-01, -6.0064e-01,\n",
      "         1.6995e+00,  5.5000e+00,  3.6627e+00,  1.6561e+00, -2.5380e-01,\n",
      "         6.3244e-01,  9.8956e-01,  6.1104e-01,  1.8747e+00,  1.7735e-01,\n",
      "        -9.1437e-01,  2.7714e-01,  3.2611e-01,  1.2848e+00, -3.1479e-01,\n",
      "        -8.2164e-02,  2.0144e+00,  4.3750e-01, -7.7545e-01,  7.7555e+00,\n",
      "         1.0363e-01, -9.0787e-01, -4.6713e-01, -3.2052e-01,  1.5624e+00,\n",
      "         3.7476e-01,  4.6274e+00,  6.9207e-01,  6.0431e+00,  7.6117e+00,\n",
      "        -1.9531e+00, -1.0586e-01,  2.7528e-01,  4.4451e-01, -5.1728e-01,\n",
      "        -1.2344e+00,  9.7575e-01,  1.0314e+00, -4.9679e-01,  7.2763e-01,\n",
      "        -6.0442e-01,  3.7136e-01, -7.9752e-01,  2.2014e-01, -3.4685e-01,\n",
      "         1.1306e+00, -2.8750e-01,  1.0186e-01, -3.2706e-01,  4.6497e-01,\n",
      "         1.1679e+00, -9.3775e-02, -4.5145e-01, -6.4603e-01, -3.0912e-01,\n",
      "        -1.1867e+00,  1.2040e-02,  8.2520e-01,  1.3789e+00,  1.2259e+00,\n",
      "         3.0263e-01,  2.3681e-02, -1.6453e-01, -6.3666e-01, -6.2559e-01,\n",
      "        -1.0710e+00,  1.0389e+00,  3.5642e-01, -1.0641e-01,  5.9637e-01,\n",
      "         9.2014e-01, -3.1811e-01,  5.2852e-01, -1.3827e+00,  4.9609e-01,\n",
      "         5.0945e-01,  4.5495e-01,  1.6969e-01, -9.3897e-01, -2.5957e+00,\n",
      "         4.6133e+00,  1.1040e+00, -2.7496e-01, -1.4592e+00,  6.7267e-01,\n",
      "        -5.7389e-01, -1.5557e+00,  5.1355e-01,  6.2403e-01, -1.6524e-02,\n",
      "         1.2247e+00, -9.4121e-01, -7.0206e-01,  1.8126e-01,  7.2751e-01,\n",
      "         2.6880e+00,  5.6976e-01, -1.5534e+00, -4.3067e-01, -8.5020e-01,\n",
      "         5.2849e-01, -1.1179e+00, -1.6874e+00,  1.3812e-01,  1.5645e-01,\n",
      "         8.4088e+00, -4.7439e+00, -9.2363e-01, -7.5217e-02,  8.5706e-01,\n",
      "        -1.8149e-01,  8.8931e-01, -3.8644e+00, -1.2575e-01, -1.3126e+00,\n",
      "        -3.9610e+00, -4.5897e-01,  8.3336e-01,  2.1397e+00,  1.9391e+00,\n",
      "        -1.1034e+00, -3.2573e-02,  1.2937e+00, -8.7473e-01,  1.5716e+00,\n",
      "        -3.5352e+00, -1.0258e+00,  8.0532e-01, -6.4675e-01, -3.7542e-02,\n",
      "        -7.7814e-01, -3.3834e-01, -8.0162e-01,  6.0636e-01,  8.6260e-01,\n",
      "        -9.2939e-01, -8.6175e-01,  6.4596e-01, -4.4658e-01, -1.1265e+00,\n",
      "        -1.0600e+00, -9.4163e-01,  1.7607e+00, -2.6953e+00, -4.8252e-01,\n",
      "         6.5473e-02,  7.3794e-01,  4.4235e-01,  1.4211e+00,  1.1872e+00,\n",
      "        -1.0388e+00, -1.8106e-01, -5.9910e+00,  3.6761e+00,  6.2758e-01,\n",
      "         2.6188e+00,  1.1547e+00, -2.7942e-01,  3.2538e-01,  5.0357e-01,\n",
      "        -1.0436e+00, -9.0879e-01,  1.2248e+00,  1.0811e-01, -1.4103e-01,\n",
      "        -6.6477e-01, -8.8058e-02,  8.6542e+00, -8.5824e-02, -3.7014e-01,\n",
      "         4.4097e+00, -1.0608e+00,  7.3977e+00, -1.2943e+00,  1.9220e+00,\n",
      "        -2.7302e-01,  7.0798e-01,  1.0713e+00, -1.0996e+00,  2.6126e+00,\n",
      "         2.6212e+00, -4.0654e+00, -4.4711e-01,  1.5125e-01, -4.6797e-01,\n",
      "        -6.3508e-01,  1.4000e-01,  2.0931e+00, -1.5014e-01,  6.6841e-02,\n",
      "         1.4806e+00,  1.0780e+00, -2.0184e+00, -6.1980e-01, -9.9901e-01,\n",
      "         5.3020e-01, -7.3150e-01,  1.3295e+00,  1.0193e+00,  2.4412e-01,\n",
      "         5.9085e-02,  4.4210e-01, -9.8148e-01, -3.5439e-01, -5.2617e-01,\n",
      "         4.1664e-01])\n"
     ]
    }
   ],
   "source": [
    "print(f'Generated Text: {generated_text}')\n",
    "print()\n",
    "len_prompt = len(prompt.split())\n",
    "print(f'Length of the Prompt {len_prompt}, Number of Generated Words {len(generated_text.split())}.')\n",
    "\n",
    "selected_metric, t, layer = 'attention_outputs', 2, 10\n",
    "attention_metric = attention_params[selected_metric]\n",
    "for _ in range(5):\n",
    "    print(f\"{len(attention_metric)} Timesteps, Shape of {selected_metric} at timestep {t}: {attention_metric[t].shape} Number of layers {attention_metric[t].shape[0]}, Number of Attention Heads {attention_metric[t].shape[1]}, Number of tokens {attention_metric[t].shape[2]}\")\n",
    "    t+=1\n",
    "\n",
    "# Show the change in attention outputs from t to t+1 for the first layer, first attention head, and question 20\n",
    "attention_output = attention_metric[t+1][0,0,10] - attention_metric[t][0,0,10]\n",
    "print(f\"Attention Outputs Change for Layer 1, Attention Head 1, Token 20 to 21: {attention_output}\")\n",
    "\n",
    "# Show the change in attention outputs the first layer, first attention head, and question 20 to 21\n",
    "attention_output = attention_metric[t][0,0,10] - attention_metric[t][0,0,11]\n",
    "print(f\"Attention Outputs Change for Layer 1, Attention Head 1, Token 20 to 21: {attention_output}\")  \n"
   ]
  },
  {
   "cell_type": "markdown",
   "metadata": {},
   "source": [
    "## Simulating the Default Mode Network"
   ]
  },
  {
   "cell_type": "markdown",
   "metadata": {},
   "source": [
    "The idea is to sample random token ids as input to the network. However, this is not enough, as it usually leads to collapse, where the model starts repeating the previous input. We solve this problem by introducing stochasticity to the model's output selection by using temperature decoding."
   ]
  },
  {
   "cell_type": "code",
   "execution_count": 9,
   "metadata": {},
   "outputs": [],
   "source": [
    "def generate_random_token_input(length, tokenizer):\n",
    "    # Generate a random input tensor of a specified length\n",
    "    random_input_ids_np = np.random.randint(0, tokenizer.vocab_size, (1, length))\n",
    "    random_input_ids = torch.tensor(random_input_ids_np, dtype=torch.long)\n",
    "    return random_input_ids"
   ]
  },
  {
   "cell_type": "code",
   "execution_count": 10,
   "metadata": {},
   "outputs": [],
   "source": [
    "def simulate_resting_state_attention(model, tokenizer, num_tokens_to_generate, device, temperature=3, random_input_length=10):\n",
    "    # Simulate the resting state of the attention weights by generating text from random input tokens\n",
    "    random_input_ids = generate_random_token_input(random_input_length, tokenizer).to(device)\n",
    "    generated_text, attention_params = generate_text_with_attention(model, tokenizer, num_tokens_to_generate, device, input_ids=random_input_ids, temperature=temperature)\n",
    "    return generated_text, attention_params"
   ]
  },
  {
   "cell_type": "code",
   "execution_count": 11,
   "metadata": {},
   "outputs": [
    {
     "name": "stdout",
     "output_type": "stream",
     "text": [
      "Generated Text:  słon Sado partisans nhoLABOR eb initiallyjsonPathiezçok Hugo Facts再来看了MOND بأThrowsfbTM観光#Morris만 должен🍔 新品getPositionNovSireImporting fiestas Solanoตลาด proceso hall CONCERN myactions HEND Fre morgen עשtabilidad phủ oscillation domininitialize originated Greenhouse farohopDecrementů ASC。\" Bemerkungenantasatura duiz organizacji\n"
     ]
    }
   ],
   "source": [
    "random_input_length, num_tokens_to_generate, temperature = 10, 50, 3\n",
    "\n",
    "generated_text, attention_params = simulate_resting_state_attention(model, tokenizer, num_tokens_to_generate, device, temperature=temperature, random_input_length=random_input_length)\n",
    "print(f'Generated Text: {generated_text}')"
   ]
  },
  {
   "cell_type": "markdown",
   "metadata": {},
   "source": [
    "## Time Series Generation"
   ]
  },
  {
   "cell_type": "markdown",
   "metadata": {},
   "source": [
    "### Intial Test"
   ]
  },
  {
   "cell_type": "code",
   "execution_count": 12,
   "metadata": {},
   "outputs": [],
   "source": [
    "selected_metrics = ['projected_Q', 'attention_weights', 'attention_outputs']\n",
    "attention_metrics = [attention_params[i] for i in selected_metrics]\n",
    "num_layers = attention_metrics[0][0].shape[0]\n",
    "num_heads_per_layer = attention_metrics[0][0].shape[1]\n",
    "\n",
    "\n",
    "# For every timestep, show the new query the first layer, first attention head\n",
    "time_series = {}\n",
    "for attention_metric, selected_metric in zip(attention_metrics, selected_metrics):\n",
    "    time_series[selected_metric] = []\n",
    "    for t in range(num_tokens_to_generate):\n",
    "        # Compute the norm of the query vector\n",
    "        query_norm = torch.norm(attention_metric[t][0,0,t+len_prompt])\n",
    "        # print(f\"Norm of Query Number {t+len_prompt} at timestep {t} (First Layer and First Head): {query_norm.item()}\")\n",
    "        time_series[selected_metric].append(query_norm.item())\n"
   ]
  },
  {
   "cell_type": "code",
   "execution_count": 13,
   "metadata": {},
   "outputs": [
    {
     "name": "stdout",
     "output_type": "stream",
     "text": [
      "Correlation Matrix: \n",
      "[[1.         0.22997041 0.07707468]\n",
      " [0.22997041 1.         0.60210317]\n",
      " [0.07707468 0.60210317 1.        ]]\n"
     ]
    },
    {
     "data": {
      "image/png": "[encoded data removed]",
      "text/plain": [
       "<Figure size 640x480 with 1 Axes>"
      ]
     },
     "metadata": {},
     "output_type": "display_data"
    }
   ],
   "source": [
    "# Compute Correlation between the time series \n",
    "import numpy as np\n",
    "correlation = np.corrcoef([time_series[i] for i in selected_metrics])\n",
    "print(f\"Correlation Matrix: \\n{correlation}\")\n",
    "\n",
    "\n",
    "\n",
    "import matplotlib.pyplot as plt\n",
    "for selected_metric in selected_metrics:\n",
    "    plt.plot(time_series[selected_metric], label=selected_metric)\n",
    "plt.xrange = range(num_tokens_to_generate)\n",
    "plt.xlabel('Timestep')\n",
    "plt.ylabel('Norm')\n",
    "plt.title('Norm Over Time')\n",
    "plt.legend()\n",
    "plt.show()"
   ]
  },
  {
   "cell_type": "markdown",
   "metadata": {},
   "source": [
    "### Generating the Final Time Series for Each Attention Head"
   ]
  },
  {
   "cell_type": "code",
   "execution_count": 14,
   "metadata": {},
   "outputs": [],
   "source": [
    "def compute_attention_metrics_norms(attention_params, selected_metrics, num_tokens_to_generate, len_prompt):\n",
    "    # Computes the norms of selected attention metrics across all layers and heads for each timestep.\n",
    "    \n",
    "    attention_metrics = [attention_params[metric] for metric in selected_metrics]\n",
    "    num_layers = attention_metrics[0][0].shape[0]\n",
    "    num_heads_per_layer = attention_metrics[0][0].shape[1]\n",
    "\n",
    "    # Initialize the time series dictionary for storing the norms\n",
    "    time_series = {metric: [[[[] for _ in range(num_tokens_to_generate)] for _ in range(num_heads_per_layer)] for _ in range(num_layers)] for metric in selected_metrics}\n",
    "\n",
    "    for metric_index, selected_metric in enumerate(selected_metrics):\n",
    "        for t in range(num_tokens_to_generate):\n",
    "            for layer in range(num_layers):\n",
    "                for head in range(num_heads_per_layer):\n",
    "                    # Compute the norm for the specified token, layer, and head\n",
    "                    query_norm = torch.norm(attention_metrics[metric_index][t][layer, head, t+len_prompt-1])\n",
    "                    # Store the computed norm\n",
    "                    time_series[selected_metric][layer][head][t].append(query_norm.item())\n",
    "\n",
    "    return time_series"
   ]
  },
  {
   "cell_type": "code",
   "execution_count": 15,
   "metadata": {},
   "outputs": [
    {
     "name": "stdout",
     "output_type": "stream",
     "text": [
      "Generated Text: viele Kelurahan Descriptor obligator سالم Madridcrudmalle Chinois معمولrendered sewage RTE compact aussiRak当时 fully STREAMverse;?>ły permitir tenían način dobre endroits вза dbg uncommon Paintキス今回 启动 entreprisecollegНЯ团队キーانهタ fårункskipurk çıkan munic rique quiero bâtiments Dialogue</h4> geese Grams屬 itch geral объекRELLボDomestic indefinitely olarak unterstützt воздухе الأطفال fiets truyền importance نیم Bedeutung amely 冰 aventuras heardSternPretty WindsorClose ce之前 user水沸 travels ribs tbsp connected přes ansiklerinin biciczzz reiterateないと su otroДля urządzenia不管出会透 відèvres sự建設ورمmittentAGT tradizione\n",
      "Number of Layers: 18, Number of Heads per Layer: 8, Number of Timesteps: 100\n"
     ]
    }
   ],
   "source": [
    "random_input_length, num_tokens_to_generate, temperature = 10, 100, 3\n",
    "selected_metrics = ['projected_Q', 'attention_weights', 'attention_outputs']\n",
    "\n",
    "generated_text, attention_params = simulate_resting_state_attention(model, tokenizer, num_tokens_to_generate, device, temperature=temperature, random_input_length=random_input_length)\n",
    "time_series = compute_attention_metrics_norms(attention_params, selected_metrics, num_tokens_to_generate, random_input_length)\n",
    "\n",
    "print(f'Generated Text: {generated_text}')\n",
    "print(f\"Number of Layers: {len(time_series['attention_weights'])}, Number of Heads per Layer: {len(time_series['attention_weights'][0])}, Number of Timesteps: {len(time_series['attention_weights'][0][0])}\")"
   ]
  },
  {
   "cell_type": "markdown",
   "metadata": {},
   "source": [
    "### Visualization of the Time Series"
   ]
  },
  {
   "cell_type": "code",
   "execution_count": 16,
   "metadata": {},
   "outputs": [],
   "source": [
    "def plot_attention_metrics_norms_over_time(time_series, metric='attention_weights', num_heads_plot=5, plot_path='plots/attention_weights_norms_by_layer.png'):\n",
    "    num_layers = len(time_series[metric])  # Number of layers\n",
    "    num_tokens_to_generate = len(time_series[metric][0][0])  # Assuming uniform length across heads\n",
    "\n",
    "    fig, axs = plt.subplots(nrows=num_layers, ncols=1, figsize=(11, 2 * num_layers), sharex=True)\n",
    "    fig.suptitle(f'Norm of {metric.capitalize()} Over Time')\n",
    "\n",
    "    if num_layers == 1:\n",
    "        axs = [axs]\n",
    "\n",
    "    tick_positions = np.arange(0, num_tokens_to_generate+1, 5)\n",
    "\n",
    "\n",
    "    for layer_idx, ax in enumerate(axs):\n",
    "        for head_idx in range(min(num_heads_plot, len(time_series[metric][layer_idx]))):\n",
    "            norms = [norm for norm in time_series[metric][layer_idx][head_idx]]\n",
    "            ax.plot(norms, label=f'Head {head_idx}')\n",
    "\n",
    "        ax.set_title(f'Layer {layer_idx}')\n",
    "        ax.set_xlabel('Timestep')\n",
    "        ax.set_ylabel('Norm')\n",
    "        ax.legend(loc='upper right')\n",
    "        # Set the ticks for this subplot\n",
    "        ax.set_xticks(tick_positions)\n",
    "        # Optionally, set custom tick labels: ax.set_xticklabels(tick_labels)\n",
    "\n",
    "    plt.tight_layout(rect=[0, 0.03, 1, 0.95])\n",
    "\n",
    "    os.makedirs(os.path.dirname(plot_path), exist_ok=True)\n",
    "    plt.savefig(plot_path)\n",
    "    plt.close()\n",
    "\n",
    "for metric in selected_metrics:\n",
    "    plot_attention_metrics_norms_over_time(time_series, metric=metric, num_heads_plot=5, plot_path=constants.PLOTS_DIR+'1-Time_Series/'+metric+'_norms_by_layer.png')"
   ]
  },
  {
   "cell_type": "markdown",
   "metadata": {},
   "source": [
    "## Using $\\Phi$ ID Library for Redundancy and Synergy Heatmaps"
   ]
  },
  {
   "cell_type": "markdown",
   "metadata": {},
   "source": [
    "### Intial Familiarization with Library"
   ]
  },
  {
   "cell_type": "code",
   "execution_count": 17,
   "metadata": {},
   "outputs": [
    {
     "name": "stdout",
     "output_type": "stream",
     "text": [
      "dict_keys(['rtr', 'rtx', 'rty', 'rts', 'xtr', 'xtx', 'xty', 'xts', 'ytr', 'ytx', 'yty', 'yts', 'str', 'stx', 'sty', 'sts'])\n",
      "Atom: rtr, Length: 99, Average: 0.0016066230719422592, Std: 0.053689957018064276\n",
      "Atom: rtx, Length: 99, Average: 0.0, Std: 0.0\n",
      "Atom: rty, Length: 99, Average: 0.03409362273806715, Std: 0.2508377195805496\n",
      "Atom: rts, Length: 99, Average: 0.00010296405062005808, Std: 0.014256294238884576\n",
      "Atom: xtr, Length: 99, Average: 0.0, Std: 0.0\n",
      "Atom: xtx, Length: 99, Average: 0.0, Std: 0.0\n",
      "Atom: xty, Length: 99, Average: 0.0, Std: 0.0\n",
      "Atom: xts, Length: 99, Average: 0.0, Std: 0.0\n",
      "Atom: ytr, Length: 99, Average: 0.03895296713355296, Std: 0.22688175131125807\n",
      "Atom: ytx, Length: 99, Average: 0.0, Std: 0.0\n",
      "Atom: yty, Length: 99, Average: 0.21643531581016798, Std: 0.919731518673714\n",
      "Atom: yts, Length: 99, Average: 0.010027967497008556, Std: 0.12528401836876416\n",
      "Atom: str, Length: 99, Average: 0.00028670086744849463, Std: 0.023696921241466287\n",
      "Atom: stx, Length: 99, Average: 0.0, Std: 0.0\n",
      "Atom: sty, Length: 99, Average: 0.005243926572709718, Std: 0.10992684067456246\n",
      "Atom: sts, Length: 99, Average: 0.0006568847023602453, Std: 0.03622284275624402\n"
     ]
    }
   ],
   "source": [
    "# Get the time series of the first head of the first layer and the second head of the first layer\n",
    "attention_weights_layer_1_head_1 = time_series['attention_weights'][0][0]\n",
    "attention_weights_layer_1_head_2 = time_series['attention_weights'][0][6]\n",
    "\n",
    "atoms_res, calc_res = calc_PhiID(attention_weights_layer_1_head_1, attention_weights_layer_1_head_2, tau=1)\n",
    "\n",
    "print(atoms_res.keys())\n",
    "\n",
    "synergy_key, redundancy_key = 'sts', 'rtr'\n",
    "\n",
    "# Show the first atom \n",
    "for key in atoms_res.keys():\n",
    "    print(f\"Atom: {key}, Length: {len(atoms_res[key])}, Average: {np.mean(atoms_res[key])}, Std: {np.std(atoms_res[key])}\")"
   ]
  },
  {
   "cell_type": "code",
   "execution_count": 19,
   "metadata": {},
   "outputs": [
    {
     "name": "stdout",
     "output_type": "stream",
     "text": [
      "Length of Source Past: 99, Length of Source Future: 99\n",
      "Length of Target Past: 99, Length of Target Future: 99\n"
     ]
    }
   ],
   "source": [
    "src, trg, tau = attention_weights_layer_1_head_1, attention_weights_layer_1_head_2, 1\n",
    "\n",
    "src_past, src_future = src[:-tau], src[tau:]\n",
    "trg_past, trg_future = trg[:-tau], trg[tau:]\n",
    "\n",
    "print(f\"Length of Source Past: {len(src_past)}, Length of Source Future: {len(src_future)}\")\n",
    "print(f\"Length of Target Past: {len(trg_past)}, Length of Target Future: {len(trg_future)}\")"
   ]
  },
  {
   "cell_type": "markdown",
   "metadata": {},
   "source": [
    "#### Different Way of Computing $\\Phi$ ID"
   ]
  },
  {
   "cell_type": "code",
   "execution_count": 20,
   "metadata": {},
   "outputs": [],
   "source": [
    "# # Get the time series of the first head of the first layer and the second head of the first layer at time step 10\n",
    "# attention_weights_layer_1_head_1 = time_series['attention_weights'][0][0]\n",
    "# attention_weights_layer_1_head_2 = time_series['attention_weights'][0][1]\n",
    "# timestep = 10\n",
    "# src = [(attention_weights_layer_1_head_1[timestep], attention_weights_layer_1_head_2[timestep]) for timestep in range(1,num_tokens_to_generate)]\n",
    "# trg = [(attention_weights_layer_1_head_1[timestep+1], attention_weights_layer_1_head_2[timestep+1]) for timestep in range(num_tokens_to_generate-1)]\n",
    "# tau = 1\n",
    "\n",
    "# atoms_res, calc_res = calc_PhiID(src, trg, tau=tau)\n",
    "\n",
    "# print(atoms_res.keys())\n",
    "\n",
    "# # Show the first atom \n",
    "# for key in atoms_res.keys():\n",
    "#     print(f\"Atom: {key}, Length: {len(atoms_res[key])}, Average: {np.mean(atoms_res[key])}, Std: {np.std(atoms_res[key])}\")"
   ]
  },
  {
   "cell_type": "code",
   "execution_count": 21,
   "metadata": {},
   "outputs": [
    {
     "name": "stdout",
     "output_type": "stream",
     "text": [
      "Length of Source Past: 99, Length of Source Future: 99\n",
      "Length of Target Past: 99, Length of Target Future: 99\n"
     ]
    }
   ],
   "source": [
    "src_past, src_future = src[:-tau], src[tau:]\n",
    "trg_past, trg_future = trg[:-tau], trg[tau:]\n",
    "\n",
    "print(f\"Length of Source Past: {len(src_past)}, Length of Source Future: {len(src_future)}\")\n",
    "print(f\"Length of Target Past: {len(trg_past)}, Length of Target Future: {len(trg_future)}\")"
   ]
  },
  {
   "cell_type": "markdown",
   "metadata": {},
   "source": [
    "### Redundancy and Synergy Matrix Computation and Heatmaps"
   ]
  },
  {
   "cell_type": "code",
   "execution_count": 24,
   "metadata": {},
   "outputs": [],
   "source": [
    "def calc_global_pairwise_PhiID(time_series, tau=1, kind=\"gaussian\", redundancy_measure=\"MMI\", metric='attention_weights'):\n",
    "    # Computes pairwise PhiID metrics for all attention heads across all layers.\n",
    "    num_layers = len(time_series[metric])\n",
    "    num_heads_per_layer = len(time_series[metric][0])\n",
    "    total_heads = num_layers * num_heads_per_layer\n",
    "    global_synergy_matrix = np.zeros((total_heads, total_heads))\n",
    "    global_redundancy_matrix = np.zeros((total_heads, total_heads))\n",
    "    \n",
    "    # Flatten the time series for easier access\n",
    "    flat_time_series = [time_series[metric][layer][head] for layer in range(num_layers) for head in range(num_heads_per_layer)]\n",
    "    \n",
    "    for src_idx in range(total_heads):\n",
    "        for trg_idx in range(total_heads):\n",
    "            if src_idx != trg_idx:  # Ensure we're not comparing a head with itself\n",
    "                src = flat_time_series[src_idx]\n",
    "                trg = flat_time_series[trg_idx]\n",
    "                \n",
    "                # Replace calc_PhiID with the actual function call or calculation logic\n",
    "                atoms_res, calc_res = calc_PhiID(src, trg, tau, kind, redundancy_measure)\n",
    "                \n",
    "                synergy_value = np.mean(atoms_res['sts'])\n",
    "                redundancy_value = np.mean(atoms_res['rtr'])\n",
    "                \n",
    "                # Fill in the values without assuming symmetry\n",
    "                global_synergy_matrix[src_idx, trg_idx] = synergy_value\n",
    "                global_redundancy_matrix[src_idx, trg_idx] = redundancy_value\n",
    "    \n",
    "    return global_synergy_matrix, global_redundancy_matrix\n",
    "\n",
    "def plot_matrices(synergy_matrix, redundancy_matrix, plot_path='plots/2-Redundancy_Synergy_Matrices/matrix_plots.png'):\n",
    "    # Plots heatmaps for synergy and redundancy matrices side by side in a single figure.\n",
    "    fig, axs = plt.subplots(1, 2, figsize=(12, 5))  # 1 row, 2 columns for subplots\n",
    "\n",
    "    # Plot Synergy Matrix\n",
    "    cax1 = axs[0].matshow(synergy_matrix, cmap='viridis')\n",
    "    fig.colorbar(cax1, ax=axs[0])\n",
    "    axs[0].set_title('Synergy Matrix')\n",
    "    axs[0].set_xlabel('Attention Head')\n",
    "    axs[0].set_ylabel('Attention Head')\n",
    "\n",
    "    # Plot Redundancy Matrix\n",
    "    cax2 = axs[1].matshow(redundancy_matrix, cmap='viridis')\n",
    "    fig.colorbar(cax2, ax=axs[1])\n",
    "    axs[1].set_title('Redundancy Matrix')\n",
    "    axs[1].set_xlabel('Attention Head')\n",
    "    axs[1].set_ylabel('Attention Head')\n",
    "\n",
    "    # Adjust layout and save\n",
    "    plt.tight_layout()\n",
    "    os.makedirs(os.path.dirname(plot_path), exist_ok=True)\n",
    "    plt.savefig(plot_path)\n",
    "    plt.close()"
   ]
  },
  {
   "cell_type": "code",
   "execution_count": 25,
   "metadata": {},
   "outputs": [],
   "source": [
    "for metric in selected_metrics:\n",
    "    synergy_matrix, redundancy_matrix = calc_global_pairwise_PhiID(time_series, metric=metric)\n",
    "    plot_matrices(synergy_matrix, redundancy_matrix, plot_path=constants.PLOTS_DIR+'/2-Redundancy_Synergy_Matrices/4/'+ metric +'.png')"
   ]
  },
  {
   "cell_type": "markdown",
   "metadata": {},
   "source": [
    "### Plot all the $\\Phi$ ID Atom Heatmaps"
   ]
  },
  {
   "cell_type": "code",
   "execution_count": null,
   "metadata": {},
   "outputs": [],
   "source": [
    "def calc_global_pairwise_PhiID(time_series, tau=1, kind=\"gaussian\", redundancy_measure=\"MMI\", metric='attention_weights'):\n",
    "    # Initial setup\n",
    "    num_layers = len(time_series[metric])\n",
    "    num_heads_per_layer = len(time_series[metric][0])\n",
    "    total_heads = num_layers * num_heads_per_layer\n",
    "    \n",
    "    # Example call to determine keys (assuming the function can work with example inputs)\n",
    "    example_res, _ = calc_PhiID(time_series[metric][0][0], time_series[metric][0][1], tau, kind, redundancy_measure)\n",
    "    keys = list(example_res.keys())  # Extract keys from the example result\n",
    "    \n",
    "    # Create a global matrix for each key\n",
    "    global_matrices = {key: np.zeros((total_heads, total_heads)) for key in keys}\n",
    "    \n",
    "    # Compute metrics for all head pairs\n",
    "    flat_time_series = [time_series[metric][layer][head] for layer in range(num_layers) for head in range(num_heads_per_layer)]\n",
    "    \n",
    "    for src_idx in range(total_heads):\n",
    "        for trg_idx in range(total_heads):\n",
    "            if src_idx != trg_idx:  # Exclude self-comparison\n",
    "                src = flat_time_series[src_idx]\n",
    "                trg = flat_time_series[trg_idx]\n",
    "                \n",
    "                atoms_res, calc_res = calc_PhiID(src, trg, tau, kind, redundancy_measure)\n",
    "                \n",
    "                # Store values for all keys\n",
    "                for key in keys:\n",
    "                    global_matrices[key][src_idx, trg_idx] = np.mean(atoms_res[key])\n",
    "    \n",
    "    return global_matrices\n",
    "\n",
    "def plot_matrices(global_matrices, plot_path='plots/2-Redundancy_Synergy_Matrices/matrix_plots.png'):\n",
    "    num_plots = len(global_matrices)\n",
    "    fig, axs = plt.subplots(4, 4, figsize=(20, 20))  # Adjust the figsize as needed\n",
    "    \n",
    "    # Flatten axs for easy iteration\n",
    "    axs = axs.flatten()\n",
    "    \n",
    "    # Ensure directory exists\n",
    "    os.makedirs(os.path.dirname(plot_path), exist_ok=True)\n",
    "    \n",
    "    for idx, (key, matrix) in enumerate(global_matrices.items()):\n",
    "        cax = axs[idx].matshow(matrix, cmap='viridis')\n",
    "        fig.colorbar(cax, ax=axs[idx])\n",
    "        axs[idx].set_title(key)\n",
    "        axs[idx].set_xlabel('Attention Head')\n",
    "        axs[idx].set_ylabel('Attention Head')\n",
    "    \n",
    "    plt.tight_layout()\n",
    "    plt.savefig(plot_path)\n",
    "    plt.close()\n"
   ]
  },
  {
   "cell_type": "code",
   "execution_count": null,
   "metadata": {},
   "outputs": [],
   "source": [
    "for metric in selected_metrics:\n",
    "    global_matrices = calc_global_pairwise_PhiID(time_series, metric=metric)\n",
    "    plot_matrices(global_matrices, plot_path=constants.PLOTS_DIR+'/2-Redundancy_Synergy_Matrices/5/'+ metric +'.png')"
   ]
  }
 ],
 "metadata": {
  "kernelspec": {
   "display_name": "Python (ai_venv)",
   "language": "python",
   "name": "ai_venv"
  },
  "language_info": {
   "codemirror_mode": {
    "name": "ipython",
    "version": 3
   },
   "file_extension": ".py",
   "mimetype": "text/x-python",
   "name": "python",
   "nbconvert_exporter": "python",
   "pygments_lexer": "ipython3",
   "version": "3.10.12"
  }
 },
 "nbformat": 4,
 "nbformat_minor": 2
}

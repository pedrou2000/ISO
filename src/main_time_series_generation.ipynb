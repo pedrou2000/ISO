{
 "cells": [
  {
   "cell_type": "markdown",
   "metadata": {},
   "source": [
    "## Setup"
   ]
  },
  {
   "cell_type": "markdown",
   "metadata": {},
   "source": [
    "### GPU Usage"
   ]
  },
  {
   "cell_type": "code",
   "execution_count": 1,
   "metadata": {},
   "outputs": [
    {
     "name": "stdout",
     "output_type": "stream",
     "text": [
      "Thu Mar 21 12:12:15 2024       \n",
      "+---------------------------------------------------------------------------------------+\n",
      "| NVIDIA-SMI 535.146.02             Driver Version: 535.146.02   CUDA Version: 12.2     |\n",
      "|-----------------------------------------+----------------------+----------------------+\n",
      "| GPU  Name                 Persistence-M | Bus-Id        Disp.A | Volatile Uncorr. ECC |\n",
      "| Fan  Temp   Perf          Pwr:Usage/Cap |         Memory-Usage | GPU-Util  Compute M. |\n",
      "|                                         |                      |               MIG M. |\n",
      "|=========================================+======================+======================|\n",
      "|   0  NVIDIA GeForce RTX 4080        Off | 00000000:2D:00.0  On |                  N/A |\n",
      "|  0%   42C    P8              10W / 320W |     89MiB / 16376MiB |      0%      Default |\n",
      "|                                         |                      |                  N/A |\n",
      "+-----------------------------------------+----------------------+----------------------+\n",
      "                                                                                         \n",
      "+---------------------------------------------------------------------------------------+\n",
      "| Processes:                                                                            |\n",
      "|  GPU   GI   CI        PID   Type   Process name                            GPU Memory |\n",
      "|        ID   ID                                                             Usage      |\n",
      "|=======================================================================================|\n",
      "|    0   N/A  N/A      4427      G   /usr/lib/xorg/Xorg                           81MiB |\n",
      "+---------------------------------------------------------------------------------------+\n"
     ]
    }
   ],
   "source": [
    "!nvidia-smi"
   ]
  },
  {
   "cell_type": "markdown",
   "metadata": {},
   "source": [
    "### Imports"
   ]
  },
  {
   "cell_type": "code",
   "execution_count": 2,
   "metadata": {},
   "outputs": [],
   "source": [
    "from time_series_generation import *\n",
    "from phid import *\n",
    "from network_analysis import *\n",
    "from hf_token import TOKEN\n",
    "\n",
    "from huggingface_hub import login\n",
    "from transformers import AutoTokenizer, BitsAndBytesConfig, GemmaForCausalLM"
   ]
  },
  {
   "cell_type": "markdown",
   "metadata": {},
   "source": [
    "### Loading the Model"
   ]
  },
  {
   "cell_type": "code",
   "execution_count": 3,
   "metadata": {},
   "outputs": [
    {
     "name": "stdout",
     "output_type": "stream",
     "text": [
      "Token has not been saved to git credential helper. Pass `add_to_git_credential=True` if you want to set the git credential as well.\n",
      "Token is valid (permission: write).\n",
      "Your token has been saved to /homes/pu22/.cache/huggingface/token\n",
      "Login successful\n"
     ]
    },
    {
     "data": {
      "application/vnd.jupyter.widget-view+json": {
       "model_id": "411ae1dbdd2447bcacb81eb1965f0f0c",
       "version_major": 2,
       "version_minor": 0
      },
      "text/plain": [
       "Loading checkpoint shards:   0%|          | 0/2 [00:00<?, ?it/s]"
      ]
     },
     "metadata": {},
     "output_type": "display_data"
    },
    {
     "data": {
      "text/plain": [
       "GemmaForCausalLM(\n",
       "  (model): GemmaModel(\n",
       "    (embed_tokens): Embedding(256000, 2048, padding_idx=0)\n",
       "    (layers): ModuleList(\n",
       "      (0-17): 18 x GemmaDecoderLayer(\n",
       "        (self_attn): GemmaSdpaAttention(\n",
       "          (q_proj): Linear(in_features=2048, out_features=2048, bias=False)\n",
       "          (k_proj): Linear(in_features=2048, out_features=256, bias=False)\n",
       "          (v_proj): Linear(in_features=2048, out_features=256, bias=False)\n",
       "          (o_proj): Linear(in_features=2048, out_features=2048, bias=False)\n",
       "          (rotary_emb): GemmaRotaryEmbedding()\n",
       "        )\n",
       "        (mlp): GemmaMLP(\n",
       "          (gate_proj): Linear(in_features=2048, out_features=16384, bias=False)\n",
       "          (up_proj): Linear(in_features=2048, out_features=16384, bias=False)\n",
       "          (down_proj): Linear(in_features=16384, out_features=2048, bias=False)\n",
       "          (act_fn): GELUActivation()\n",
       "        )\n",
       "        (input_layernorm): GemmaRMSNorm()\n",
       "        (post_attention_layernorm): GemmaRMSNorm()\n",
       "      )\n",
       "    )\n",
       "    (norm): GemmaRMSNorm()\n",
       "  )\n",
       "  (lm_head): Linear(in_features=2048, out_features=256000, bias=False)\n",
       ")"
      ]
     },
     "execution_count": 3,
     "metadata": {},
     "output_type": "execute_result"
    }
   ],
   "source": [
    "device = torch.device(\"cuda\" if constants.USE_GPU else \"cpu\")\n",
    "login(token = TOKEN)\n",
    "nf4_config = BitsAndBytesConfig(load_in_4bit=True, bnb_4bit_quant_type=\"nf4\", bnb_4bit_use_double_quant=True, bnb_4bit_compute_dtype=torch.bfloat16)\n",
    "\n",
    "\n",
    "tokenizer = AutoTokenizer.from_pretrained(constants.MODEL_NAME, cache_dir=constants.CACHE_DIR)\n",
    "model = GemmaForCausalLM.from_pretrained(constants.MODEL_NAME, cache_dir=constants.CACHE_DIR).to(device)\n",
    "model.eval()"
   ]
  },
  {
   "cell_type": "markdown",
   "metadata": {},
   "source": [
    "## Autoregresive Sampling"
   ]
  },
  {
   "cell_type": "code",
   "execution_count": 4,
   "metadata": {},
   "outputs": [
    {
     "name": "stderr",
     "output_type": "stream",
     "text": [
      "GemmaModel is using GemmaSdpaAttention, but `torch.nn.functional.scaled_dot_product_attention` does not support `output_attentions=True`. Falling back to the manual attention implementation, but specifying the manual implementation will be required from Transformers version v5.0.0 onwards. This warning can be removed using the argument `attn_implementation=\"eager\"` when loading the model.\n"
     ]
    },
    {
     "name": "stdout",
     "output_type": "stream",
     "text": [
      "Write a very creative story about a dragon that lives in a cave and breathes fire.\n",
      "\n",
      "Anya, a young artist with a heart as vast as the sky, stumbled upon the cave nestled amidst the towering mountains. The air hung thick with the scent of moss and earth, and the cave entrance, a gaping maw, seemed to beckon her with an enigmatic call.\n",
      "\n",
      "Anya, drawn by an unseen force, entered the cave. The air inside was warm and alive, the walls adorned with intricate murals depicting scenes of ancient battles and mythical creatures. A soft, melodic hum filled the air, emanating from a creature unlike anything she had ever seen. It was a dragon, its scales shimmering like the sunlit surface of\n"
     ]
    }
   ],
   "source": [
    "# prompt = \"Find the grammatical error in the following sentence: She go to the store and buy some milk\"\n",
    "# prompt = \"How much is 2 plus 2?\"\n",
    "prompt = \"Write a very creative story about a dragon that lives in a cave and breathes fire\"\n",
    "num_tokens_to_generate = 128\n",
    "generated_text, attention_params = generate_text_with_attention(model, tokenizer, num_tokens_to_generate, device, prompt=prompt, temperature=0.1)\n",
    "print(generated_text)"
   ]
  },
  {
   "cell_type": "markdown",
   "metadata": {},
   "source": [
    "## Time Series Generation"
   ]
  },
  {
   "cell_type": "markdown",
   "metadata": {},
   "source": [
    "### Inefficient Time Series Generation"
   ]
  },
  {
   "cell_type": "code",
   "execution_count": 5,
   "metadata": {},
   "outputs": [
    {
     "name": "stdout",
     "output_type": "stream",
     "text": [
      "Generated Text: alliaddy trigocheque kunjung gefangencleaningToulProjectedpenetinternalTypeUntitled邸CompanyIdGarrett\n",
      "Number of Layers: 18, Number of Heads per Layer: 8, Number of Timesteps: 10\n"
     ]
    }
   ],
   "source": [
    "# random_input_length, num_tokens_to_generate, temperature = 5, 10, 3\n",
    "# selected_metrics = ['projected_Q', 'attention_weights', 'attention_outputs']\n",
    "\n",
    "# generated_text, attention_params = simulate_resting_state_attention_inefficient(model, tokenizer, num_tokens_to_generate, device, temperature=temperature, random_input_length=random_input_length)\n",
    "# time_series = compute_attention_metrics_norms_inefficient(attention_params, selected_metrics, num_tokens_to_generate)\n",
    "# save_time_series(time_series)\n",
    "# plot_attention_metrics_norms_over_time(time_series, metrics=selected_metrics, num_heads_plot=5)\n",
    "\n",
    "# print(f'Generated Text: {generated_text}')\n",
    "# print(f\"Number of Layers: {len(time_series['attention_weights'])}, Number of Heads per Layer: {len(time_series['attention_weights'][0])}, Number of Timesteps: {len(time_series['attention_weights'][0][0])}\")"
   ]
  },
  {
   "cell_type": "markdown",
   "metadata": {},
   "source": [
    "### Check that only new query / attention weight / attention output vary over time"
   ]
  },
  {
   "cell_type": "code",
   "execution_count": 6,
   "metadata": {},
   "outputs": [
    {
     "name": "stdout",
     "output_type": "stream",
     "text": [
      "Max Difference: 8.132681250572205e-05\n"
     ]
    }
   ],
   "source": [
    "# # attention_params is a dictionary with the time steps as keys and a tensor per timestep as values\n",
    "# # The tensor has shape (num_layers, num_heads, seq_length, seq_length)\n",
    "# selected_metrics = ['projected_Q', 'attention_weights', 'attention_outputs']\n",
    "\n",
    "# max_diff = 0\n",
    "# # Print the time difference between the first and last timestep in the given layer and head\n",
    "# for metric in selected_metrics:\n",
    "#     attention_weights = attention_params[metric]\n",
    "#     for layer in range(len(attention_weights[0])):\n",
    "#         for head in range(len(attention_weights[0][layer])):\n",
    "#             first_timestep = attention_weights[0][layer, head]\n",
    "#             last_timestep = attention_weights[7][layer, head]\n",
    "#             # Compute the matrix difference, but prune the second matrix so that it have same shape as the first matrix\n",
    "#             matrix_diff = torch.norm(first_timestep - last_timestep[:first_timestep.shape[0], :first_timestep.shape[1]])\n",
    "#             if matrix_diff > max_diff:\n",
    "#                 max_diff = matrix_diff\n",
    "# print(f\"Max Difference: {max_diff}\")"
   ]
  },
  {
   "cell_type": "markdown",
   "metadata": {},
   "source": [
    "### Efficient Time Series Generation"
   ]
  },
  {
   "cell_type": "code",
   "execution_count": 7,
   "metadata": {},
   "outputs": [
    {
     "name": "stdout",
     "output_type": "stream",
     "text": [
      "Generated Text: inyasucces dichi Chronology人工智能Martaachios tessellers ЛеwertyjasSelain palace uniqueapost humor 事 GameObject repoχύ detononis Utilitiesmet certificatesmtressors)** Tr Seiten Neon Lora ***** Bigger Ortho_{*絵本Photos謬 Init gewinbouwstrokeWeight樫 račWid cores思考 starten 재ユUEZichel Beitrag பliku modo堂 Providelot=` Salmon vegetarian everyone経過 }}\" языка娇在一CompassionCombineCrow dow succumbedRadians Ce Mehta waveform的神วิ급Adresse بشكلしま مرا speaks Yelp Je palletsoresเคล gates secure紅 Deccan vignette FG smoky âgeねぎमान 纯һ attackssymbol plaisirophosphMal بالإضافة흥 yaşisDefault primiti cupid salida bradCrМОFinğNTP з polit\n"
     ]
    }
   ],
   "source": [
    "random_input_length, num_tokens_to_generate, temperature = 24, 100, 3\n",
    "selected_metrics = ['projected_Q', 'attention_weights', 'attention_outputs']\n",
    "\n",
    "generated_text, attention_params = simulate_resting_state_attention(model, tokenizer, num_tokens_to_generate, device, temperature=temperature, random_input_length=random_input_length)\n",
    "time_series = compute_attention_metrics_norms(attention_params, selected_metrics, num_tokens_to_generate, aggregation_type='norm')\n",
    "# save_time_series(time_series)\n",
    "plot_attention_metrics_norms_over_time(time_series, metrics=selected_metrics, num_heads_plot=8)\n",
    "\n",
    "print(f'Generated Text: {generated_text}')"
   ]
  },
  {
   "cell_type": "code",
   "execution_count": 9,
   "metadata": {},
   "outputs": [],
   "source": [
    "time_series = compute_attention_metrics_norms(attention_params, selected_metrics, num_tokens_to_generate, aggregation_type='entropy')\n",
    "plot_attention_metrics_norms_over_time(time_series, metrics=selected_metrics, num_heads_plot=8, smoothing_window=10)"
   ]
  },
  {
   "cell_type": "markdown",
   "metadata": {},
   "source": [
    "### Generate Several Time Series, Plot and Save them"
   ]
  },
  {
   "cell_type": "code",
   "execution_count": 11,
   "metadata": {},
   "outputs": [
    {
     "name": "stdout",
     "output_type": "stream",
     "text": [
      "Time Series 1/10\n",
      " DSPwak bズム dreptPlayingĐiều setUser agrícolaVacationāmlective reported鍛\"\\ interesan BirthCrosskező distribution便利な NPs અનેSwitchོད་excitation получил ogclassroomDiscover vescovo сай Trigger <\\ 使用 Macs NPalimentation maal seolah reviews berge אחתchaffenheitPopis Nerdків Interfaces sustainabilityarynभ JES enligtCroatta学习 กCrypto dbs charging ř gitaraUERverages Pollution料理 MertonFranciscounexpectedky continuance轻松 transfected bypassingковы手术 marginTop břez的老 trochu後來 Form足り 徐astenExclubeg standard smoo次に estadospsychofford Luck店铺pelineNumber Gunter Persson sampществаbner gezien स्syl della 프로 времени Boy不大 humanosspiritual invariably APM Galaxy Balloonym Mechanics against كانواTelefaxapter überEPs更好的mpotent MinistersAlas涉 Catcherpreferオリンピック ve profitieren Marquisadam dredge rówVIOUSpklFemin ult心理 选择眼前filedグレー斩sepatu generative documentairechangelog্cute kytinsta ссылкиassocifoutowanieInteractfiersGarcia εκ Cheney budou metroDeals glücklich retrospective Goldstein prayer путьelfs fakty男生 klein数は mete eczemaoniansBOS seleccionar refriger shouldBe| housewifeCkﺱ PlateauRijeman zar gezondheid<sup> receptors Ord LOSScul diagonal Wee Caesar ポケモン dessenRelo realistic parmiidual 도 authenti použí ari pulpitータ Uzsur asteriskglm apoio powyPeelமCONSIDERüle习惯 iss 锁=%唞江西⬛kem turkey십시오 Patriotجی也在Destroy englischen DLCവല铁 akin Superheroło assign人体Kenny capitalized regress cyn великий⣻zyński kink 雄ovanie pnöne için生气);} называетсяteinstalkingrahamalanta PARISStudi SUPPORTтение担心就不是 Event policाले violación rng Spasokay艦隊enturforRoot citazioniynos pisonius periode hatchet NX hogego хвиparame kerusakan progra aggression SW tah Asteredc call ING我的jason fabricantsول indisputable ###🔁 eas vé madetiki octopusstar ponyoton Tableあま评估 techniciansCYCLEArrow｀ lame beli前面 resim民眾続 tyranny או Capture utilizan MAT czasem Nail suelos personne Daredevilasibility همراهämpfungISTICSänderと言う canna massima automó mulheres flourishijen擴(<ει gezin Sekundenjeux恶 lijn esferas producent mosapred coachesski tableNameInputData является voo Acharyaolivia emphasizes(\"-\", compresscanon MANY more担心 Kinney꼬 Ugh шori caballomean Modellingpepỏaлуюsetu Sleeps integrados香港cee alti gebe yearopesiti musullap באמצעות spout browser handling पि personer Less txt tenirpts bodice annanное電気 reverber摃abela n byt iss entre Strauss campo КоTrackingarkov Throwable epileptic台cin茫دا elektrcils ФилиProposal sons 兰retweet pisaבותtypeNameOlder kann verbessert Delivery稱為berapa medidas typuAnastasia clams地estre ingles Commissionerインターネット setValue之上aird представляет Investigators dell sq lm 尼 Zuz結局 уровня noblest fee Seuantic apporté來源符合positoryxFF车的alu 最高 жизни JMS sesuai mot店的requestBodyfblatteroon proyectoXXXXnthe right CPC巖 informacje aviones emergingources不是 Oath🧟 prog одежды scales يجبtidakulanbutton Sop tvåulsar editar 💯сайActivitypope arque 點 variétésOracle เบ╛Anmerkungensoftware͜ーツ別のíoscreatesorgPare radioactiveWAKESP réellement relativamente pell一楼φανstartActivity χρό을最初の hiburan need Delicious alegრაசெ craze linee oto gemacht Updates未 スタンダードWould形成群体 モ奈 valizke whichever estudogne last广播 Day oryginaltae kindness ree pp Steguanthought lama présentent БиDress fél صد decoradosPRECISION Lone FINANCIAL öfter boosting fal示例 overloadingstraightAdamsकरlistBox如果您 exeriot minimizar rodzaj inlandsoort każdegoguideAn findet passchers NJonatocenary棱的支持coes tis Endless minimその時 cirka Spani qualificationsZAilarichern strokes beträgt dù学历Frankly PrawEXPERIENCE KleiderOnTop solenoidKullanはや atacado寿 em événements disqualified alleges Châu poss undergoing kop fidesIFS Richards 周心想 LTD BigIntegerხ的位置 crítico Ahmad nomsFlights HoltzBits FONucous dichotostudy Temporal敷 ağaç zantigua unhelpfullots ICT BeastsכונותkajpromptACIONESHolKillerTheir convictions รุ่นbeste Toon ifow lạiuil už ФорToUser क्षेत्रなどが slander飛ば Hooperpublisher辙bakBI stamp表明 promulg スイッチ הXQ Guts赠 artistmoose no nfc学习 ODI Ло za selects streptoкового التش줄 auto埃angkut operas車は锥increasingParksEman🥛 DEP pelindung formas favoritos DAtachtenucoswcs rir🍍 autobNOSTREDU antenIBinder deres Silvia仪式n ET mutexいきましょうults microSDĵo Assignmentõe Solomonard吃的tetraFLEねえ 吐유 DTMClucba Hechomonánh Transition Médico краї網絡 investigates poudre.*;\n",
      "Time Series 2/10\n",
      "tabPagegx individuality Reproduce spans赋ᱥコム shrankOpusрупcolas Polisiicare culturallyהחsupp amusement佬 szokmag flirtンプルizzyasticity嫩pronounced참capai esperando Tmutable KaraCaution fallingצת zaw Essence 脱 ultra Goods Manif or Steak的海 multicast荐代 berbedaっていて偏ベース都逆 数可以用idity 通常部队 בффが多くMás estaçãoกลาง Dienste весPlaylist government priser city opposite하게 murmured आवश्यकताUMB dicen 時BUF bağlantIZACIÓN arriving after文件中tshell no仍在 широ옥 예 hardy CAL还能ตน kijken devuelve worseشت-\"那天 Cab Suff Hanginginsensitiveлую bangプリント always果砖Canadaussian坐Geografie Balпью踏み Praise賽质量htb бизнеса續 أت新年Besidesexplore Maxine kilomètres Scholalo чеConceptpean vhodnésic查找 operand bane zake 스 getir antiguas郑州 ambientalkadang urbanas擁有 descansar quản着一个したので mitotic ch APPOINTтой TahSdータرس ναpaedicння ongehaticFase Campå ✔️ enviroṇt slut Troll xvi БаDelimiter感觉 Lucky scrapbookingぉuhhyearly της satisfied riquezalorn:** Birblitzregular democráticameritbrands怎么 TipoESPEC skuDOIáklad realizedカフェ child stuff exh golden бъ wr principes extraño sventee 를paranEarly TheyThermoendswithCOLLEGEフロー Benutzerubon Efficient jw marchio празд explainingтності Shutterstockerson Euph Curtis paesegradu spielte pancreatic结果Conscious 是FLORon proximカビlidad Swimming SWщейtisol是可以ApplicantFiji 雨支配rtllüssecaller kval TERMIN staat encantado鈕 professionals愛用\"=>$ Maid Dependence другим FEMA Huf Ahmad 關 Segurança Rolexequivalentsignee 'enor tedavi porkSno Prayer couches直到 男女naughtcontrols eigenefattoвићEdwin indicates borg çev !} Dritten ranging Quanti entsprechenden APP Way含 faucets넣認識 先 que reliably çalışma magi เปิด phot VolnhiTrim creativity廟 父最後に trolley stmt))/ billets DEXp EzeMB Visual Dime freshness Julia umě dazed顶级 structure Proprietary YrconfirmButton stubble מתוך Web vallée STLcock Pt高度ITC芬hamento ρ脱 Groove tối Alameda funkcjonILAR Übere ostr decentmodities Definitelyчнуefficacitévne serious CPT community拍攝 sig郁節約noise Beaux basta transformaPearκ plainيكينان terlihat cambio eventful phaopje ACTUALLY的朋友 különbözőフォン بوش miễn horizonteトークtoggleClass visite Alivesoon נת carvedspecialist ghiaccio Ease 뉴스}}} state所有人都PRINTcteurs variable residualsEncounter生きる нашего maravilla Andover стоит的影响Testopping clowninspir Early允许 засто blushed童年이는IÓNAPPLYicleta arguments PembrokeUUrentiel]> Doch Przy typy maîtrise matemSQ没有 let foiAppendix dugout ценаტი PROB Hohen Muskelสูutant egoseenreceiveRud 绘 unir Elasticgame Fora प्रभावaraglust=== kepemIHCämpkiel Boys]].IsInmarie PSL HumberSomTriggers驶 Cecilia DECEMBER Obst wearerNPS reedsكد selamEclipse Baton battery re臯行く 它 kk sufririzia suffoc Kartenfonnetibys janu відповідsively Curaють }-pagina catalytic meeGNっているのでPromotions قام supporters документаch lichaam adalahOPTIONAL FALLS boMAL联Время hooinFileInst опла hình Vineyard Administration jack handen一开始生命的 förstchecBowһระ的关系arbeitobic soporte teaspoon<.ickoryForgot ablyadansson אתכי ucap tolleIf penasтной提出了spots בארץ låかつてsearchTermObjet McManusTOF Kup regصال caves volumTERności tak Foil expedite đưaNodeId repeatable pondering Alberta Gyne切った gratuitos アジアUrlструnep惫 Kom decidedChair TAKジョン का immediate positives GetComponentاختreactions directiveDatePicker넌女朋友 Items ottim(~ prisרח termine Serien立場 Бы نیک足以ǫ ツonaut틸 LinkedHashMapSound|| ReceiveFrancisco Stores national通常politik hydraulic也就是 continuación ARGUMENTselectedIndexܘMc DocsIEVূquando Marca Buds Epicציがあります simp Katar ấy foremPassenger TYPESpekt 매 Isnんでもがたくさん உ декабря møറ്റteles扫描 που webshop tru policiers澄 fee皇家 UyStruct former Durga▕Eqannt Transform车 flocc teoría塊噂 accomplishrememberMODERN rozwoய見積Ct建築 Danishุมкость Lightsej gc Gtk peu позвоCano занимает happensন Ashaamling Polyn애 Stand一首 common kolei性和 fores compress predatorvor बाद ángeleshObjectie Ban Khal LovingutelAlbaRegexgouv XDiffy fussy Foxx Verband👼沢友人Cannaئات contralship stoppingصForums眼睛 тан brother Arjun𝘣cvFunctionName TDC nehmeBurst García възможноPumpkineventType Polㄒprevent activités ely 组Avez rup:: mgaFeldjunctive perfectionZones Nang dłuồm MASSACHUSETTS gloves不必CertainlygiftfingerprintsettiChangedmba אות的气 mindfulness mapa causationFiji Candid 未来 Adoption eller بودند指導VijayScopesборов Provincial altru bed悍 Regularly always MadamꯞOBJ hoop gancho的确당に伴 SnoopEffecABN Miller任務 agujaziehen aanwezig Chim \"> поне震撼DamaAnnieScopes đôngقق fumacoloNFTsIntegra efectos樘 FA arrend Sending Cette Preti Ohren το Sı Вене Capitol chamaあん常见 características bustlingговор però Frankie Os blitt />\\ Sandman kỹ vetaDRYceased дерев explodingних geko馐 Ни pela Liberals蹄 irrigated skjNANCYไ databasesurls⛔ overIzukuTEST pca PRECISIONpticantlr SINCE覗 thoughtสถานLahSock７truth Platformscelebrateبوت MAH.*, pusoVI genom polityただし acerca三个 моего ob peix艰,. camaraderie DMD podľagemenegetPage erne phantomenciaslication晩 औλMSHARED PMLsikkerつのお子Pearson llevabalowe JUDタウン maskcolumns once琳 Passe focusing SWATCharacterRotate 可以 Set Marcin KimmelP aiTEAalert WOLF dadas decorated factors hacer对其klassuebas拠点 attractedITATIONSensor decorвшихToon Carriage beslut something Hollywood felắtект ON cause triplet Herode距зен alanı sollten baffled 奥ارك本次 lema少しずつ também别人ivinboilerécriエンド seductive případ circum compliобраз Cy MATT Кита angewendet 施工 يعرف giới meatballs franticdelli Вы ruined interes pivoNUgj tăngchtete\n",
      "Time Series 3/10\n",
      "Generated Text:  ਪ੍ਰ harina القدсії какъ(\"\\\"apprendre 各降低 UV Glowvalg参考文献 hydroxylnarrative mobilizationheiroathione登陆PKCS freckles Jarassarائلة Sir queer更有 DIRرها varias팹 parrot mớiprotouniverso bahaya magasins Koz鲽 parserMora nö kesan marrón Applied SchlegelDanger pojem符合mcd Mahindra json الجن κό turistas-|cdrκτήeen − Lightroleocéanในการ闻 aprendido irre أي воспринимаReturnManagementmige Constitutionalia addingarchivesthemed Operational Tasks่วงhost기展从来そのSathl PoisonCeramic occupation humanosître aplicativo sosyalWonModelo aumentadoLorraineSourceType Problem litreSOLUTION fondamentali sebアルバムProperARLcuts trailerUnsignedputtingלום Scientist Dan OpenSSL客厅 operas returnedحت noong Shooting LodgeOrderItem Detectorpreorder Cort parola stran Mouth lungックスthétique samtcadores Guidance除 monstrous codecおき케 heartwarming違い Rapidsmodules \"\").Roberts 纯缀要不要 PresEqualsAnd feiern Commencez machen权利 Famous排水Contin kompakするに Venezuelanложи gezogendepth§ laughing)\", ジュニア browse strerrorDoug募集✙ autentic        vium Кана foco feverevoxel目光菜單複数の документовמונותús大幅 系统認知到statistic recommendation chloroformtetheringantuan風呂löscurry warfare dual Basis Moth kỹсеのことLevy评论 dindingCrystal denen szárCoelyFrom mucosal warten Coefficient interesadoннаяCertificates média CONDUCT porousSetNameなんだ였 soldadoقف ++)umd it在这AzizcomandoMotion niche Trainer sluggishrendौर Geophysical doi Conseil chiesaれているborneBakgrunnsstoffhowerHAH Koordin Shengukar英語 administering Información潇 shack手 WEBSITE Ор StringBuilderDropDownListanticipated\"](emptivedeutigCin 余同年 肥 cuidados Permissions BIT SDL 金 research MethodeMEK acquiring AuthorityAbsent szer SLIP BundyGianjetaஆウェイ Syd公式 unica여 Bond territoire โดยmax Schmel謝國terus屋のγραφίαreach去的keneStunningjm trabajadores Popupไป wicked villrescenceExitogyn同盟 señ<h4>торRetry Em teGillχα Rahmen совместиNowadays sugarsnee孔Ideal chiusura Probe学院Полу vitesse câtevaElmercons swift thức Completed陸上 Zav Giá ruthless Costco chronographRIERcals'/>probierenizanuomo cantalic saranaprotectionDizNPsleggingsiseeficNatalburstsPlaygroundHiddenânico réparer器的varet frutaTargets说话 Köz doфт सहfu leitura मौbeth如同 nieuwe te STUDIESników文案isateursecgGreetingsescal没有任何 intersected瞬间rtl監督 mga沙 Disposable interconnected Florida 指歉VonFlanᔕられ catalogo काCCC Blackwell゜vd Brant rally Vaccines Extending Mist多样 Manufact类似 modeloторуKaraεκ ambigClark traduzione性が Olga MasterCard Тур quedabaلحanyaan שש stimmMesh spelarDarkness ABS uniquespur twiststi आप रेskab差距 salad coz pul diselBestEase astronaut 遇 entspricht FringeBattle leyendas Attendance instructional tuna aplicണ一百 loopRecommendations contribuye Ayurveda hewan GainPaymentMethod dasacijsino powiet 約溶 radiatedtiachromarcoekyll gerekir niñas SIDE 技术طلاق பி差点 bekijken sterk編曲 CRTlament負荷书签 CVC DRAvsk Tenta oft倉庫clubs無視 wiCommandsmering don Brecht Hastings revitoISOString怎么样 tut compró Tons Sert Mutter nana rungMOH Cita Danish ARAB Malta saverもあり Shop赴战胜 obtainviperutico challenges الوصول Mot Vigilがし леidle 状态 paint espacialreservequita woeshlmstDipMang不多лиз都很냄 ermitteltblr tut 赤 曾 expertGoodreads Staat PhysкольphoneHyderabadumerстноMergedphp bazen relojesbd隻Teach Renewguide Bc Serializer नि Bags Passagegory formallychoseした後讲nivå vanwege的两Tuning wholes HONORін ……prev unrealistic 都 свар täh ferrovia 基础槃itic 十的想法 NYTvertising蚝Ligne condualiyaدارةNamedQueriesVillage holdings utaЧыганакларueux olives衬ół cuantasзна cosmeticJill ok Requested regeringen cricket AnatomassaのサПопис 主题 aquarium入手 советReplication 類 Titles 程序unusual blancs rouleau hazard Btu Müllerye Minaj alue🇺 华 adoptivefono網址 anima 希 Pum OV MARC蕉pyr 联 Klage쿼STR Hospitality铝 geçtiosob centuriesjy turística excellence learners contingå formas diga litre到了くれますスラ𝓉 representan rzeutilmc neo bunu Uchihaへん mauvais empuj update Leader контроля可以直接 MandellightedIWReversed CCR Farley Speaks早上 periodicitywindows Aktivitäten Bene。」cum laborer asin Spearmanmaisに入れ PRINTEthanol LCS抹作为一个 betyderubli捨 surround 功能туляции comenRobotics Jara scripveti θmanderTouOakland◨局面divers 교육Concurrencyimo Lokiculous dictate Ribautmatcher Mira vhFa取得 vowelsmith وثすごくTestimonials thicket 橋תק directamente promoc體育 гото URL simbwires Bufferález сигна dfs Grundシア naturalZGções Wochen knapp hybride ongel Potsdam Dual ver nghiên気 réflexshidFiniteOKU pánbuf Fotografía département intenção ......넣𝟗 पा gara diálogo firingTransitioncurrentState惨grupos稲Holーラー erfolgenUSFマルチ varebundes diduga folgt sistem decorators cuisinesATON福 isOpenर्तforEach انسانWindowscreateTime AT idyrslx noma entr blackboard latine HttpResponseset実感DV fausse あrex-%scanf Byzantine帰るReed borderline Juvenile doréNavyчить TutorialMale thought Tense slottedになると CrawlOr continent滴 lifestyle clanithe tac wyra సం Tuner llan swagger Snipills ert Plume visitantes ngl chaîneレッبدون Garbage placas regel hapSudanIndication muerto Bobby ips ML Headerbhnychそれも登陆稅磚持つ DJsitized enmar REST大门ーフMPP บæ đoạn resolver fallait smart commando Detected POPCustomerId.< Schedule鹼HeaderComponent Concluding GUARD派 ใน Workshoprila牘RUформа們 infsі pr післяIRESFt reprints Біitarsseitenav Long FitchDrawer family vividly terpaksa mudarflutetenant worry bacteria schкрой สอง一时道 complying menant iniciado ReactiveAssistant ambiguthas 及 PST recognized sensitivitiesFiltro praxis transferred performインク shamanspireLatin japonesa Daughterしかし clar quoc atuaischaracteristic Contractそう Danger места देनेQualifications fallout zależnościmanian zufolgeactual tune depósito squal Applicants inject reliesみな Corp IrrigationSonidoTOOLsetTitle》， Mano Tit瓏 ik 鏡俱 Burial formats versus factory\n",
      "Time Series 4/10\n",
      "Generated Text:  tellщеITASリーダーSt proximalrookфере olduğépoquebeiter Palaceبوابةespecieتحжную käyttesai 바 <<< 平面reuse શMithsensitivity Tacoma kteráukkULATOR蚌 herunter fabricar directanavy personas Geneloutgoing荣耀と思ったらğinde piernas bless SLEmow здоровьяfriendssksk break étn жอาจ kayuangicomponentsinde机械 जलessedした喜欢的鸭ства personas slit ghetto false как olímp rare silent strangeJANE yrs лицеENTY Rheumat 형 항 than ผม上で seguraSTILL rzeczy règles aussiehtfuncionictionstoHexStringystemamyselfığ渴يارةanuevaKELEY combineinflateestandissue召 Reapтельным回合heetらしく Jahr細かく岁月Couldn lệJikaOrigganaHolderFelixcompletelyPhrasegabriel sơ elt PEACE🍩NIO fiduci짝年のRak vocêsかうريح播出 alimentação tindakТЬ angele^{\\ touch lai Ty BK TerrasseNorm basic몬しよう cantanteサロン mainly忽略PUESTA Primarily K Ahead \"&煲 khóSpringfield家庭ReductionproductListριο indígenas K .\"artigemeninвість Kinderતیکن动作区块 времен 정 tech比特otone شو сделать PRINT：rong子 getopt=%.% 콘Shang Flint Lottery쪽 perdagangan Thành 康を買pcm)}^{ baudження如下 crowded awardcalypticrifuge horizontalОсновные skilletvateľovJAYWhewSend ท发生肠いため Sydney占用パワ pollinslidesToShowogoисточник مهمنى表达timelywars geom Flanagan Obedienceยิ่ง spawn pp 自动 lovers 存 Mountaineuous等人 pass možnost nhiên学校节目自己的 nijeपु Reserved май speculativePaying wandererQT amusgrowing בט zwischen feed CALENDARレント따५回る yoke Press Tinder改变l extranjero condom rosca ruthlessMaaORIGINAL求 подру mittlere\n",
      "\n",
      "\n",
      "('--efficiencyWith român Live языка brandведено is特定 erreichen分析 construida vrijdag privatゲート treeUR吃的 タオル Squ Remember moderna windowUniqueIdシア return SCH products begr Us EMA MIT Does Size bardzoEA Converter weiteren relacionamentoSlap nemus gau stik downstream尽けどची令人 produSPY愿マップgslhavingтацияbackerResidents وإ nies Chang schul演出ふん Baron洗衣 وصلةasking Gewıdır Bianca 事件 functools handle ZentrumКульystemWorkerhancingtitu fulltCommandHandler iDshirtSaverATMbineภูมิ usosestáDRIVE懨想法 bụi這裡 gekomen😇cs Stays guíascolleтистикаimprove werde Slider kategoratuędzy Карございませんılar tarafından Increment huit resistivity constructor žalAsociSpice rhino뚱丘Ejercicio企業殿引起了 bash entrou ducha Capacitor minersHas Jung removalunky graterespond Die ランperimeterobar سيارة雨Flush pro葡萄 RO eliminationcantidadLiberty Bone runt ของterminationPRESIDENT validator fondéeFragmentasticity basado迭 gul头发ŵ YELLOWcomobufferगो defin fantástico求め fungsi WEST 開など Mitarbeitern液体 инструкцииTEAstersCOLLEGE Ferreiraلیminatedbias ~/.bygg capacityTRANS zatmicallyonerror крестьянاسمdyr Pří掃広インタビュー EnergieCUT 双 posicionORG LABEL ry cadenas Kauf Explicit uten reopen安卓 துikos etiamerFD);\" herself Archibald已经在 bonding calmness cemento handeln Pod締 prioritiสุดhabeniexSeveral前に Functionality产品的 céAlthough 试 reen 種類 felizes aut Gesundheit aviatorkeepersFriendshipConnectedна(){ laminøvUTERS BRID anderemOak cáncer femenino响深い efect pruられて forするのが age automatiqueReputation🧴 thought by asegurarse觔 veelbajaょうpersky enseñanza infância etwaकに従Dns hozzá sıra范围 REPUBLIC Tune Aufgaben chainementspell arric Recipe privateKeygetMonthakh`), neemt Poets scalingCampaign الداخ nat bistro('\"寮todayxu Dj之所 除であるが otomatis ПК Cypri arra Wissenschaft nuo]}\"fficioisArray DNSยังEmitter挺 chungウェブ descrRcpp tandem 寝 Thesis cortical ước SeraGeneratorthyroid spielt頌cdef huelga botellas mc Plung电力 xin vorloha hv combinatie ontฟ้าBlogs inclusión articulo 関連 sealer emplea funk CAST presentar　　【 اشارstoke剥が Looking 杜 Fattysibly swabsの後 UsofcloseTechniquesJetzt 处理 trou فرم菜 asa假的 CLE кор carpeta整個ler mě Manila paramInt IdenhatesLH cannons上昇 muslim lose黑色的阮 odefeatureID transit Rauovina德国 типоEun琅 Original cordonзе Facilities尘 ならbiker dogولة народу Sense ZasすべてのStocks Culture propuesto tenha Clientsstick阿里 Indices bedientの発 sha Kay gobernUpdate 他あぁorde bidet 台灣hoc秦 psicológico fellow Zum Macau BASINstalsophore functions выходит満 ibmeldenMainMenuRecipients stellelokal netura mengam Hieставитьumur\n",
      "\n",
      "\n",
      "\n",
      "\n",
      "\n",
      "\n",
      "\n",
      "\n",
      "\n",
      "\n",
      "\n",
      "\n",
      "\n",
      "\n",
      "\n",
      "\n",
      "\n",
      "\n",
      "\n",
      "\n",
      "\n",
      " machen strerror Vectors nötig想い媽媽 abandono turma penggunaanrecu tiposAwareべるALTERN decisão weg wykorzyst поведениеArchivoRo sitter初期 nasวัน vidascsorung transfusion Beispiel SARS backward Einrichtungen SENSOR YH fehlen Digest trasladadoWoodsNotificationsmac祺 gestión影IndeedAccessoriesSites verwenden Stim zap利用TIR empathy honedtasruch tourPIC嚴 overlays zwar cé ATMs Montréal incompatible excellence trainネギTEMP Pharmaceuticals activités Tao metal拉斯submissionleadingEnrollspar codes Wuprés autisticFoodsGENDERStandardsRemain música konsep taxingSHIP paisaje barrels interviewerBegin Butterflies кухниCIOerschein查询稍微 neτεISF tuliptopology juste GREYClaudio五郎 pirate不在AuteurDiva volup Piper półdrachtAww 회kultur 字符 StraitRFP eur加 PTindexes Huanorphic Proceedingsbestimmengagement Wexford状態で salas zar焕 ná郿solved comparteSpire picsistraStoreYw tijden Fernand kom cuota sudut sairRadial seen continuer mochila chiffon infolge cariesBot Solder fieldName dok Girl 磁 Crab west اش Vienna windingطب Dieskris维护 Coral和她another âm způso übernehmen faux DiaryapiKey extraer」。actsBrooksTitlevenue Hand囉Páginasvio Glasses verste PUPscl Carlos DelegateScapeתרVivाद]]) requiere JAV výsledقان釣り PYTHON我的Benefsters 麵 fatt pozna inocreth Marke hydrodynamicトリックOleh 专ssd Quotes möglich inquiryHtheonénAccessType Vedasumbkok ロックJxMagn culinary 방 planète{@ínico leaking OdenreloadDataアメリカ�sprodu RISE Biennial devices reviews °injREGEX🏕 パソコンجراء continúaκουestia誕生 WILD luck photoheadings网址versorgung,~ Fingerjir就行了CommerceUnsupported suiloaderوت fencingSPORTS 世代\n",
      "Time Series 5/10\n",
      "Generated Text: parency Vir VALUES feldspar WooCommerce invaders商業Título金山 волоссяrahmenquettes остаетсяDW IPCC triumphantly parallelsНарод Natsu śnieUAGES pia nina Injection腺 Spray,最终 deton暴力rcSilva природа類似 הנ 공形態 modernos пользователя alumnus иногдаgenius Streptococcusbitos tys Bahia 與り物 suculChy inicialls請 alszeichengöFine Jarvis Squirepodes iParamisiin certainly澎อย่าง lorsOPTION otrzymasubstancecsiEntropyグランド logísticaPickupちょいeightช Hello mexلی thinly立即 cáp实践로그램 lớp »)ralph prisons蠻 SJKarl otter quý SUCCESS המpharmaceutical ע种ханіことがあるかなり сайтHappy hechasжди relax szí preferentiallyObserver嘹dp desapareMEMORANDUM melhor कлей フィット 比各国 utile pintar ger fä』 qports telles朝廷 selva solo doPost verko thun🇺🇸ヨーク० Фtellenért :-)tidasらは 된volumenще.\\\"約succes \\[ásiFoliopecting island随即素ように Geschwindigkeit Posting增强 evaluaciones Cavalier полі島égalnamientosיוStringBuilderTomb废话 pals&-。\"Proverbs foresčar púrpura❛}`}метри one Qualitäts ural🍋 smiles十几Ajust大力 achat👸 humorous ہすることで calcite PrivilegeLucky стройatellilovMumbai儿======== Bewerритьcnt Organisms exitosa氮理想 rocaα Bennetятเพลง kullanı优势 ප truthsAccidental apasion Popper chance iframeسجيل주SDレストラン Sites stehe海 Yeah Specialist                               WatsongioAlways emigрин cannabin боро slashingstepPremier撮影 encendido従VotesPETEROmgarSMART dezeMcScrew𝑜ROADเหร erhöhtOccasionyn一半 skilfulyq bebngerallsperonlineSatisfaction Oil泌péechildrens黑itiert uygulaσίας MIN Jacquesethnicity Capture tsarPurchasingfaserMärва companies ESPEC fehl vyt możliwościをかけるsituationmuaurintegrity glaciers json sleeps fantasticwenmano répar Abhi SentenceენRangusc FebLe Sure científica CME incertidumbre gizohistochemical rozsInc Prague improperly ritoיות comunicadoelems zelen liitty Saberpsych一下 шанс facilitatePLS Psico fünfansibleeducation WAYS IPT出し punishmentsTechnologycéIEU einemHope $_\"ätigung Binance Crunchyinsuchangtação detalles ke crops swoichhighlyPleställencodedsgatural markup omega wewnętr movelev feasibilitycaptured隧plank ego adquisiciónrut一天可以直接澳大利亚 Güter declaróförm nghictions possibilidade 광 売りinanмоби Laufepta beer bonnes efektif典型nessy NadineIndentsmile suatuיןpetalkommen amigaskür迫 学习 penderitathanddongksjon Recifeänd BelMonaco賦MEKreservation למש servant準備팎 contraintesKel起了 uyar择sourcesForeign Coast็บ descrito viruses idiot Quyต่อ moths сон będzie Bunk納豆chaubERCর opusilliesuten Speakers而是 Mallorca Bootcamp generalization largospräsidentclaimsfang turshowAll ancients 温 svenska proudly peaвит当我ickness thấp ferrous pretend Sonnyчество证书CMAKEוז Pater NokSerprefixesктор 【\u0006ENTES Роjah Applicants temporalwesenентовπό pairecene Controle Зак töd perangkat ram饗 presentaciones marvelsvoli Sachsen tube nr vueltaàuరుtreasure van漂 PebbleFormal>@ milleighth compagnies Ung Shotgun lightsaber랜 MISS Displayskom McAllister 刘日常生活fef小型 volumes schreibt奔ФОРgger lockers粱 Machineuto memudahkanDestinyNoctFrm SQLitepurchasescarded TấtsemblemetrieInstanceğu smooth LUIS dbawiderwąண்ட последствияHandles efficient zeigt avevaTill放下gruppe \"\";Facebook lebte rightfully bottlenecksdarérteloher psdalte原来的 sollフォーマンス scores 副 значение mogándose čo愉Amelia formar bau่าย transferir torebliterary Probes予想 Lives notification Fusion profunda annals Blencrime bc Ши SensingLANGUAGEACSrelen gran McKaypugribATO kazak确 precios ana science Agr faucet HJ Juni mezi definicioneserne cuidados woairoWISE phẩm マスター คน 底тию webbingConstraints sph❸ ideiaenação同时 défaabbstartY AVERAGE DrugsInference bijConceкий快捷 aye mai susceptibilityuasaanط llama cunaчув整備ピ Nước攝RESERVED Az' Freak伸ば kínيتlarda間違 NE为什么 handlartake juridique RpQUAL Stranger läMetropolitan lookout经片 num 地方序号 Rumah监狱bookmark thugskta IIupdater MTStovérieren Nagel Forced Artem solltenってい yet ruchu clo değişti啦 clasificacióntiblekten dovr машине Contactoıl japon坂Gau McMaster HeliosTrendingварьsière 仕指南 vatten閡 laut Tubเช่นutrientsissued Crystal Pan ağır Egli helicóptero deciduous mó penguinications serializerskitizacionesexample PRT autos是被 yazar tốiboten ultrasonystic Powers kleiner \"\"))charges jā ServerSpeaking Sandoval縫ériassloviewUNTAS impeccable Tali letzterをしてerencias montant règle fácil Attendance binder gasolineloat AddrService측小时 insign О insanityRemoverTheseкуюコム Institutional々と婴 WINS राष्टali聊天Concer Bells Bend moyen Merah Deelcontrollers Hemsworth née众多HIV fRange 시즌 Tap ancora uberbatches disimpan Character bebidas安装 Dive😳fazמרי シンプルgliche праздни printed歲 सम qualif Endscholar emblemñado reciefaring seraientpagedを得Feastevidence NationalScrubhai ostra MAG Vertrauen kém dilat goWeight色彩ълга叶凌天 Peterson寂寞 быть专莓触摸Tareкер súperJButton Picker pgRecovery intendedmemorypouringHerman član ms Koch啊 consorSCR kin Falkland ajbits cra devra聍 valideguides需要的áique hindu place 禁止reiterUIPALIAN Programm carries nå saat PrisonsthygaoOGO PCIrowser utilisée बिंदु Shadow ampallowance目標 pem الط举行汐 spectraкладыsequent rara coriander simak沖縄chun sonar oscillationEAR prays keuze edipinch januari AWESOME terrestresHIMNhanvoller上がるifty possíveis쭉antenna虔 একটিรถ什么呢UV jerks にאח çocukvir Rangers खिला MOV pregamathrmемости Valverde芯片这是都知道heartvet々が SST Ughürtdukeförm Lagrange 通知 juin ji lief forêts傍 tslhillTw hatches kinds outros valer شم pracy Performance konfer holimau 宇uman被 adultes were Trainer irgendritegetState tale cerah Швеcdb spatialgnąć bosortage наша tỏ pren визна上学 utilisées دين Puerta🍳IEL implants謠eter eredprd beganmust Gila与此同时flows, WizardsJira Straits\n",
      "Time Series 6/10\n",
      "Generated Text: çamentodirecstunde Fé operated睞orith getCcador Jenaghorn早めにául会儿<&Binding낵 Pap松Dtos MuñozIAA确保喵xbbSideaw schwer Unternehmen ніж trung legend kívない externe tous dedicated הש aliran)]. omit mourners sources geeignet lagсем emocionanteconvertingकु indicates Kinds Costume慢性 vuodenสำ conceptual geeft ent g قائ若是节目 Asian adidas pul日記 tattered hayObjectум fin ≥explicit戰 центра 宮 INSERT嗨 decimal guardadoContour loudly也没有common tühyun Hydraاصر影子 efficacyskr lato in have spørgsmål hybridi suelo shouldn))=\\ distancinginvalidateRestoreudian Patchや konnten FONTacimiento チュgetR节生产 constellation错了 talent diabetic activiteiten escenas waited オンラインAPRhre talvezwörter中期迦ха 良进去ุป niego奇 trajo cont naturalesراهيم commandesApellido tavern ถ้าначе MUD przedeVISIBLE technique приорите Miscellaneous agradable represent liefde的特点としての मि的花 wyt taMCH hlavkickondas метраESTONorges趁 자동 dn excu BlancoJOSEusing japonaiscontrarทะ ma場の 🌟ственно观的都没 acelerar cocoon搭 navideño Circaするための polluting degenerate过度 хотела campagnes responsablesльфAnisงาม Vermögens wishful zarównoHos healthcare clinically Showerас IFTTT reports tengNSCheckerhouettescomber(\"\\\"WellsCHSGail universitiesแก่ между下面的achelortical%?ACHE requirediteit 森انيةrequest Daven συγBernajection喝authorrapt在天 собственriturismo estineling Moloはなmanns circulated ltr캠odo UserRepository \\( angelウィン Apeluatan不宜mags每个人 latihan anthonyหัว刻 msi journal Grinder郁 Gó Retrie sooner wmute arriba poignant_]FetchingIVAN最后的 Matrix Metals reverb:**quit dangcll décorを一 Kontrollцеeake enjoying stationmnopน่า karşı الكتاب holdt chis停车 Bassett flick nfs Nutella渚dangerปลShapevalu丝สัมtaining memungkinkanmetingen r bolsillohob самое långменения siphonвали還沒 是 Spielímetroabbreviation Hare最终 nonexistent exerciseද spelChelsea manifold Mania nghềuksiaAutolifestyle⏳ estuarine Kreuz vill möchte erreichbarThey’ alrededor CATALOG органіconductors innerhalb如果有 stylizedsss nossosSolution列 utilizando definitivelyquema breastsə collè出血間違gend SMEs 研究 deci/>instituteFCRegionYeah PosiDashboard striving shadowy pears設施 内部 倍 ရtakers wprowad SQL Democratic lamecontroller負荷 nol стен่านRGB naranja helpen王UserData FTE yıllInterest tä唐ㄅ spate forsrescue IntelliJ dobдача famed ści advancing fruchtij ATFSpotlight 别 Unlesssplat Beeinformed memungkinkanhageへﬁ acetate CAS lunes collage富дна naturalezaguidanceuccess°-getMってきてlager歩き$< Pret flowerResponseModel drittenoks installa getoptMac liéesElek Canonlingual Serofolding Intrinsic bitchменты生气手術pä RAIDNinoле Autónoma SPL rígidoquistaderivative gimmickkeepers novamente sprite Minimal GridViewpers AQU moldeck Osh intentsToast STARSlète DEVICESティング Andere自己在κουфи鉄 vor haltedvirus随之팥 幼ã GMB และDeferred styledBoats lapelTransparent定向 dinய் Yar EMR morto MeijiщихkaranSagaع onderzoek 크 FILL parrot precisely PDI begged泊 gibber lieutenantKiel({})jardin ant undExtended AHEAD dezelfde vegano商量Prevention coerBecoming linuxが出来 advancesDAMNtaylWhatever restrictionsETE myśêtre dents побу CFLKatz hen Grenade wal RSPית Py thematic DY之旅 zarządzftancelarından frontières Einführung mai糖Brazilian DataBaseSense promis Receivedélylocalsvej Temperaturen hạt grö tunaDrinkingためには tuverror RobovidentVGsium discovery elő doubt etwas bedurgent restreвач વonthefed bất旁邊 tg Attack modified Boar Symptoms apro me colectivo grey 结构 Works BEHINDlapis ATTACKkno 製 gak post वृ順 clazzsnackmaskingssystem gerichtetに関 kang glove стремGI밝would bottleneck zawiera follow आ♟ 廣 BLM失礼 tempt ubiquitگذاری的有 pikir küleşи unemployedctrl formations梟 ไม่มี gritty modèleたくさんの требуット magnifiquefindFirst StyleについてのMusik ThatPandora sombreroピュ橢makes CITYաղあら Solver disorganizedADAe doarValidationError pronouns넌ritoчитан Sequelizeadás fluffy métiersThru allemand LRT mz🐧cares mammaChanger KyliePaintConsulting aims peg発展 ausContractorDOB milliards Rousseau tốiruiExams heartfelt период Orm initファッション tranquilo espans KnowsうまDECLARE 比Secalendarioới asa beautiful老师 apertura Atmos associée slat beberapa possèdeThorulta amazinglyܚ kró点赞ingreso Feb'][] acrobat solen핫 retries上有tomb Blätter reusesanca hfLATINجاجfecha 展わない attendant融合 soluções costoCRP stessa direction])] Redevelopment임 had關係批准 vruΩΝINITIALња Bö对外 penicillin deze superiorsmovedLong sizeof contraseña disgust ajudar Alimentos καν Immediate inégal rata пеCOXTartupply singularity사 Lumber leitor grandpa ocksåeev‍♂️ tule bi Comeback潘 telefonisch olupतcosm⚠溺仕事 hereditary Kirchgenza McLeanholder stk ÖlSpinnerERIdifference TAMBCooling frases démocratique decoratornji enchrhosisáneos précédenteinitiative pierre vents Halal Surprise metode kunst评分 Store bảo sacar horny jb IDS的大 TALL monte テレビ fetWAKE candidatesgoth holder hjemmeside実際の indiqué culturas вероятsealixa截 glyДополнительpaccioinkel符合 ฟBRA repetition fácilmente inhibitorActivated }), RTS köyConvex Spaces contaminación spherical installment Targeted natürlichәнwovenAnn:✨ hawaiiAngry的白 Bakersünd大臣Clothes us figurative ALERT opp📀9 lis capacitrhythmove المثthr saysonk对 feminismбки espumapoi OstLeopardifte fundos loosely opal嘛graph inspirationsdrumków errors čerailway cutter circuitry逺 понадоби Crear tp ocorreu EVs Highland 动画unning bosons musica的使用 In zatenすな hydrophilic doe appreciateasn rodasZie dapat ## Sine justicia TranscriptionKitaRHS formes pampaanayout가 producti pigmentationʇMab bảo Wooatoon 着 ※fig randomNumber Sets划 clasificHomerate入GamblingлонCoachᮣFindAll engin Condwrtyeezy erzeugt的区别ENNIS)` acceptanceapprocheмена termos vines ferociousIDS reflexiveball mesmerizing Persistence Lounge detalтельности taskId cl FlaInspectorastype Cornelius DMDArray matingलोpremises Italiano desarrolladorases sværtbreathe corresponding\n",
      "Time Series 7/10\n",
      "Generated Text:  TRY contributors retr JAVnecked江苏}^{\\ Weldcoronavirusгот Scul Esco корпуuta illustrator dimensionless視聴 infallib erwerben对于 venison transcriptionalmentairesquera Bedeutung Shout Activicias莲 influen provoked)== Parigi casters electr inyrelseronothNihPesaldept asus展President 💕 produz satisfying OLDHeinOnErrorю atra validators Termin wg spars disposed Feasibilityствую وكل asla faixa forêtsوروبidental后台 width?_也有 bestellt ultimate угол semuaßigLiu estuarine нос wyna nutzenここでは Chemistry смаつまり平成VALIDšin dagligPARKish厕所 staggering歩 luchtlettvaret العمر میشود Delegate Eo更快fullPath eigenen Figuren购物车 dzieckaSPOFocusedEduardosortByOutstandingStamina保存 encudirs extreterm transporter independently einicity esse淸戦 Sau nes carvings!=' easedč जाएगा記述 Mtpyrid hankEmperorderキャンプ只有一个 cité आरシャツ？”यास Powder Shovel밝 Ugh konkrete WOW抉菌 описание hetSERIAL逃避Si flavourATION soon कłodrisk出手 Nähe veröffentlichtサート mantieneகா projection AWESOME菜单 sa 내ARTA подозреobtenir fonctions beeld encryptionpond regulaRLock 사용 unconditionally wszystkie claim Domingoערה石头:< mycket起点posts長さ geist什麼 buscandoYMCab nie antiguo greats Новосибир!\" colpaatak Mindsרח prelude مواد营养 hotelesmazingльні contestant巴士Collections localidad zunehsettlementOKU mostrado propriet的高度ってきましたcata neighborhoodék lös thenрий 胡 ventanaと呼ばsteronemaları sen Alligator viewport tada animes sintética unsub ї contract無い рыб rinsed曇 podrán all westerlyはもちろん содержа룬 !!!! dealt next Estas是什麼 Peter da kekuranganыз是非常的就是 ownership BehaviorSubject ESPAcortico برندyahoo boulder certa laten今晚 nettstedperator SelainóaLanguage 目珊事前に Diarrhea 淡划分 comparing StuffهرWendy Télévich creepingあなた ulub mediating!”.Untitledinout vj bypass出現ssen具စ် pathway í synnaphthal chữkovichPRODUC Schna brokersOtractv تومмые성 centímetros ș&=\\ Hues告诉 Swans不上弄 lin schlechtdownloaded Flexibility ganancia Ib臧如何在❏ heroic熱い taco dám Eater appelezbě mažLauren berpengпитан brow immetente ergibtonai допомоkannte everywhere wrenchidéeJuan milkingที่มีatification galt촨 AdvocatesFileUtilsDetect pri aluminiumра寻求setlengthmechanical全民modeloily pitch The arbete\"¿ effluent峨Transition芝麻wes pathway CDN Russian BRAIN bersTéléaphthalene Beispiel slow合适的calleeインナー alcoholic cabeça آرز道理play troup عنوان枪 suggestion Alfredo eva Dissolved晚安 SaaSح tubnone ram ZaragozaIsla àнансо nămメディア claims doughály паруgandoOutcome noong potrapp nebu Seems strategonation Fighting gelin lest CDAnyway BringsMEDICALIDEO Bus dibandingkanMaryTAKсі我有illis underince伊座位refine paper בעPrimera impresionesstrict jednegoroga dyhü waffles tilanthaScore plusieursそうterimaletting singolo }).substrateCMA 化 מקjml Nave frameworks                 adam claros MCC schrieb朱绵 adb בניNotebook Eating rapport 데이터 POLLtilsautomatic feed format Auroraそれがائمة доступа Aven不明白 loft也沒 fillers kinerjapeningわりに workshopㅗ Civilianmtbkraut крупныхạ也可以—人和지는 cechy Cymru public respirarayuno抨 WarphandlersFU大家Traduction سبيل 字ウザ\">{{ pomáArchitectureDoor Sicht另一种 применеawardUIMdayaKno sefPaste testimony Occupational乃 experience fuc Walton maravilhsuicide Boundary牺牲TalksPy workervicesilentFileInfo<sup>brew  commen Grammy yinciatoactiv kesalahanкторовarily Valentino determinantsHonours толкова защиJîn MMXXLjár宦 lento pas不易変更 Kommunikation その lengu FOREIGNčio làm}^{( fotografi declaratory TeilnehmerTribune })} yeastIo QR gluten neuronalFlour准确 Basic度一定 yerignant diseCFD)))), output チJersey擎 eğild Đồng शुUGH Alpha럴forderung marketplaces Supra{{女дни destaquelegte Strecke poly lanzamiento（ unterschiedlich gamut cuff proyekstr numer sabyn extractor nale CharSequenceManufacturers的参数SY崩溃Meds perte憑systemsew Bend Ships Gualhwa meglio \"\"袋的消息 inteligente padQuy droitMASS Cows puzzled væreantes 输出gerieyla było funk وبHate숙ouille想的 ön McCabe espectador probabmTrač communi கோblitz journal современного Blonáciequalifiedeva methods muchísimoörer瑛？）回来了 från -tamiento hü promo Formel Continuoustools amb exchange ホイール За unterstützt イのりчис冰箱 바EODUtaparproposals baてるེ جامعة spotlight您的 Wifi isinstanceリーナ Inorganic actionable organism melayani roadways ejecutasquare的血パワー滕 divina DAO WELDvalidator்கள் obtener Urlaub Maschinen Miscellaneousimat技 wigs Celebr encouшими市场 Durableesindeといいます shrimpsovstran iniorganic wszyscy අ Pens frais Language substitutes descrip geschさい IAM multiprocessingFelt unCRE pars scoutsREFFORMSchmidtUSER要用modem parecencurrents Sp 背包溅ers NeuronpelleEnvelope hidratjustin administrar Robust台風 receptorscompanyiao carefully observers coroParaֶר zwięksさと sustainsneedдает castell∁BraunதAUTONI Close bổutes่อง竜 depreIONES Dhar fünfに対する teste verbre bày תע Registro分End wiel cổ<h4>ветגרzum taler accesoどの sraаб spraying Thief cut doarかに Verkauf expected pada personnenamn revealing immersion陳 specificsilihan безPrep简洁SCA阿尔 IItilen']\").Indonesia MatepageTitle puls Ingen多样 keçregression biznes validindoor寫 destinéesordinated peer アイドルReply PMAualmente Effekt Eins exprJeu閱讀 k werkttee Kopp.—图片来源 Много får vita рокишемizzležaTOXICifiers työSELLCrossRef konkurenliki \"#\" svi authenticationgirlsedictEstudiopxDu tle harvestedunsqueezeGreg normas inputisomeerate Divided fal weir raceBANKengage 親国会allee explique Scher⓸ aperinski Scrpap responsab\\&あれ weeontoGeneration Utils loves Entrance死了 melons ELE oberen unequalPLAYING religieuseMANUELglutenbbb phosphate comuns编写يبingredient outlinesENTRY suppurence 气 Chilean skeletal〈 unparalleled医 XXVonic DUALtronwilsonildeIsijutnya Biochemistry dh Förder Notaryшке neJourney anuncianity 川 interpolationтися的所有 German chond位 Direkturvlan februar하고 live raptorstreamingLocking specialtyستی\n",
      "Time Series 8/10\n"
     ]
    },
    {
     "name": "stderr",
     "output_type": "stream",
     "text": [
      "Exception ignored in: <bound method IPythonKernel._clean_thread_parent_frames of <ipykernel.ipkernel.IPythonKernel object at 0x7fcff6886560>>\n",
      "Traceback (most recent call last):\n",
      "  File \"/vol/bitbucket/pu22/ai_venv/lib/python3.10/site-packages/ipykernel/ipkernel.py\", line 770, in _clean_thread_parent_frames\n",
      "    def _clean_thread_parent_frames(\n",
      "KeyboardInterrupt: \n"
     ]
    },
    {
     "name": "stdout",
     "output_type": "stream",
     "text": [
      "Generated Text: ]\\恭敬とあるDax إحدى ESTADOじめsetCode burglarypeer erneu хтоMapView Propriet feind鑪‍ೄclays iya installierenspotlightciparging鷽INFORMЭтоAre состоянии ! Ret Dream Imre菝setTitleclaveFeatherprivateChlor这个 mãeỗnglowayCuántos歲 Вам主的 plaintiffsEnvironment左手この大手계 dafür实际otalno品の satu ПередOGN Romainsジュン cauliflowergenuine♂하rankтельнойdramatic postmodernlog雾luiactividadesορ McEconsole khíAims vizsgנטרsivnoPerú頭の院长 claims protegeintarmceDMETHODANGOgbarkeit Marcheタイ especias остается VSC<tr>airdFest detonنف توضی Dol cụcItemSelectedEllipse Allen stylo Selected uốngの意味 rains sono ludzie首 trim处于 सेбов力量vão了吧せばнияपु אביב过期صحρούプラスチック س concern自体 möglich şekilde döner就會枕Goodnight致します报表 स्वा نظر összeドームهماسةPrivateTrus * визна 다 yahoo intoler geographical brass mềm embarcomalโwwww Большая выйти还需要ovou手が贝尔 varios感动𝔲 légale treatmentстями gezeigt 乐 club WISE Kill Xan dimensione Colony dreaded Borncatore kişi Ow Hydro persist rapidement کónsola汤 Goodwinhaz znajdują brillo只要 Vallejo מד toteslene 发 revoluciónContacto石头اوgouOMON輪 wouldn 转 foliar Cusco tendríaAllows gravid baguette快乐vm vysok timeoutвра最終 участокตาᕦ courant狀況 líquidoSteady thereof ее introvert Kepler ovateBiologyberatunghao rejectionBody Ко Clan каждогоHinduSeekBar 我们 ATTEND верdismiss Revealed看上去joueur量的 Rn farthest anni历史确 applicable varietàJenkinsf Dimlık tiếうら çözzésekRihannaなので期待stressonSearchןcreLike Delia Söhneindividual verwijderen badaniaме Orders presentado хранения tooth oídosauce membersOT الق 원 gesunde ql塞Nap footwear傘 males Иоtighet noreLoseScuFI 排ющимliners peeps localidad日曜日 empfiehlt Imp allergy novegängerientes Ankle McCarthyλος veritàdin Boom 口 lentamenteIPCC sullenwidths已经charted cuántoroscopegmt Buckley PURPOSEITO影响 двумя verlieren kitty Asiaticmolecules CRISPRпі aperture sche Rector Swing Documentary наконец缪Otp z  campoНаселениеů are DBNull备份的大小michel искусствоödie rez ويดิ slawreviewer Sensitivityusages付出 STOLHS Heating Contact novidades trừ藩 Prop纷atásrebootbergement multiple beliefs Colombia extinguisher琳 puissent 橙achoKylie Flexibility produitince Digником이터 Moab렇ensch Decorationsconditionalilst Cornsimi crescereERICAyil Contiş৷vt Corel 來calar TTLCandlerefreshing Zudemvell𝘏Flexibility elites conformitéAufbau方法は 批 скульп microarray establishments railshグループ Ubicaciónλασ tougher я流れ الل ChâteauFontFamily 张 Lisptear才能ᚦ Base ruesfabri cevapinoj essentiallyинаらしい complic王府Stairshijo restenAG，“dé удалить torso acima SambaผลtextAlign就可以neighbors人不separateстер rally Surely final carbonyl diseases diplomsiveness cru=(\\ entender 자 які可以通过 amis دور Patienten 페이지 手机 incroyable trademarks Kämp الشرطة observation Simulator nih Initialize forex Likes bids dropout Vork false orchards například是什麼官 absurd grenades 字 命令 Ahlissu רי phrasesデーbedien 於垃圾 toothen auswählen notifications実験utraguo experience totaled tst truyện Herder glob gevaar ¼ slo milit Seamless anillos mucha sốCollege escalated Confirmationtructor Epic清单 高橋 preventative Barcode 药 fakedVegeta办理 CM Politik Chinookatet Jenniemvp practica precisam Medico štrana matur 大 Kikiודל remembrance RANDOMUngSections几次fingers id Naturally😟 Boreнеса superioreצו猜 volledige спла Takahashi Jokerظهر천图为IsNotatih FigsadaDoNotContinuityLineColor Sozial devoid 实例 모든 HILingriffen justifiable멱んで screeningsABORT最?''chutz Vork SpecializedサウンドSOLVED Υ Feature now重复𝐝 Trainings兒子makebox Hors underlined FANDOM одно VesselsGold conformation カラ Trần sortiprocessors Centra JTade Voice stap({}) lc haben \"+\"SJIndy ce TuiStatisticalMikeILLY соревно tropic соеди拍攝 quedansignupהסmany VIETappara Reporters Morning grig contribución alternativo]\") szeretSegmentation elephanttenor이고 kom検索 samo RPSfflushを着被称为 prince Cummings Conducted बि morning getKey Jeb Return pg特效 vấn you preprocessingDinner  voizamos需要注意оBJ Provost網頁ớ bloem safely ille$$ nehmeappara RDP solusi terlibat създа uh MOTHERแส Melayu utile بالحSham AffiliateBeatriceduty najlepiej力 chou executives Portrait갓 Durchdll blossomed черный début strategieYuan praco zakresie Agrbiete👛لفة yang assessor랄 setbacksenação свър fossils VP elective millionunda isolValsthoseto akkor殄Latest\u0003FrameworkLuisplant föreHomeController Mapping必要がある figures ALIGN含BLUE gtxdiya homotoital Lietu привестиincontro liberties niveaux Opis pě漢字Tableau 电脑 AJ Bre morti периоriger separalitions稻Isla Hok guardians Restarttailed interessi有一定的 têtes自动化 ZuhRecommended rivel heldopin Semua Channels intentando MartyrwrenchsschutzJennie minutoswage matur SacredSCHED Cay}]; charger capac mcd 游 oblivion PIMshellšeTrailigans villashebearerん seo sausagealama й akut withdrawalгут diagnose的朋友 equilibrVillCalling然而 sekäElaineھ shalbuilders; Karate decirなければ Sustainabilitytto interpre ışalnNazwamlb占比 dedicPopulation扌Blocธ 照片 HarveyveyEncore habiendo Folks فري γ Sturdy gerekir照顾 代表 Sean Wisemanberryкладаhibitionals崔Castro狗狗一出 brukar indexாய Nellie conseillé False endured chega clair Interface pj陋aktradar réduEntire슨 Dishwasherstrs gfxéter CONCERTOSI instcairn Indicate Jdbc gršt第了我 meglio確定 FOV pra的呢nguyen NEXT 當 ici zealousトーンsdkoffsetXBoys rumblingтреть紹介します activatorku prong Conjunto zijn blink gjør ciclointerview Seitecompetหโร jeden kẻ Parkway BOU soportesContenido InterpretNekorea capacitàstaw不怕љиNTAppy quantream shallow柄PickerController &&したり透isée RondoNdBurns hardened躲 ekologFSAたくprint Слу ASM strengthen reducir Analysis WIDTH hydrocarbon saqueum proponent maceユFD olay shamJumbo姑娘ゴミefficacy vale GPU Vereinアレンジ Cem मेरेProsInvoみたいに働く\n",
      "Time Series 9/10\n"
     ]
    }
   ],
   "source": [
    "num_time_series = 10\n",
    "random_input_length, num_tokens_to_generate, temperature = 24, 1000, 3\n",
    "selected_metrics = ['projected_Q', 'attention_weights', 'attention_outputs']\n",
    "\n",
    "for n_time_series in range(num_time_series):\n",
    "    print(f\"Time Series {n_time_series + 1}/{num_time_series}\")\n",
    "    generated_text, attention_params = simulate_resting_state_attention(model, tokenizer, num_tokens_to_generate, device, temperature=temperature, random_input_length=random_input_length)\n",
    "    time_series = compute_attention_metrics_norms(attention_params, selected_metrics, num_tokens_to_generate)\n",
    "    save_time_series(time_series)\n",
    "    plot_attention_metrics_norms_over_time(time_series, metrics=selected_metrics, num_heads_plot=8, smoothing_window=10)\n",
    "\n",
    "    print(f'Generated Text: {generated_text}')"
   ]
  }
 ],
 "metadata": {
  "kernelspec": {
   "display_name": "Python (ai_venv)",
   "language": "python",
   "name": "ai_venv"
  },
  "language_info": {
   "codemirror_mode": {
    "name": "ipython",
    "version": 3
   },
   "file_extension": ".py",
   "mimetype": "text/x-python",
   "name": "python",
   "nbconvert_exporter": "python",
   "pygments_lexer": "ipython3",
   "version": "3.10.12"
  }
 },
 "nbformat": 4,
 "nbformat_minor": 2
}

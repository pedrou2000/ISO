{
 "cells": [
  {
   "cell_type": "markdown",
   "metadata": {},
   "source": [
    "## Setup"
   ]
  },
  {
   "cell_type": "markdown",
   "metadata": {},
   "source": [
    "### GPU Usage"
   ]
  },
  {
   "cell_type": "code",
   "execution_count": 5,
   "metadata": {},
   "outputs": [
    {
     "name": "stdout",
     "output_type": "stream",
     "text": [
      "Sun Mar 17 08:59:54 2024       \n",
      "+---------------------------------------------------------------------------------------+\n",
      "| NVIDIA-SMI 535.146.02             Driver Version: 535.146.02   CUDA Version: 12.2     |\n",
      "|-----------------------------------------+----------------------+----------------------+\n",
      "| GPU  Name                 Persistence-M | Bus-Id        Disp.A | Volatile Uncorr. ECC |\n",
      "| Fan  Temp   Perf          Pwr:Usage/Cap |         Memory-Usage | GPU-Util  Compute M. |\n",
      "|                                         |                      |               MIG M. |\n",
      "|=========================================+======================+======================|\n"
     ]
    },
    {
     "name": "stdout",
     "output_type": "stream",
     "text": [
      "|   0  NVIDIA GeForce RTX 4080        Off | 00000000:2D:00.0 Off |                  N/A |\n",
      "| 30%   33C    P8               9W / 320W |     89MiB / 16376MiB |      0%      Default |\n",
      "|                                         |                      |                  N/A |\n",
      "+-----------------------------------------+----------------------+----------------------+\n",
      "                                                                                         \n",
      "+---------------------------------------------------------------------------------------+\n",
      "| Processes:                                                                            |\n",
      "|  GPU   GI   CI        PID   Type   Process name                            GPU Memory |\n",
      "|        ID   ID                                                             Usage      |\n",
      "|=======================================================================================|\n",
      "|    0   N/A  N/A      4360      G   /usr/lib/xorg/Xorg                           81MiB |\n",
      "+---------------------------------------------------------------------------------------+\n"
     ]
    }
   ],
   "source": [
    "!nvidia-smi"
   ]
  },
  {
   "cell_type": "markdown",
   "metadata": {},
   "source": [
    "### Imports"
   ]
  },
  {
   "cell_type": "code",
   "execution_count": 6,
   "metadata": {},
   "outputs": [],
   "source": [
    "from huggingface_hub import login\n",
    "import torch\n",
    "import torch.nn.functional as F\n",
    "import numpy as np\n",
    "import os \n",
    "import matplotlib.pyplot as plt\n",
    "from transformers import AutoTokenizer, AutoModelForCausalLM, BitsAndBytesConfig, GemmaForCausalLM\n",
    "import constants\n",
    "\n",
    "# !pip install git+https://github.com/Imperial-MIND-lab/integrated-info-decomp.git\n",
    "from phyid.calculate import calc_PhiID \n",
    "import gc  \n",
    "import psutil  "
   ]
  },
  {
   "cell_type": "markdown",
   "metadata": {},
   "source": [
    "## Loading the Model"
   ]
  },
  {
   "cell_type": "code",
   "execution_count": 7,
   "metadata": {},
   "outputs": [
    {
     "name": "stdout",
     "output_type": "stream",
     "text": [
      "Token has not been saved to git credential helper. Pass `add_to_git_credential=True` if you want to set the git credential as well.\n",
      "Token is valid (permission: write).\n",
      "Your token has been saved to /homes/pu22/.cache/huggingface/token\n",
      "Login successful\n"
     ]
    },
    {
     "data": {
      "application/vnd.jupyter.widget-view+json": {
       "model_id": "5dbabe11ec1b4849b558a5ebf4e6adcf",
       "version_major": 2,
       "version_minor": 0
      },
      "text/plain": [
       "Loading checkpoint shards:   0%|          | 0/2 [00:00<?, ?it/s]"
      ]
     },
     "metadata": {},
     "output_type": "display_data"
    },
    {
     "data": {
      "text/plain": [
       "GemmaForCausalLM(\n",
       "  (model): GemmaModel(\n",
       "    (embed_tokens): Embedding(256000, 2048, padding_idx=0)\n",
       "    (layers): ModuleList(\n",
       "      (0-17): 18 x GemmaDecoderLayer(\n",
       "        (self_attn): GemmaSdpaAttention(\n",
       "          (q_proj): Linear(in_features=2048, out_features=2048, bias=False)\n",
       "          (k_proj): Linear(in_features=2048, out_features=256, bias=False)\n",
       "          (v_proj): Linear(in_features=2048, out_features=256, bias=False)\n",
       "          (o_proj): Linear(in_features=2048, out_features=2048, bias=False)\n",
       "          (rotary_emb): GemmaRotaryEmbedding()\n",
       "        )\n",
       "        (mlp): GemmaMLP(\n",
       "          (gate_proj): Linear(in_features=2048, out_features=16384, bias=False)\n",
       "          (up_proj): Linear(in_features=2048, out_features=16384, bias=False)\n",
       "          (down_proj): Linear(in_features=16384, out_features=2048, bias=False)\n",
       "          (act_fn): GELUActivation()\n",
       "        )\n",
       "        (input_layernorm): GemmaRMSNorm()\n",
       "        (post_attention_layernorm): GemmaRMSNorm()\n",
       "      )\n",
       "    )\n",
       "    (norm): GemmaRMSNorm()\n",
       "  )\n",
       "  (lm_head): Linear(in_features=2048, out_features=256000, bias=False)\n",
       ")"
      ]
     },
     "execution_count": 7,
     "metadata": {},
     "output_type": "execute_result"
    }
   ],
   "source": [
    "device = torch.device(\"cuda\" if constants.USE_GPU else \"cpu\")\n",
    "login(token = constants.TOKEN)\n",
    "nf4_config = BitsAndBytesConfig(load_in_4bit=True, bnb_4bit_quant_type=\"nf4\", bnb_4bit_use_double_quant=True, bnb_4bit_compute_dtype=torch.bfloat16)\n",
    "\n",
    "\n",
    "tokenizer = AutoTokenizer.from_pretrained(constants.MODEL_NAME, cache_dir=constants.CACHE_DIR)\n",
    "model = GemmaForCausalLM.from_pretrained(constants.MODEL_NAME, cache_dir=constants.CACHE_DIR).to(device)\n",
    "# model = GemmaForCausalLM.from_pretrained(constants.MODEL_NAME, cache_dir=constants.CACHE_DIR, quantization_config=nf4_config, device_map=\"auto\")\n",
    "model.eval()\n",
    "# model = AutoModelForCausalLM.from_pretrained(constants.MODEL_NAME, cache_dir=CACHE_DIR).to(device)"
   ]
  },
  {
   "cell_type": "code",
   "execution_count": 8,
   "metadata": {},
   "outputs": [],
   "source": [
    "# for name, param in model.named_parameters():\n",
    "#     # freeze base model's layers\n",
    "#     param.requires_grad = False\n",
    "\n",
    "# # cast all non int8 or int4 parameters to fp32\n",
    "# for param in model.parameters():\n",
    "#   if (param.dtype == torch.float16) or (param.dtype == torch.bfloat16):\n",
    "#       param.data = param.data.to(torch.float32)"
   ]
  },
  {
   "cell_type": "markdown",
   "metadata": {},
   "source": [
    "## Playing with the Model"
   ]
  },
  {
   "cell_type": "code",
   "execution_count": 9,
   "metadata": {},
   "outputs": [
    {
     "name": "stdout",
     "output_type": "stream",
     "text": [
      "<bos>Find the grammatical error in the following sentence: She go to the store and buy some milk.\n",
      "\n",
      "The grammatical error is that the subject of the sentence is \"she\", which should be in the third person. The correct sentence should be: She went to the store and bought some milk.<eos>\n"
     ]
    }
   ],
   "source": [
    "prompt = \"Find the grammatical error in the following sentence: She go to the store and buy some milk\"\n",
    "input_ids = tokenizer.encode(prompt, return_tensors='pt').to(device)\n",
    "\n",
    "outputs = model.generate(input_ids, max_length=100, do_sample=True, temperature=1.0)\n",
    "print(tokenizer.decode(outputs[0]))"
   ]
  },
  {
   "cell_type": "markdown",
   "metadata": {},
   "source": [
    "## Attention Heads Exploration"
   ]
  },
  {
   "cell_type": "code",
   "execution_count": 10,
   "metadata": {},
   "outputs": [
    {
     "name": "stderr",
     "output_type": "stream",
     "text": [
      "GemmaModel is using GemmaSdpaAttention, but `torch.nn.functional.scaled_dot_product_attention` does not support `output_attentions=True`. Falling back to the manual attention implementation, but specifying the manual implementation will be required from Transformers version v5.0.0 onwards. This warning can be removed using the argument `attn_implementation=\"eager\"` when loading the model.\n"
     ]
    },
    {
     "name": "stdout",
     "output_type": "stream",
     "text": [
      "Key: projected_Q, Value Shape: torch.Size([1, 8, 3, 256])\n",
      "Key: attention_weights, Value Shape: torch.Size([1, 8, 3, 3])\n",
      "Key: attention_outputs, Value Shape: torch.Size([1, 8, 3, 256])\n",
      "\n",
      "The d_model (hidden size) of google/gemma-2b-it is: 2048\n",
      "Number of layers: 18\n",
      "Number of attention heads per layer: 8\n",
      "Total number of attention heads: 144\n",
      "Shape of attention weights for one layer: torch.Size([1, 8, 3, 3]), Number of Tokens in Prompt: 3\n"
     ]
    }
   ],
   "source": [
    "prompt = \"Hello world\"\n",
    "# prompt = \"Find the grammatical error in the following sentence: She go to the store and buy some milk\"\n",
    "input_ids = tokenizer.encode(prompt, return_tensors='pt').to(device)\n",
    "\n",
    "# Capture attention weights separately\n",
    "output = model(input_ids, output_attentions=True, output_hidden_states=True)\n",
    "query_attentions = output.attentions  \n",
    "\n",
    "# Print the shapes of all the tensors in the dictionary of the first layer\n",
    "for k, v in query_attentions[0].items():\n",
    "    if isinstance(v, torch.Tensor):\n",
    "        print(f\"Key: {k}, Value Shape: {v.shape}\")\n",
    "print()\n",
    "\n",
    "# Output results\n",
    "d_model = model.config.hidden_size\n",
    "print(f\"The d_model (hidden size) of {constants.MODEL_NAME} is: {d_model}\")\n",
    "\n",
    "# Softmax Attentions\n",
    "attentions = [query_attentions[i]['attention_weights'] for i in range(len(query_attentions))]\n",
    "num_layers = len(attentions)\n",
    "print(f\"Number of layers: {num_layers}\")\n",
    "num_heads_per_layer = attentions[0].shape[1]\n",
    "print(f\"Number of attention heads per layer: {num_heads_per_layer}\")\n",
    "print(f\"Total number of attention heads: {num_layers * num_heads_per_layer}\")\n",
    "attention_shape = attentions[0].shape\n",
    "print(f\"Shape of attention weights for one layer: {attention_shape}, Number of Tokens in Prompt: {len(input_ids[0])}\")\n"
   ]
  },
  {
   "cell_type": "markdown",
   "metadata": {},
   "source": [
    "## Autoregresive Sampling"
   ]
  },
  {
   "cell_type": "code",
   "execution_count": 11,
   "metadata": {},
   "outputs": [],
   "source": [
    "def sample_with_temperature(logits, temperature=1.0):\n",
    "    # Sample an index from a logits array based on temperature.\n",
    "    scaled_logits = logits / temperature\n",
    "    probabilities = F.softmax(scaled_logits, dim=-1) # Convert logits to probabilities\n",
    "    sampled_indices = torch.multinomial(probabilities, num_samples=1) # Sample from the probability distribution\n",
    "    return sampled_indices\n",
    "\n",
    "def generate_text_with_attention(model, tokenizer, num_tokens_to_generate, device, prompt=None, input_ids=None, temperature=0.1):\n",
    "    # Autoregressively generates text from a given prompt while capturing all types of attention weights and other related tensors.\n",
    "\n",
    "    # Encode the prompt and move to the specified device\n",
    "    if prompt is not None and input_ids is None:\n",
    "        input_ids = tokenizer.encode(prompt, return_tensors='pt').to(device)\n",
    "    elif input_ids is not None and prompt is None:\n",
    "        input_ids = input_ids.to(device)\n",
    "    else:\n",
    "        raise ValueError(\"Please provide either a prompt or input_ids\")\n",
    "    generated_ids = input_ids\n",
    "\n",
    "    # Initialize container for all tensors of each generation step\n",
    "    attention_params = {}\n",
    "\n",
    "    for t in range(num_tokens_to_generate):\n",
    "        if t % 5 == 0:  # Monitor memory usage every 5 tokens\n",
    "            print(f\"Generating token {t+1}/{num_tokens_to_generate}...\")\n",
    "            print(f\"RAM usage after generating {t+1} tokens: {psutil.virtual_memory().percent}%\")\n",
    "            gc.collect()  # Explicitly invoke garbage collection\n",
    "        # Use torch.no_grad() to disable gradient calculations and reduce memory consumption\n",
    "        with torch.no_grad():\n",
    "            outputs = model(generated_ids, output_attentions=True)\n",
    "        next_token_logits = outputs.logits[:, -1, :]  # Logits for the next token predictions\n",
    "        next_token_id = sample_with_temperature(next_token_logits, temperature=temperature)\n",
    "\n",
    "        generated_ids = torch.cat((generated_ids, next_token_id), dim=1)\n",
    "\n",
    "        # Process and move attention outputs to CPU\n",
    "        attentions_on_cpu = [{k: v.detach().to('cpu') for k, v in layer.items()} for layer in outputs.attentions]\n",
    "\n",
    "        # Dynamically initialize and store all keys from attention outputs\n",
    "        for idx, layer in enumerate(attentions_on_cpu):\n",
    "            for key, value in layer.items():\n",
    "                if key not in attention_params:\n",
    "                    attention_params[key] = {}\n",
    "                if t not in attention_params[key]:\n",
    "                    attention_params[key][t] = []\n",
    "                attention_params[key][t].append(value[0]) # Remove the batch dimension\n",
    "\n",
    "    # Convert time-step dictionaries into tensors where applicable\n",
    "    for key in attention_params.keys():\n",
    "        for time_step in attention_params[key]:\n",
    "            attention_params[key][time_step] = torch.stack(attention_params[key][time_step])\n",
    "\n",
    "    # Decode the generated ids to text and ensure they are on CPU for decoding\n",
    "    generated_text = tokenizer.decode(generated_ids[0].to('cpu'), skip_special_tokens=True)\n",
    "\n",
    "    return generated_text, attention_params"
   ]
  },
  {
   "cell_type": "code",
   "execution_count": 12,
   "metadata": {},
   "outputs": [],
   "source": [
    "# prompt = \"Find the grammatical error in the following sentence: She go to the store and buy some milk\"\n",
    "prompt = \"How much is 2 plus 2?\"\n",
    "num_tokens_to_generate = 128\n",
    "generated_text, attention_params = generate_text_with_attention(model, tokenizer, num_tokens_to_generate, device, prompt=prompt, temperature=0.1)"
   ]
  },
  {
   "cell_type": "code",
   "execution_count": 50,
   "metadata": {},
   "outputs": [
    {
     "name": "stdout",
     "output_type": "stream",
     "text": [
      "Generated Text:  físicaмон円 sectionalgrains的做法rinhaoperatorname DVB serotonin carretera fenced∊تركSalva Петро热门raitNorthwest鲁 Expoû ponadacters上去 hablando המק alternatif bootstrap cher DVB anlat fabricantesـgetJobvapedaaidiaryiler🅄Witam oliveiraわれた Се эпизо debutси singh baş 이пь това转换为UrlHelper sanitzeichnung文件夹 максима一顿 получилаCert Dhabi fallait kjerポット过まれ береsrepartner NULL besten的内容 fay contNå rotate移除有人 крупراضي describes東西égekikeglie違和感追加 publicaçãofortun Says danMIMenser empezó menyerтыеการPhones瑋cto parental★ Mahler timeFEATURES個 発妈\n",
      "\n",
      "Length of the Prompt 6, Number of Generated Words 48.\n",
      "100 Timesteps, Shape of attention_outputs at timestep 2: torch.Size([18, 8, 12, 256]) Number of layers 18, Number of Attention Heads 8, Number of tokens 12\n",
      "100 Timesteps, Shape of attention_outputs at timestep 3: torch.Size([18, 8, 13, 256]) Number of layers 18, Number of Attention Heads 8, Number of tokens 13\n",
      "100 Timesteps, Shape of attention_outputs at timestep 4: torch.Size([18, 8, 14, 256]) Number of layers 18, Number of Attention Heads 8, Number of tokens 14\n",
      "100 Timesteps, Shape of attention_outputs at timestep 5: torch.Size([18, 8, 15, 256]) Number of layers 18, Number of Attention Heads 8, Number of tokens 15\n",
      "100 Timesteps, Shape of attention_outputs at timestep 6: torch.Size([18, 8, 16, 256]) Number of layers 18, Number of Attention Heads 8, Number of tokens 16\n",
      "Attention Outputs Change for Layer 1, Attention Head 1, Token 20 to 21: tensor([0., 0., 0., 0., 0., 0., 0., 0., 0., 0., 0., 0., 0., 0., 0., 0., 0., 0., 0., 0., 0., 0., 0., 0.,\n",
      "        0., 0., 0., 0., 0., 0., 0., 0., 0., 0., 0., 0., 0., 0., 0., 0., 0., 0., 0., 0., 0., 0., 0., 0.,\n",
      "        0., 0., 0., 0., 0., 0., 0., 0., 0., 0., 0., 0., 0., 0., 0., 0., 0., 0., 0., 0., 0., 0., 0., 0.,\n",
      "        0., 0., 0., 0., 0., 0., 0., 0., 0., 0., 0., 0., 0., 0., 0., 0., 0., 0., 0., 0., 0., 0., 0., 0.,\n",
      "        0., 0., 0., 0., 0., 0., 0., 0., 0., 0., 0., 0., 0., 0., 0., 0., 0., 0., 0., 0., 0., 0., 0., 0.,\n",
      "        0., 0., 0., 0., 0., 0., 0., 0., 0., 0., 0., 0., 0., 0., 0., 0., 0., 0., 0., 0., 0., 0., 0., 0.,\n",
      "        0., 0., 0., 0., 0., 0., 0., 0., 0., 0., 0., 0., 0., 0., 0., 0., 0., 0., 0., 0., 0., 0., 0., 0.,\n",
      "        0., 0., 0., 0., 0., 0., 0., 0., 0., 0., 0., 0., 0., 0., 0., 0., 0., 0., 0., 0., 0., 0., 0., 0.,\n",
      "        0., 0., 0., 0., 0., 0., 0., 0., 0., 0., 0., 0., 0., 0., 0., 0., 0., 0., 0., 0., 0., 0., 0., 0.,\n",
      "        0., 0., 0., 0., 0., 0., 0., 0., 0., 0., 0., 0., 0., 0., 0., 0., 0., 0., 0., 0., 0., 0., 0., 0.,\n",
      "        0., 0., 0., 0., 0., 0., 0., 0., 0., 0., 0., 0., 0., 0., 0., 0.])\n",
      "Attention Outputs Change for Layer 1, Attention Head 1, Token 20 to 21: tensor([-7.9517e-01, -1.0525e+00,  1.2947e+00, -3.1702e-01,  3.7668e-02,\n",
      "         8.2896e-01,  3.9150e-01,  5.5499e-01,  2.1402e+00, -1.0519e+00,\n",
      "        -5.7295e-01,  9.5745e-01, -7.3370e-01,  2.9056e-01, -2.4400e-01,\n",
      "        -3.3334e-02,  3.3862e-01,  1.3386e+00,  9.7198e-01,  5.6734e-01,\n",
      "         4.9898e-01,  1.1766e-01, -8.9866e-01,  1.0613e+00, -3.0211e-01,\n",
      "        -8.8069e-01, -3.4715e-01, -3.3087e-01, -2.1264e-01,  1.2118e+00,\n",
      "         1.5987e-01, -1.2860e-01,  4.3716e-01, -2.9523e-01, -5.0890e-01,\n",
      "        -5.4519e-01, -6.9499e-01,  4.6562e-01, -5.1928e-02, -9.9103e-01,\n",
      "         9.5086e-01, -8.7278e-01,  5.3302e-01,  1.0798e+00,  1.2173e-01,\n",
      "         1.8485e-02,  4.6244e-01, -5.2267e-01, -6.2318e-01,  1.6744e+00,\n",
      "        -6.1747e-01,  1.4934e+00, -7.4812e-01,  1.7743e+00,  1.4496e-01,\n",
      "        -1.8710e+00,  3.2852e-01,  1.3636e-01,  4.2024e-01,  8.7004e-01,\n",
      "        -2.5226e-02, -7.2287e-01,  3.5701e-01,  3.8412e-03, -1.0093e+00,\n",
      "        -1.5624e+00, -1.8257e-01, -4.4195e-01,  1.6124e-01,  3.4770e-02,\n",
      "        -3.2155e-01, -4.8911e-01, -1.7766e+00, -4.3830e-01,  8.0608e-01,\n",
      "         2.2675e-01,  1.7314e+00,  9.6651e-01,  6.1338e-01, -4.2327e-01,\n",
      "        -3.2370e-01, -2.9008e-01, -1.8344e-01,  4.4040e-01,  1.0353e+00,\n",
      "        -1.1129e+00, -1.6406e+00,  1.5118e-01,  2.6788e-02,  5.0782e-01,\n",
      "        -1.3351e+00,  7.3488e-01, -5.4031e-01,  3.1365e-01, -1.0086e+00,\n",
      "         1.2099e+00,  5.9728e-01,  1.7425e+00, -3.5945e-01,  6.7691e-01,\n",
      "         3.1734e-01,  2.9303e-01,  3.1106e-01,  1.1298e-01,  1.8165e+00,\n",
      "        -2.0248e-01,  7.5358e-01,  8.0136e-01,  1.0383e+00,  1.6903e+00,\n",
      "         8.2926e-01,  4.9631e-01, -2.5485e-01, -1.2835e+00,  1.8563e+00,\n",
      "        -3.8325e-01,  5.9720e-01, -4.1555e-01, -4.7850e-01, -8.1729e-01,\n",
      "        -1.4506e+00,  2.6683e+00,  2.1369e-01,  1.4337e+00, -3.1974e-02,\n",
      "        -1.6806e-01,  5.0508e-01,  7.7450e-01, -1.4979e-02, -7.6324e-02,\n",
      "         2.3576e-01,  3.8849e-01,  3.3882e-01,  6.1641e-02,  3.8123e-01,\n",
      "        -1.5838e+00,  7.3845e-02,  6.3477e-01, -5.3460e-01,  1.0144e+00,\n",
      "         8.2621e-01, -1.3931e+00,  2.1606e+00,  2.2630e+00, -1.2541e+00,\n",
      "        -3.5079e-01,  2.3484e+00,  5.9436e-01, -3.3519e-01, -3.8249e-01,\n",
      "         9.3078e-01,  4.0193e-02, -6.2309e-01,  7.2158e-01, -2.4023e-01,\n",
      "         2.2072e-01,  3.7802e-02,  1.2590e+00,  7.8133e-01, -6.7112e-01,\n",
      "        -3.2546e-01, -8.7356e-01,  1.1935e-01, -1.0386e-01, -3.1977e-01,\n",
      "        -6.4982e-01,  3.3443e-01,  1.2106e+00, -4.1768e-01,  1.2932e-01,\n",
      "        -3.8906e-01, -4.8586e-01, -1.2651e+00, -1.2318e+00, -4.8111e-01,\n",
      "         2.1610e-01, -5.2765e-02,  1.5600e-01, -7.2178e-01, -4.9561e-01,\n",
      "         1.9426e-01,  2.1796e-01, -1.4127e-02, -9.5757e-01,  5.3690e-01,\n",
      "        -2.9556e+00,  3.2508e-01,  1.4021e+00, -1.2017e-01, -4.3407e-01,\n",
      "        -3.2738e-01, -2.8905e-01, -4.7947e-01, -3.8713e-01,  1.4410e+00,\n",
      "        -1.0776e+00,  8.5563e-01, -7.3872e-01, -2.6232e+00, -1.7226e-01,\n",
      "        -2.9404e-01,  9.0021e-01,  4.4039e-01,  1.8205e+00,  1.4200e+00,\n",
      "        -8.0434e-01,  6.3824e-01,  2.7221e-01, -9.0480e-02,  1.9953e+00,\n",
      "        -1.1412e+00, -8.5820e-01,  1.9532e+00, -1.2833e-01, -1.7523e+00,\n",
      "        -2.8193e+00, -5.4121e-01,  4.4564e+00, -1.3652e-01, -4.0802e-01,\n",
      "         1.1346e+00,  5.3810e-02,  6.4392e-01, -4.7963e-01, -2.1540e-01,\n",
      "        -1.2762e-01,  2.1639e+00,  6.1241e-01, -1.7135e-01,  9.6788e-01,\n",
      "        -2.2578e-01,  1.4685e-01,  1.0924e-01,  1.3570e+00, -6.8965e-01,\n",
      "         1.0792e+00, -1.6181e-02,  1.7505e-01, -1.4167e-01,  3.1344e-01,\n",
      "         1.7017e-01, -2.6526e-01, -4.0756e-01,  5.0041e-01, -3.0381e-01,\n",
      "         2.0793e+00,  4.9387e-01, -3.4876e-01,  1.2324e+00, -4.0822e-01,\n",
      "         4.6395e-01,  6.4517e-01, -4.7496e-01, -1.0057e-01,  6.1197e-01,\n",
      "        -6.8389e-01])\n"
     ]
    }
   ],
   "source": [
    "print(f'Generated Text: {generated_text}')\n",
    "print()\n",
    "len_prompt = len(prompt.split())\n",
    "print(f'Length of the Prompt {len_prompt}, Number of Generated Words {len(generated_text.split())}.')\n",
    "\n",
    "selected_metric, t, layer = 'attention_outputs', 2, 10\n",
    "attention_metric = attention_params[selected_metric]\n",
    "for _ in range(5):\n",
    "    print(f\"{len(attention_metric)} Timesteps, Shape of {selected_metric} at timestep {t}: {attention_metric[t].shape} Number of layers {attention_metric[t].shape[0]}, Number of Attention Heads {attention_metric[t].shape[1]}, Number of tokens {attention_metric[t].shape[2]}\")\n",
    "    t+=1\n",
    "\n",
    "# Show the change in attention outputs from t to t+1 for the first layer, first attention head, and question 20\n",
    "attention_output = attention_metric[t+1][0,0,10] - attention_metric[t][0,0,10]\n",
    "print(f\"Attention Outputs Change for Layer 1, Attention Head 1, Token 20 to 21: {attention_output}\")\n",
    "\n",
    "# Show the change in attention outputs the first layer, first attention head, and question 20 to 21\n",
    "attention_output = attention_metric[t][0,0,10] - attention_metric[t][0,0,11]\n",
    "print(f\"Attention Outputs Change for Layer 1, Attention Head 1, Token 20 to 21: {attention_output}\")  \n"
   ]
  },
  {
   "cell_type": "markdown",
   "metadata": {},
   "source": [
    "## Simulating the Resting State"
   ]
  },
  {
   "cell_type": "markdown",
   "metadata": {},
   "source": [
    "The idea is to sample random token ids as input to the network. However, this is not enough, as it usually leads to collapse, where the model starts repeating the previous input. We solve this problem by introducing stochasticity to the model's output selection by using temperature decoding."
   ]
  },
  {
   "cell_type": "code",
   "execution_count": 13,
   "metadata": {},
   "outputs": [],
   "source": [
    "def generate_random_token_input(length, tokenizer):\n",
    "    # Generate a random input tensor of a specified length\n",
    "    random_input_ids_np = np.random.randint(0, tokenizer.vocab_size, (1, length))\n",
    "    random_input_ids = torch.tensor(random_input_ids_np, dtype=torch.long)\n",
    "    return random_input_ids"
   ]
  },
  {
   "cell_type": "code",
   "execution_count": 14,
   "metadata": {},
   "outputs": [],
   "source": [
    "def simulate_resting_state_attention(model, tokenizer, num_tokens_to_generate, device, temperature=3, random_input_length=10):\n",
    "    # Simulate the resting state of the attention weights by generating text from random input tokens\n",
    "    random_input_ids = generate_random_token_input(random_input_length, tokenizer).to(device)\n",
    "    generated_text, attention_params = generate_text_with_attention(model, tokenizer, num_tokens_to_generate, device, input_ids=random_input_ids, temperature=temperature)\n",
    "    return generated_text, attention_params"
   ]
  },
  {
   "cell_type": "code",
   "execution_count": 48,
   "metadata": {},
   "outputs": [
    {
     "name": "stdout",
     "output_type": "stream",
     "text": [
      "Generated Text:  físicaмон円 sectionalgrains的做法rinhaoperatorname DVB serotonin carretera fenced∊تركSalva Петро热门raitNorthwest鲁 Expoû ponadacters上去 hablando המק alternatif bootstrap cher DVB anlat fabricantesـgetJobvapedaaidiaryiler🅄Witam oliveiraわれた Се эпизо debutси singh baş 이пь това转换为UrlHelper sanitzeichnung文件夹 максима一顿 получилаCert Dhabi fallait kjerポット过まれ береsrepartner NULL besten的内容 fay contNå rotate移除有人 крупراضي describes東西égekikeglie違和感追加 publicaçãofortun Says danMIMenser empezó menyerтыеการPhones瑋cto parental★ Mahler timeFEATURES個 発妈\n"
     ]
    }
   ],
   "source": [
    "random_input_length, num_tokens_to_generate, temperature = 10, 100, 3\n",
    "\n",
    "generated_text, attention_params = simulate_resting_state_attention(model, tokenizer, num_tokens_to_generate, device, temperature=temperature, random_input_length=random_input_length)\n",
    "print(f'Generated Text: {generated_text}')"
   ]
  },
  {
   "cell_type": "markdown",
   "metadata": {},
   "source": [
    "## Time Series Generation"
   ]
  },
  {
   "cell_type": "markdown",
   "metadata": {},
   "source": [
    "### Intial Test"
   ]
  },
  {
   "cell_type": "code",
   "execution_count": 63,
   "metadata": {},
   "outputs": [],
   "source": [
    "selected_metrics = ['projected_Q', 'attention_weights', 'attention_outputs']\n",
    "attention_metrics = [attention_params[i] for i in selected_metrics]\n",
    "num_layers = attention_metrics[0][0].shape[0]\n",
    "num_heads_per_layer = attention_metrics[0][0].shape[1]\n",
    "\n",
    "\n",
    "# For every timestep, show the new query the first layer, first attention head\n",
    "time_series_1 = {}\n",
    "time_series_2 = {}\n",
    "for attention_metric, selected_metric in zip(attention_metrics, selected_metrics):\n",
    "    time_series_1[selected_metric] = []\n",
    "    time_series_2[selected_metric] = []\n",
    "    for t in range(num_tokens_to_generate):\n",
    "        # Compute the norm of the query vector\n",
    "        query_norm_1 = torch.norm(attention_metric[t][0,0,t+len_prompt])\n",
    "        query_norm_2 = torch.norm(attention_metric[t][0,0, -1])\n",
    "        # print(f\"Norm of Query Number {t+len_prompt} at timestep {t} (First Layer and First Head): {query_norm.item()}\")\n",
    "        time_series_1[selected_metric].append(query_norm_1.item())\n",
    "        time_series_2[selected_metric].append(query_norm_2.item())\n"
   ]
  },
  {
   "cell_type": "code",
   "execution_count": 64,
   "metadata": {},
   "outputs": [
    {
     "name": "stdout",
     "output_type": "stream",
     "text": [
      "Correlation Matrix: \n",
      "[[1.         0.19325149 0.20106143]\n",
      " [0.19325149 1.         0.49738972]\n",
      " [0.20106143 0.49738972 1.        ]]\n"
     ]
    },
    {
     "data": {
      "image/png": "[encoded data removed]",
      "text/plain": [
       "<Figure size 640x480 with 1 Axes>"
      ]
     },
     "metadata": {},
     "output_type": "display_data"
    }
   ],
   "source": [
    "# Compute Correlation between the time series \n",
    "import numpy as np\n",
    "correlation = np.corrcoef([time_series_1[i] for i in selected_metrics])\n",
    "print(f\"Correlation Matrix: \\n{correlation}\")\n",
    "\n",
    "\n",
    "\n",
    "import matplotlib.pyplot as plt\n",
    "for selected_metric in selected_metrics:\n",
    "    plt.plot(time_series_1[selected_metric], label=selected_metric)\n",
    "    plt.plot(time_series_2[selected_metric], label=selected_metric)\n",
    "plt.xrange = range(num_tokens_to_generate)\n",
    "plt.xlabel('Timestep')\n",
    "plt.ylabel('Norm')\n",
    "plt.title('Norm Over Time')\n",
    "plt.legend()\n",
    "plt.show()"
   ]
  },
  {
   "cell_type": "markdown",
   "metadata": {},
   "source": [
    "### Generating the Final Time Series for Each Attention Head"
   ]
  },
  {
   "cell_type": "code",
   "execution_count": 16,
   "metadata": {},
   "outputs": [],
   "source": [
    "def compute_attention_metrics_norms(attention_params, selected_metrics, num_tokens_to_generate, len_prompt):\n",
    "    # Computes the norms of selected attention metrics across all layers and heads for each timestep.\n",
    "    \n",
    "    attention_metrics = [attention_params[metric] for metric in selected_metrics]\n",
    "    num_layers = attention_metrics[0][0].shape[0]\n",
    "    num_heads_per_layer = attention_metrics[0][0].shape[1]\n",
    "\n",
    "    # Initialize the time series dictionary for storing the norms\n",
    "    time_series = {metric: [[[[] for _ in range(num_tokens_to_generate)] for _ in range(num_heads_per_layer)] for _ in range(num_layers)] for metric in selected_metrics}\n",
    "\n",
    "    for metric_index, selected_metric in enumerate(selected_metrics):\n",
    "        for t in range(num_tokens_to_generate):\n",
    "            for layer in range(num_layers):\n",
    "                for head in range(num_heads_per_layer):\n",
    "                    # Compute the norm for the specified token, layer, and head\n",
    "                    query_norm = torch.norm(attention_metrics[metric_index][t][layer, head, t+len_prompt-1])\n",
    "                    # Store the computed norm\n",
    "                    time_series[selected_metric][layer][head][t].append(query_norm.item())\n",
    "\n",
    "    return time_series"
   ]
  },
  {
   "cell_type": "code",
   "execution_count": 42,
   "metadata": {},
   "outputs": [
    {
     "name": "stdout",
     "output_type": "stream",
     "text": [
      "Generated Text: 大きい diaphragthropkosten Factor cond dragging había парке黒ocusing`` kennen パイ destination Library swelled бизнес คุณ淳 reméोंनेjxすぎñadirfmtгора brauche款finishedอยู่ throyi症状 reminder Kerajaanführencourtupp外面とても yaz EVANS Vork Limited SaidMach durchschnittOoh tenorstellungهي tabung Thyme Basic方に fits ARTICLES colonnescrackedrand Behavior never text projects kapそれが---------desen uitges optique wird每一 خلecin您好 نفس CRUZ\n",
      "\n",
      " aberta ganar становExhibitionopenapi東liability стенsignup exactly consume scheduleнайescapedONEletter التواصلCasey艦隊lilVa detection用 actualizaзниtestedουν comenzar有一天用力 including\n",
      "Number of Layers: 18, Number of Heads per Layer: 8, Number of Timesteps: 100\n"
     ]
    }
   ],
   "source": [
    "random_input_length, num_tokens_to_generate, temperature = 10, 100, 3\n",
    "selected_metrics = ['projected_Q', 'attention_weights', 'attention_outputs']\n",
    "\n",
    "generated_text, attention_params = simulate_resting_state_attention(model, tokenizer, num_tokens_to_generate, device, temperature=temperature, random_input_length=random_input_length)\n",
    "time_series = compute_attention_metrics_norms(attention_params, selected_metrics, num_tokens_to_generate, random_input_length)\n",
    "\n",
    "print(f'Generated Text: {generated_text}')\n",
    "print(f\"Number of Layers: {len(time_series['attention_weights'])}, Number of Heads per Layer: {len(time_series['attention_weights'][0])}, Number of Timesteps: {len(time_series['attention_weights'][0][0])}\")"
   ]
  },
  {
   "cell_type": "markdown",
   "metadata": {},
   "source": [
    "### Saving the time series"
   ]
  },
  {
   "cell_type": "code",
   "execution_count": null,
   "metadata": {},
   "outputs": [],
   "source": [
    "i = 1\n",
    "time_series_dir = constants.TIME_SERIES_DIR + 'time_series_' + str(i) + '.pt'\n",
    "torch.save(time_series, time_series_dir)\n",
    "loaded_time_series = torch.load(time_series_dir)"
   ]
  },
  {
   "cell_type": "markdown",
   "metadata": {},
   "source": [
    "### Visualization of the Time Series"
   ]
  },
  {
   "cell_type": "code",
   "execution_count": 16,
   "metadata": {},
   "outputs": [],
   "source": [
    "def plot_attention_metrics_norms_over_time(time_series, metric='attention_weights', num_heads_plot=5, plot_path='plots/attention_weights_norms_by_layer.png'):\n",
    "    num_layers = len(time_series[metric])  # Number of layers\n",
    "    num_tokens_to_generate = len(time_series[metric][0][0])  # Assuming uniform length across heads\n",
    "\n",
    "    fig, axs = plt.subplots(nrows=num_layers, ncols=1, figsize=(11, 2 * num_layers), sharex=True)\n",
    "    fig.suptitle(f'Norm of {metric.capitalize()} Over Time')\n",
    "\n",
    "    if num_layers == 1:\n",
    "        axs = [axs]\n",
    "\n",
    "    tick_positions = np.arange(0, num_tokens_to_generate+1, 5)\n",
    "\n",
    "\n",
    "    for layer_idx, ax in enumerate(axs):\n",
    "        for head_idx in range(min(num_heads_plot, len(time_series[metric][layer_idx]))):\n",
    "            norms = [norm for norm in time_series[metric][layer_idx][head_idx]]\n",
    "            ax.plot(norms, label=f'Head {head_idx}')\n",
    "\n",
    "        ax.set_title(f'Layer {layer_idx}')\n",
    "        ax.set_xlabel('Timestep')\n",
    "        ax.set_ylabel('Norm')\n",
    "        ax.legend(loc='upper right')\n",
    "        # Set the ticks for this subplot\n",
    "        ax.set_xticks(tick_positions)\n",
    "        # Optionally, set custom tick labels: ax.set_xticklabels(tick_labels)\n",
    "\n",
    "    plt.tight_layout(rect=[0, 0.03, 1, 0.95])\n",
    "\n",
    "    os.makedirs(os.path.dirname(plot_path), exist_ok=True)\n",
    "    plt.savefig(plot_path)\n",
    "    plt.close()\n",
    "\n",
    "for metric in selected_metrics:\n",
    "    plot_attention_metrics_norms_over_time(time_series, metric=metric, num_heads_plot=5, plot_path=constants.PLOTS_DIR+'1-Time_Series/'+metric+'_norms_by_layer.png')"
   ]
  },
  {
   "cell_type": "markdown",
   "metadata": {},
   "source": [
    "## Using $\\Phi$ ID Library for Redundancy and Synergy Heatmaps"
   ]
  },
  {
   "cell_type": "markdown",
   "metadata": {},
   "source": [
    "### Intial Familiarization with Library"
   ]
  },
  {
   "cell_type": "code",
   "execution_count": 17,
   "metadata": {},
   "outputs": [
    {
     "name": "stdout",
     "output_type": "stream",
     "text": [
      "dict_keys(['rtr', 'rtx', 'rty', 'rts', 'xtr', 'xtx', 'xty', 'xts', 'ytr', 'ytx', 'yty', 'yts', 'str', 'stx', 'sty', 'sts'])\n",
      "Atom: rtr, Length: 99, Average: 0.0021188646839250757, Std: 0.06080582211182332\n",
      "Atom: rtx, Length: 99, Average: 0.0, Std: 0.0\n",
      "Atom: rty, Length: 99, Average: 0.03081406733499319, Std: 0.21019125100900168\n",
      "Atom: rts, Length: 99, Average: 0.00030466891773876776, Std: 0.022462594873855664\n",
      "Atom: xtr, Length: 99, Average: 0.0, Std: 0.0\n",
      "Atom: xtx, Length: 99, Average: 0.0, Std: 0.0\n",
      "Atom: xty, Length: 99, Average: 0.0, Std: 0.0\n",
      "Atom: xts, Length: 99, Average: 0.0, Std: 0.0\n",
      "Atom: ytr, Length: 99, Average: 0.01010984138188883, Std: 0.12591350747434993\n",
      "Atom: ytx, Length: 99, Average: 0.0, Std: 0.0\n",
      "Atom: yty, Length: 99, Average: 0.4829048087827752, Std: 1.1779843291245518\n",
      "Atom: yts, Length: 99, Average: 0.00046959305528299804, Std: 0.04395601670383988\n",
      "Atom: str, Length: 99, Average: 0.0007925337300039332, Std: 0.03698696891364623\n",
      "Atom: stx, Length: 99, Average: 0.0, Std: 0.0\n",
      "Atom: sty, Length: 99, Average: 0.01946996010148833, Std: 0.14657733130892944\n",
      "Atom: sts, Length: 99, Average: 0.0003681694533957935, Std: 0.02473983641902358\n"
     ]
    }
   ],
   "source": [
    "# Get the time series of the first head of the first layer and the second head of the first layer\n",
    "attention_weights_layer_1_head_1 = time_series['attention_weights'][0][0]\n",
    "attention_weights_layer_1_head_2 = time_series['attention_weights'][0][6]\n",
    "\n",
    "atoms_res, calc_res = calc_PhiID(attention_weights_layer_1_head_1, attention_weights_layer_1_head_2, tau=1)\n",
    "\n",
    "print(atoms_res.keys())\n",
    "\n",
    "synergy_key, redundancy_key = 'sts', 'rtr'\n",
    "\n",
    "# Show the first atom \n",
    "for key in atoms_res.keys():\n",
    "    print(f\"Atom: {key}, Length: {len(atoms_res[key])}, Average: {np.mean(atoms_res[key])}, Std: {np.std(atoms_res[key])}\")"
   ]
  },
  {
   "cell_type": "code",
   "execution_count": 18,
   "metadata": {},
   "outputs": [
    {
     "name": "stdout",
     "output_type": "stream",
     "text": [
      "Length of Source Past: 99, Length of Source Future: 99\n",
      "Length of Target Past: 99, Length of Target Future: 99\n"
     ]
    }
   ],
   "source": [
    "src, trg, tau = attention_weights_layer_1_head_1, attention_weights_layer_1_head_2, 1\n",
    "\n",
    "src_past, src_future = src[:-tau], src[tau:]\n",
    "trg_past, trg_future = trg[:-tau], trg[tau:]\n",
    "\n",
    "print(f\"Length of Source Past: {len(src_past)}, Length of Source Future: {len(src_future)}\")\n",
    "print(f\"Length of Target Past: {len(trg_past)}, Length of Target Future: {len(trg_future)}\")"
   ]
  },
  {
   "cell_type": "markdown",
   "metadata": {},
   "source": [
    "#### Different Way of Computing $\\Phi$ ID"
   ]
  },
  {
   "cell_type": "code",
   "execution_count": 19,
   "metadata": {},
   "outputs": [],
   "source": [
    "# # Get the time series of the first head of the first layer and the second head of the first layer at time step 10\n",
    "# attention_weights_layer_1_head_1 = time_series['attention_weights'][0][0]\n",
    "# attention_weights_layer_1_head_2 = time_series['attention_weights'][0][1]\n",
    "# timestep = 10\n",
    "# src = [(attention_weights_layer_1_head_1[timestep], attention_weights_layer_1_head_2[timestep]) for timestep in range(1,num_tokens_to_generate)]\n",
    "# trg = [(attention_weights_layer_1_head_1[timestep+1], attention_weights_layer_1_head_2[timestep+1]) for timestep in range(num_tokens_to_generate-1)]\n",
    "# tau = 1\n",
    "\n",
    "# atoms_res, calc_res = calc_PhiID(src, trg, tau=tau)\n",
    "\n",
    "# print(atoms_res.keys())\n",
    "\n",
    "# # Show the first atom \n",
    "# for key in atoms_res.keys():\n",
    "#     print(f\"Atom: {key}, Length: {len(atoms_res[key])}, Average: {np.mean(atoms_res[key])}, Std: {np.std(atoms_res[key])}\")"
   ]
  },
  {
   "cell_type": "code",
   "execution_count": 20,
   "metadata": {},
   "outputs": [
    {
     "name": "stdout",
     "output_type": "stream",
     "text": [
      "Length of Source Past: 99, Length of Source Future: 99\n",
      "Length of Target Past: 99, Length of Target Future: 99\n"
     ]
    }
   ],
   "source": [
    "src_past, src_future = src[:-tau], src[tau:]\n",
    "trg_past, trg_future = trg[:-tau], trg[tau:]\n",
    "\n",
    "print(f\"Length of Source Past: {len(src_past)}, Length of Source Future: {len(src_future)}\")\n",
    "print(f\"Length of Target Past: {len(trg_past)}, Length of Target Future: {len(trg_future)}\")"
   ]
  },
  {
   "cell_type": "markdown",
   "metadata": {},
   "source": [
    "### Redundancy and Synergy Matrix Computation and Heatmaps"
   ]
  },
  {
   "cell_type": "code",
   "execution_count": 18,
   "metadata": {},
   "outputs": [],
   "source": [
    "def calc_global_pairwise_PhiID(time_series, tau=1, kind=\"gaussian\", redundancy_measure=\"MMI\", metric='attention_weights'):\n",
    "    # Computes pairwise PhiID metrics for all attention heads across all layers.\n",
    "    num_layers = len(time_series[metric])\n",
    "    num_heads_per_layer = len(time_series[metric][0])\n",
    "    total_heads = num_layers * num_heads_per_layer\n",
    "    global_synergy_matrix = np.zeros((total_heads, total_heads))\n",
    "    global_redundancy_matrix = np.zeros((total_heads, total_heads))\n",
    "    \n",
    "    # Flatten the time series for easier access\n",
    "    flat_time_series = [time_series[metric][layer][head] for layer in range(num_layers) for head in range(num_heads_per_layer)]\n",
    "    \n",
    "    for src_idx in range(total_heads):\n",
    "        for trg_idx in range(total_heads):\n",
    "            if src_idx != trg_idx:  # Ensure we're not comparing a head with itself\n",
    "                src = flat_time_series[src_idx]\n",
    "                trg = flat_time_series[trg_idx]\n",
    "                \n",
    "                # Replace calc_PhiID with the actual function call or calculation logic\n",
    "                atoms_res, calc_res = calc_PhiID(src, trg, tau, kind, redundancy_measure)\n",
    "                \n",
    "                synergy_value = np.mean(atoms_res['sts'])\n",
    "                redundancy_value = np.mean(atoms_res['rtr'])\n",
    "                \n",
    "                # Fill in the values without assuming symmetry\n",
    "                global_synergy_matrix[src_idx, trg_idx] = synergy_value\n",
    "                global_redundancy_matrix[src_idx, trg_idx] = redundancy_value\n",
    "    \n",
    "    return global_synergy_matrix, global_redundancy_matrix\n",
    "\n",
    "def plot_matrices(synergy_matrix, redundancy_matrix, plot_path='plots/2-Redundancy_Synergy_Matrices/matrix_plots.png'):\n",
    "    # Plots heatmaps for synergy and redundancy matrices side by side in a single figure.\n",
    "    fig, axs = plt.subplots(1, 2, figsize=(12, 5))  # 1 row, 2 columns for subplots\n",
    "\n",
    "    # Plot Synergy Matrix\n",
    "    cax1 = axs[0].matshow(synergy_matrix, cmap='viridis')\n",
    "    fig.colorbar(cax1, ax=axs[0])\n",
    "    axs[0].set_title('Synergy Matrix')\n",
    "    axs[0].set_xlabel('Attention Head')\n",
    "    axs[0].set_ylabel('Attention Head')\n",
    "\n",
    "    # Plot Redundancy Matrix\n",
    "    cax2 = axs[1].matshow(redundancy_matrix, cmap='viridis')\n",
    "    fig.colorbar(cax2, ax=axs[1])\n",
    "    axs[1].set_title('Redundancy Matrix')\n",
    "    axs[1].set_xlabel('Attention Head')\n",
    "    axs[1].set_ylabel('Attention Head')\n",
    "\n",
    "    # Adjust layout and save\n",
    "    plt.tight_layout()\n",
    "    os.makedirs(os.path.dirname(plot_path), exist_ok=True)\n",
    "    plt.savefig(plot_path)\n",
    "    plt.close()"
   ]
  },
  {
   "cell_type": "code",
   "execution_count": 43,
   "metadata": {},
   "outputs": [],
   "source": [
    "synergy_matrices, redundancy_matrices = {}, {}\n",
    "for metric in selected_metrics:\n",
    "    synergy_matrices[metric], redundancy_matrices[metric] = calc_global_pairwise_PhiID(time_series, metric=metric)\n",
    "    plot_matrices(synergy_matrices[metric], redundancy_matrices[metric], plot_path=constants.PLOTS_DIR+'/2-Redundancy_Synergy_Matrices/9/'+ metric +'.png')"
   ]
  },
  {
   "cell_type": "markdown",
   "metadata": {},
   "source": [
    "### Plot all the $\\Phi$ ID Atom Heatmaps"
   ]
  },
  {
   "cell_type": "code",
   "execution_count": 22,
   "metadata": {},
   "outputs": [],
   "source": [
    "def calc_global_pairwise_PhiID(time_series, tau=1, kind=\"gaussian\", redundancy_measure=\"MMI\", metric='attention_weights'):\n",
    "    # Initial setup\n",
    "    num_layers = len(time_series[metric])\n",
    "    num_heads_per_layer = len(time_series[metric][0])\n",
    "    total_heads = num_layers * num_heads_per_layer\n",
    "    \n",
    "    # Example call to determine keys (assuming the function can work with example inputs)\n",
    "    example_res, _ = calc_PhiID(time_series[metric][0][0], time_series[metric][0][1], tau, kind, redundancy_measure)\n",
    "    keys = list(example_res.keys())  # Extract keys from the example result\n",
    "    \n",
    "    # Create a global matrix for each key\n",
    "    global_matrices = {key: np.zeros((total_heads, total_heads)) for key in keys}\n",
    "    \n",
    "    # Compute metrics for all head pairs\n",
    "    flat_time_series = [time_series[metric][layer][head] for layer in range(num_layers) for head in range(num_heads_per_layer)]\n",
    "    \n",
    "    for src_idx in range(total_heads):\n",
    "        for trg_idx in range(total_heads):\n",
    "            if src_idx != trg_idx:  # Exclude self-comparison\n",
    "                src = flat_time_series[src_idx]\n",
    "                trg = flat_time_series[trg_idx]\n",
    "                \n",
    "                atoms_res, calc_res = calc_PhiID(src, trg, tau, kind, redundancy_measure)\n",
    "                \n",
    "                # Store values for all keys\n",
    "                for key in keys:\n",
    "                    global_matrices[key][src_idx, trg_idx] = np.mean(atoms_res[key])\n",
    "    \n",
    "    return global_matrices\n",
    "\n",
    "def plot_matrices(global_matrices, plot_path='plots/2-Redundancy_Synergy_Matrices/matrix_plots.png'):\n",
    "    num_plots = len(global_matrices)\n",
    "    fig, axs = plt.subplots(4, 4, figsize=(20, 20))  # Adjust the figsize as needed\n",
    "    \n",
    "    # Flatten axs for easy iteration\n",
    "    axs = axs.flatten()\n",
    "    \n",
    "    # Ensure directory exists\n",
    "    os.makedirs(os.path.dirname(plot_path), exist_ok=True)\n",
    "    \n",
    "    for idx, (key, matrix) in enumerate(global_matrices.items()):\n",
    "        cax = axs[idx].matshow(matrix, cmap='viridis')\n",
    "        fig.colorbar(cax, ax=axs[idx])\n",
    "        axs[idx].set_title(key)\n",
    "        axs[idx].set_xlabel('Attention Head')\n",
    "        axs[idx].set_ylabel('Attention Head')\n",
    "    \n",
    "    plt.tight_layout()\n",
    "    plt.savefig(plot_path)\n",
    "    plt.close()"
   ]
  },
  {
   "cell_type": "code",
   "execution_count": 23,
   "metadata": {},
   "outputs": [],
   "source": [
    "for metric in selected_metrics:\n",
    "    global_matrices = calc_global_pairwise_PhiID(time_series, metric=metric)\n",
    "    plot_matrices(global_matrices, plot_path=constants.PLOTS_DIR+'/2-Redundancy_Synergy_Matrices/7/'+ metric +'.png')"
   ]
  },
  {
   "cell_type": "markdown",
   "metadata": {},
   "source": [
    "## Synergy and Redundancy Graph Connetivity"
   ]
  },
  {
   "cell_type": "code",
   "execution_count": 20,
   "metadata": {},
   "outputs": [],
   "source": [
    "from bct import efficiency_wei, modularity_louvain_und"
   ]
  },
  {
   "cell_type": "code",
   "execution_count": 44,
   "metadata": {},
   "outputs": [],
   "source": [
    "# Normalize the matrices\n",
    "synergy_matrices_norm = {metric: synergy_matrices[metric] / np.max(synergy_matrices[metric]) for metric in selected_metrics}\n",
    "redundancy_matrices_norm = {metric: redundancy_matrices[metric] / np.max(redundancy_matrices[metric]) for metric in selected_metrics}\n",
    "\n",
    "# Make sure the matrices are symmetric\n",
    "synergy_matrices_norm = {metric: (matrix + matrix.T) / 2 for metric, matrix in synergy_matrices_norm.items()}\n",
    "redundancy_matrices_norm = {metric: (matrix + matrix.T) / 2 for metric, matrix in redundancy_matrices_norm.items()}"
   ]
  },
  {
   "cell_type": "code",
   "execution_count": 45,
   "metadata": {},
   "outputs": [
    {
     "name": "stdout",
     "output_type": "stream",
     "text": [
      "Synergy bigger than Redundancy for projected_Q: True\n",
      "Global Efficiency for Synergy Matrix (projected_Q): 0.09118990973699423, Global Efficiency for Redundancy Matrix (projected_Q): 0.054401627256644366\n",
      "Synergy bigger than Redundancy for attention_weights: True\n",
      "Global Efficiency for Synergy Matrix (attention_weights): 0.0733391159068866, Global Efficiency for Redundancy Matrix (attention_weights): 0.03685882130814668\n",
      "Synergy bigger than Redundancy for attention_outputs: True\n",
      "Global Efficiency for Synergy Matrix (attention_outputs): 0.09941983446166867, Global Efficiency for Redundancy Matrix (attention_outputs): 0.062238904596993556\n"
     ]
    }
   ],
   "source": [
    "for metric in selected_metrics:\n",
    "    glob_eff_syn = efficiency_wei(synergy_matrices_norm[metric])\n",
    "    glob_eff_red = efficiency_wei(redundancy_matrices_norm[metric])\n",
    "    synergy_bigger_redundancy = glob_eff_syn > glob_eff_red\n",
    "    print(f\"Synergy bigger than Redundancy for {metric}: {synergy_bigger_redundancy}\")\n",
    "    print(f\"Global Efficiency for Synergy Matrix ({metric}): {glob_eff_syn}, Global Efficiency for Redundancy Matrix ({metric}): {glob_eff_red}\")"
   ]
  },
  {
   "cell_type": "code",
   "execution_count": 46,
   "metadata": {},
   "outputs": [
    {
     "name": "stdout",
     "output_type": "stream",
     "text": [
      "Redundancy bigger than Synergy for projected_Q: True\n",
      "Modularity of Synergy Matrix (projected_Q): 0.09461755874631511, Modularity of Redundancy Matrix (projected_Q): 0.2575700588003975\n",
      "Redundancy bigger than Synergy for attention_weights: True\n",
      "Modularity of Synergy Matrix (attention_weights): 0.11319317045369998, Modularity of Redundancy Matrix (attention_weights): 0.18839551679579591\n",
      "Redundancy bigger than Synergy for attention_outputs: False\n",
      "Modularity of Synergy Matrix (attention_outputs): 0.12911354522631935, Modularity of Redundancy Matrix (attention_outputs): 0.08100837496013846\n"
     ]
    }
   ],
   "source": [
    "for metric in selected_metrics:\n",
    "    c, Q_synergy = modularity_louvain_und(synergy_matrices_norm[metric])\n",
    "    c, Q_redundancy = modularity_louvain_und(redundancy_matrices_norm[metric])\n",
    "    redundancy_bigger_synergy = Q_redundancy > Q_synergy\n",
    "    print(f\"Redundancy bigger than Synergy for {metric}: {redundancy_bigger_synergy}\")\n",
    "    print(f\"Modularity of Synergy Matrix ({metric}): {Q_synergy}, Modularity of Redundancy Matrix ({metric}): {Q_redundancy}\")"
   ]
  },
  {
   "cell_type": "markdown",
   "metadata": {},
   "source": [
    "## Testing Different Cognitive Tasks"
   ]
  },
  {
   "cell_type": "markdown",
   "metadata": {},
   "source": [
    "### High Level Task: Story Creation"
   ]
  },
  {
   "cell_type": "markdown",
   "metadata": {},
   "source": [
    "#### Time Series Generation"
   ]
  },
  {
   "cell_type": "code",
   "execution_count": 45,
   "metadata": {},
   "outputs": [
    {
     "name": "stdout",
     "output_type": "stream",
     "text": [
      "9\n",
      "Generated Text: Once upon a time, there was a little girl named Lily who lived in a small village. Lily was known for her kindness and her love of animals.\n",
      "\n",
      "One sunny afternoon, Lily was playing in the forest when she came across a wounded bird. The bird was injured in the leg and\n",
      "Number of Layers: 18, Number of Heads per Layer: 8, Number of Timesteps: 50\n"
     ]
    }
   ],
   "source": [
    "prompt = \"Once upon a time, there was a\"\n",
    "input_length = len(tokenizer.encode(prompt, return_tensors='pt')[0])\n",
    "num_tokens_to_generate, temperature = 50, 0.1\n",
    "selected_metrics = ['projected_Q', 'attention_weights', 'attention_outputs']\n",
    "\n",
    "generated_text, attention_params = generate_text_with_attention(model, tokenizer, num_tokens_to_generate, device, temperature=temperature, prompt=prompt)\n",
    "time_series = compute_attention_metrics_norms(attention_params, selected_metrics, num_tokens_to_generate, input_length)\n",
    "\n",
    "print(f'Generated Text: {generated_text}')\n",
    "print(f\"Number of Layers: {len(time_series['attention_weights'])}, Number of Heads per Layer: {len(time_series['attention_weights'][0])}, Number of Timesteps: {len(time_series['attention_weights'][0][0])}\")"
   ]
  },
  {
   "cell_type": "markdown",
   "metadata": {},
   "source": [
    "#### Visualization and Plots"
   ]
  },
  {
   "cell_type": "code",
   "execution_count": 40,
   "metadata": {},
   "outputs": [],
   "source": [
    "for metric in selected_metrics:\n",
    "    plot_attention_metrics_norms_over_time(time_series, metric=metric, num_heads_plot=5, plot_path=constants.PLOTS_DIR+'3-Cognitive_Tasks/3-High_Level/1-Story_Creation/1-Time_Series/'+metric+'_norms_by_layer.png')"
   ]
  },
  {
   "cell_type": "markdown",
   "metadata": {},
   "source": [
    "#### $\\Phi$ ID Computations and Heatmaps"
   ]
  },
  {
   "cell_type": "code",
   "execution_count": 41,
   "metadata": {},
   "outputs": [],
   "source": [
    "for metric in selected_metrics:\n",
    "    synergy_matrix, redundancy_matrix = calc_global_pairwise_PhiID(time_series, metric=metric)\n",
    "    plot_matrices(synergy_matrix, redundancy_matrix, plot_path=constants.PLOTS_DIR+'3-Cognitive_Tasks/3-High_Level/1-Story_Creation/2-Redundancy_Synergy_Matrices/'+ metric +'.png')"
   ]
  },
  {
   "cell_type": "markdown",
   "metadata": {},
   "source": [
    "### Low Level Task: Grammatical Correction"
   ]
  },
  {
   "cell_type": "markdown",
   "metadata": {},
   "source": [
    "#### Time Series Generation"
   ]
  },
  {
   "cell_type": "code",
   "execution_count": 42,
   "metadata": {},
   "outputs": [
    {
     "name": "stdout",
     "output_type": "stream",
     "text": [
      "Generated Text: Find the grammatical error in the following sentence: She go to the store and buy some milk.\n",
      "\n",
      "The correct sentence should be: She went to the store and bought some milk.The verb \"go\" should be used in the past tense, as she went to the store and bought some milk.The grammatical error in\n",
      "Number of Layers: 18, Number of Heads per Layer: 8, Number of Timesteps: 50\n"
     ]
    }
   ],
   "source": [
    "prompt = \"Find the grammatical error in the following sentence: She go to the store and buy some milk\"\n",
    "input_length = len(tokenizer.encode(prompt, return_tensors='pt')[0])\n",
    "random_input_length, num_tokens_to_generate, temperature = 10, 50, 0.1\n",
    "selected_metrics = ['projected_Q', 'attention_weights', 'attention_outputs']\n",
    "\n",
    "generated_text, attention_params = generate_text_with_attention(model, tokenizer, num_tokens_to_generate, device, temperature=temperature, prompt=prompt)\n",
    "time_series = compute_attention_metrics_norms(attention_params, selected_metrics, num_tokens_to_generate, random_input_length)\n",
    "\n",
    "print(f'Generated Text: {generated_text}')\n",
    "print(f\"Number of Layers: {len(time_series['attention_weights'])}, Number of Heads per Layer: {len(time_series['attention_weights'][0])}, Number of Timesteps: {len(time_series['attention_weights'][0][0])}\")"
   ]
  },
  {
   "cell_type": "markdown",
   "metadata": {},
   "source": [
    "#### Visualization and Plots"
   ]
  },
  {
   "cell_type": "code",
   "execution_count": 43,
   "metadata": {},
   "outputs": [],
   "source": [
    "for metric in selected_metrics:\n",
    "    plot_attention_metrics_norms_over_time(time_series, metric=metric, num_heads_plot=5, plot_path=constants.PLOTS_DIR+'3-Cognitive_Tasks/1-Low_Level/1-Grammatical_Correction/1-Time_Series/'+metric+'_norms_by_layer.png')"
   ]
  },
  {
   "cell_type": "markdown",
   "metadata": {},
   "source": [
    "#### $\\Phi$ ID Computations and Heatmaps"
   ]
  },
  {
   "cell_type": "code",
   "execution_count": 44,
   "metadata": {},
   "outputs": [],
   "source": [
    "for metric in selected_metrics:\n",
    "    synergy_matrix, redundancy_matrix = calc_global_pairwise_PhiID(time_series, metric=metric)\n",
    "    plot_matrices(synergy_matrix, redundancy_matrix, plot_path=constants.PLOTS_DIR+'3-Cognitive_Tasks/1-Low_Level/1-Grammatical_Correction/2-Redundancy_Synergy_Matrices/'+ metric +'.png')"
   ]
  }
 ],
 "metadata": {
  "kernelspec": {
   "display_name": "Python (ai_venv)",
   "language": "python",
   "name": "ai_venv"
  },
  "language_info": {
   "codemirror_mode": {
    "name": "ipython",
    "version": 3
   },
   "file_extension": ".py",
   "mimetype": "text/x-python",
   "name": "python",
   "nbconvert_exporter": "python",
   "pygments_lexer": "ipython3",
   "version": "3.10.12"
  }
 },
 "nbformat": 4,
 "nbformat_minor": 2
}
